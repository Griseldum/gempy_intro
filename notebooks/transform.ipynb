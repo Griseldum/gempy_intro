{
 "cells": [
  {
   "cell_type": "markdown",
   "metadata": {},
   "source": [
    "# Transform 2020: GemPy Workshop\n",
    "\n",
    "## Table of Content\n",
    "\n",
    "- Why is GemPy\n",
    "- First Surface\n",
    "- Enplaning data structures 1: Surfaces, Surface Points, Orientations\n",
    "- Exercise: Finishing the model\n",
    "\n",
    "## Why GemPy?\n",
    "\n",
    "## Installation\n",
    "\n",
    "1. Open conda prompt (Windows) or terminal (Linux/MacOS)\n",
    "2. conda create --clone tutorials --name t20-gempy\n",
    "3. https://docs.gempy.org/installation.html\n",
    "\n",
    "## Your first model"
   ]
  },
  {
   "cell_type": "code",
   "execution_count": 2,
   "metadata": {},
   "outputs": [],
   "source": [
    "# Importing GemPy\n",
    "import gempy as gp\n",
    "\n",
    "# Importing aux libraries\n",
    "from ipywidgets import interact\n",
    "import numpy as np\n",
    "import matplotlib.image as mpimg\n",
    "\n",
    "# Embedding matplotlib figures in the notebooks\n",
    "%matplotlib qt5"
   ]
  },
  {
   "cell_type": "markdown",
   "metadata": {},
   "source": [
    "### Initializing the model... But first a word about Grids:\n",
    "\n",
    "The first step to create a GemPy model is create a `gempy.Model` object that will\n",
    "contain all the other data structures and necessary functionality. In addition\n",
    " for this example we will define a *regular grid* since the beginning.\n",
    "This is the grid where we will interpolate the 3D geological model.\n",
    "\n",
    "GemPy is based on a **meshless intepolator**. In practice this means that we can\n",
    "interpolate any point in a 3D space. However, for convenience, we have built some\n",
    "standard grids for different purposes. At the current day the standard grids are:\n",
    "\n",
    "- **Regular grid**: default grid mainly for general visualization\n",
    "- **Custom grid**: GemPy's wrapper to interpolate on a user grid\n",
    "- **Topography**: Topographic data use to be of high density. Treating it as an independent\n",
    "  grid allow for high resolution geological maps\n",
    "- **Sections**: If we predefine the section 2D grid we can directly interpolate at those\n",
    "  locations for perfect, high resolution estimations\n",
    "- **Center grids**: Half sphere grids around a given point at surface. This are specially tuned\n",
    "  for geophysical forward computations\n",
    "\n",
    "For now we will use a 2.5D regular grid"
   ]
  },
  {
   "cell_type": "code",
   "execution_count": 2,
   "metadata": {},
   "outputs": [
    {
     "name": "stdout",
     "output_type": "stream",
     "text": [
      "Active grids: ['regular']\n"
     ]
    }
   ],
   "source": [
    "geo_model = gp.create_model('Transform-2020')\n",
    "geo_model = gp.init_data(geo_model,\n",
    "                         extent= [0, 791, 0, 200, -582, 0], # of the regular grid\n",
    "                         resolution=[100, 10, 100])         # of the regular grid"
   ]
  },
  {
   "cell_type": "markdown",
   "metadata": {},
   "source": [
    "GemPy core code is written in Python. However for efficiency and gradient based\n",
    "machine learning most of heavy computations happen in optimize compile code,\n",
    " either C or CUDA for GPU.\n",
    "\n",
    "To do so, GemPy rely on the library `Theano`. To guarantee maximum optimization\n",
    "`Theano` requires to compile the code for every Python kernel. The compilation is\n",
    "done by calling the following line at any point (before computing the model):"
   ]
  },
  {
   "cell_type": "code",
   "execution_count": 3,
   "metadata": {},
   "outputs": [
    {
     "name": "stdout",
     "output_type": "stream",
     "text": [
      "Setting kriging parameters to their default values.\n",
      "Compiling theano function...\n",
      "Level of Optimization:  fast_compile\n",
      "Device:  cpu\n",
      "Precision:  float64\n",
      "Number of faults:  0\n",
      "Compilation Done!\n",
      "Kriging values: \n",
      "                   values\n",
      "range             1002.2\n",
      "$C_o$            23914.4\n",
      "drift equations      [3]\n"
     ]
    },
    {
     "data": {
      "text/plain": "<gempy.core.interpolator.InterpolatorModel at 0x291b1345b08>"
     },
     "execution_count": 3,
     "metadata": {},
     "output_type": "execute_result"
    }
   ],
   "source": [
    "gp.set_interpolator(\n",
    "    geo_model,\n",
    "    output=['geology'], # In built outputs. More about this later on\n",
    "    theano_optimizer='fast_compile') # alternatives: 'fast_run' or\n",
    "                                     # check http://deeplearning.net/software/theano/tutorial/modes.html                        "
   ]
  },
  {
   "cell_type": "markdown",
   "metadata": {},
   "source": [
    "### Creating figure:\n",
    "\n",
    "GemPy uses `matplotlib` and `pyvista` for 2d and 3d visualization of the model respectively. One of the\n",
    "design decisions of GemPy is to allow real time construction of the model. What this means is that you can start\n",
    "adding input data and see in real time how the 3D surfaces evolve. Lets initialize the visualization windows.\n",
    "\n",
    "The first one is the 2d figure. Just place the window where you can see it (maybe move the jupyter notebook to half\n",
    "screen and use the other half for the renderers)."
   ]
  },
  {
   "cell_type": "code",
   "execution_count": 4,
   "metadata": {},
   "outputs": [],
   "source": [
    "p2d = gp.plot_2d(geo_model, section_names=None,\n",
    "                 direction=None, cell_number=None)"
   ]
  },
  {
   "cell_type": "markdown",
   "metadata": {},
   "source": [
    "#### Add model section\n",
    "\n",
    "In the 2d renderer we can add several cross section of the model. In this case, for simplicity sake we are just\n",
    "adding one perpendicular to y."
   ]
  },
  {
   "cell_type": "code",
   "execution_count": 5,
   "metadata": {},
   "outputs": [],
   "source": [
    "# In this case perpendicular to the y axes\n",
    "ax = p2d.add_section(cell_number=1, direction='y')"
   ]
  },
  {
   "cell_type": "markdown",
   "metadata": {},
   "source": [
    "#### Loading cross-section image:\n",
    "\n",
    "Remember that `gempy` is simply using `matplotlib` and therefore the ax object\n",
    " created above is a standard `matplotlib` axes.\n",
    "\n",
    "Lets load an image with the information of couple of boreholes"
   ]
  },
  {
   "cell_type": "code",
   "execution_count": 6,
   "metadata": {},
   "outputs": [
    {
     "data": {
      "text/plain": "<matplotlib.image.AxesImage at 0x291c1233808>"
     },
     "execution_count": 6,
     "metadata": {},
     "output_type": "execute_result"
    }
   ],
   "source": [
    "# Reading image\n",
    "img = mpimg.imread('wells.png')\n",
    "# Plotting it inplace\n",
    "ax.imshow(img, origin='upper', alpha=.8, extent = (0, 791, -582,0))"
   ]
  },
  {
   "cell_type": "markdown",
   "metadata": {},
   "source": [
    "We can do the same in 3D through `pyvista` and vtk rendering.\n",
    "\n",
    "Click the qt5 button Back (+Y) to have the same view as in the 2D viewer:"
   ]
  },
  {
   "cell_type": "code",
   "execution_count": 7,
   "metadata": {},
   "outputs": [],
   "source": [
    "p3d = gp.plot_3d(geo_model, plotter_type='background', notebook=False)"
   ]
  },
  {
   "cell_type": "markdown",
   "metadata": {},
   "source": [
    "## Building the model\n",
    "\n",
    "Now that we have the model initialize and the 2D and 3D render in place we can\n",
    " start the construction of the geological model. \n",
    "\n",
    "### Surfaces\n",
    "\n",
    "GemPy is a surface based interpolator. This means that all the input data we add has to be refereed to a surface. The\n",
    " surfaces always mark the **bottom** of a unit. \n",
    " \n",
    " By default GemPy surfaces are empty:"
   ]
  },
  {
   "cell_type": "code",
   "execution_count": 8,
   "metadata": {},
   "outputs": [
    {
     "data": {
      "text/plain": "Empty DataFrame\nColumns: [surface, series, order_surfaces, color, id]\nIndex: []",
      "text/html": "<style  type=\"text/css\" >\n</style><table id=\"T_23508386_a4dd_11ea_b773_5cf370744477\" ><thead>    <tr>        <th class=\"blank level0\" ></th>        <th class=\"col_heading level0 col0\" >surface</th>        <th class=\"col_heading level0 col1\" >series</th>        <th class=\"col_heading level0 col2\" >order_surfaces</th>        <th class=\"col_heading level0 col3\" >color</th>        <th class=\"col_heading level0 col4\" >id</th>    </tr></thead><tbody>\n        </tbody></table>"
     },
     "execution_count": 8,
     "metadata": {},
     "output_type": "execute_result"
    }
   ],
   "source": [
    "geo_model.surfaces"
   ]
  },
  {
   "cell_type": "markdown",
   "metadata": {},
   "source": [
    "If we do not care about the names and we just want to interpolate a surface we can use.\n",
    "It is important to notice that **the bottom\n",
    "most layer will be considered always basement and therefore not interpolated**. Still\n",
    "we can add values or change the color of that \"surface\" (for lack of a better name) to\n",
    "populate the lower most volume.\n"
   ]
  },
  {
   "cell_type": "code",
   "execution_count": 13,
   "metadata": {},
   "outputs": [
    {
     "data": {
      "text/plain": "    surface          series  order_surfaces    color  id\n0  surface1  Default series               1  #015482   1\n1  surface2  Default series               2  #9f0052   2",
      "text/html": "<style  type=\"text/css\" >\n    #T_4f92fe88_a4dd_11ea_8144_5cf370744477row0_col3 {\n            background-color:  #015482;\n        }    #T_4f92fe88_a4dd_11ea_8144_5cf370744477row1_col3 {\n            background-color:  #9f0052;\n        }</style><table id=\"T_4f92fe88_a4dd_11ea_8144_5cf370744477\" ><thead>    <tr>        <th class=\"blank level0\" ></th>        <th class=\"col_heading level0 col0\" >surface</th>        <th class=\"col_heading level0 col1\" >series</th>        <th class=\"col_heading level0 col2\" >order_surfaces</th>        <th class=\"col_heading level0 col3\" >color</th>        <th class=\"col_heading level0 col4\" >id</th>    </tr></thead><tbody>\n                <tr>\n                        <th id=\"T_4f92fe88_a4dd_11ea_8144_5cf370744477level0_row0\" class=\"row_heading level0 row0\" >0</th>\n                        <td id=\"T_4f92fe88_a4dd_11ea_8144_5cf370744477row0_col0\" class=\"data row0 col0\" >surface1</td>\n                        <td id=\"T_4f92fe88_a4dd_11ea_8144_5cf370744477row0_col1\" class=\"data row0 col1\" >Default series</td>\n                        <td id=\"T_4f92fe88_a4dd_11ea_8144_5cf370744477row0_col2\" class=\"data row0 col2\" >1</td>\n                        <td id=\"T_4f92fe88_a4dd_11ea_8144_5cf370744477row0_col3\" class=\"data row0 col3\" >#015482</td>\n                        <td id=\"T_4f92fe88_a4dd_11ea_8144_5cf370744477row0_col4\" class=\"data row0 col4\" >1</td>\n            </tr>\n            <tr>\n                        <th id=\"T_4f92fe88_a4dd_11ea_8144_5cf370744477level0_row1\" class=\"row_heading level0 row1\" >1</th>\n                        <td id=\"T_4f92fe88_a4dd_11ea_8144_5cf370744477row1_col0\" class=\"data row1 col0\" >surface2</td>\n                        <td id=\"T_4f92fe88_a4dd_11ea_8144_5cf370744477row1_col1\" class=\"data row1 col1\" >Default series</td>\n                        <td id=\"T_4f92fe88_a4dd_11ea_8144_5cf370744477row1_col2\" class=\"data row1 col2\" >2</td>\n                        <td id=\"T_4f92fe88_a4dd_11ea_8144_5cf370744477row1_col3\" class=\"data row1 col3\" >#9f0052</td>\n                        <td id=\"T_4f92fe88_a4dd_11ea_8144_5cf370744477row1_col4\" class=\"data row1 col4\" >2</td>\n            </tr>\n    </tbody></table>"
     },
     "execution_count": 13,
     "metadata": {},
     "output_type": "execute_result"
    }
   ],
   "source": [
    "# Default surfaces:\n",
    "geo_model.set_default_surfaces()"
   ]
  },
  {
   "cell_type": "code",
   "execution_count": 13,
   "outputs": [
    {
     "data": {
      "text/plain": "Empty DataFrame\nColumns: [surface, series, order_surfaces, color, id]\nIndex: []",
      "text/html": "<style  type=\"text/css\" >\n</style><table id=\"T_c3ec4ca4_a4d8_11ea_86ef_5cf370744477\" ><thead>    <tr>        <th class=\"blank level0\" ></th>        <th class=\"col_heading level0 col0\" >surface</th>        <th class=\"col_heading level0 col1\" >series</th>        <th class=\"col_heading level0 col2\" >order_surfaces</th>        <th class=\"col_heading level0 col3\" >color</th>        <th class=\"col_heading level0 col4\" >id</th>    </tr></thead><tbody>\n        </tbody></table>"
     },
     "execution_count": 13,
     "metadata": {},
     "output_type": "execute_result"
    }
   ],
   "source": [
    "geo_model.surfaces\n"
   ],
   "metadata": {
    "collapsed": false,
    "pycharm": {
     "name": "#%%\n"
    }
   }
  },
  {
   "cell_type": "markdown",
   "metadata": {},
   "source": [
    "We will see more about data structures below.\n",
    "\n",
    "Now we can start adding data. GemPy input data consist on surface points and\n",
    "orientations (perpendicular to the layers). The 2D plot gives you the X and Z coordinates when hovering the mouse\n",
    " over. We can add a surface point as follows:\n"
   ]
  },
  {
   "cell_type": "code",
   "execution_count": 17,
   "metadata": {},
   "outputs": [],
   "source": [
    "# Add a point. If idx is None, next available index will be used. Here we pass it\n",
    "# explicitly for consistency\n",
    "geo_model.add_surface_points(X=223, Y=0.01, Z=-94, surface='surface1', idx=0)\n",
    "\n",
    "# Plot in 2D\n",
    "p2d.plot_data(ax, cell_number=11)\n",
    "\n",
    "# Plot in 3D\n",
    "p3d.plot_data()"
   ]
  },
  {
   "cell_type": "markdown",
   "metadata": {},
   "source": [
    "Now we can add the other two points of the layer:"
   ]
  },
  {
   "cell_type": "code",
   "execution_count": 16,
   "metadata": {},
   "outputs": [
    {
     "data": {
      "text/plain": "(vtkmodules.vtkRenderingOpenGL2.vtkOpenGLActor)00000291BD279648"
     },
     "execution_count": 16,
     "metadata": {},
     "output_type": "execute_result"
    }
   ],
   "source": [
    "# Add points\n",
    "geo_model.add_surface_points(X=458, Y=0, Z=-107, surface='surface1', idx=1)\n",
    "geo_model.add_surface_points(X=612, Y=0, Z=-14, surface='surface1', idx=2)\n",
    "\n",
    "# Plotting\n",
    "p2d.plot_data(ax, cell_number=11)\n",
    "p3d.plot_surface_points()"
   ]
  },
  {
   "cell_type": "markdown",
   "metadata": {},
   "source": [
    "The **minimum amount of input data** to interpolate anything in `gempy` is:\n",
    "\n",
    "a) 2 surface points per surface\n",
    "\n",
    "b) One orientation per series.\n",
    "\n",
    "Lets add an orientation anywhere in space:"
   ]
  },
  {
   "cell_type": "code",
   "execution_count": 15,
   "metadata": {},
   "outputs": [],
   "source": [
    "# Adding orientation\n",
    "geo_model.add_orientations(X=350, Y=0, Z=-300, surface='surface1', pole_vector= (0,0,1))\n",
    "p2d.plot_data(ax, cell_number=5)\n",
    "p3d.plot_data()"
   ]
  },
  {
   "cell_type": "markdown",
   "metadata": {},
   "source": [
    "Now we have enough data to finally **interpolate**!"
   ]
  },
  {
   "cell_type": "code",
   "execution_count": 18,
   "metadata": {},
   "outputs": [
    {
     "data": {
      "text/plain": "\nLithology ids \n  [2. 2. 2. ... 2. 2. 2.] "
     },
     "execution_count": 18,
     "metadata": {},
     "output_type": "execute_result"
    }
   ],
   "source": [
    "gp.compute_model(geo_model)"
   ]
  },
  {
   "cell_type": "markdown",
   "metadata": {},
   "source": [
    "That is, we have interpolated the 3D surface. We can visualize with:"
   ]
  },
  {
   "cell_type": "code",
   "execution_count": 19,
   "metadata": {},
   "outputs": [
    {
     "data": {
      "text/plain": "{'surface1': (vtkmodules.vtkRenderingOpenGL2.vtkOpenGLActor)00000291BD289CA8}"
     },
     "execution_count": 19,
     "metadata": {},
     "output_type": "execute_result"
    }
   ],
   "source": [
    "# In 2D\n",
    "p2d.plot_contacts(ax, cell_number=5)\n",
    "\n",
    "# In 3D\n",
    "p3d.plot_surfaces()"
   ]
  },
  {
   "cell_type": "markdown",
   "metadata": {},
   "source": [
    "Congratulations! You have learnt how to create a surface. From here on, we will\n",
    "learn how to combine multiple surfaces to little by little construct a full realize\n",
    "3D structural model.\n",
    "\n",
    "-----------\n",
    "## Intermission: GemPy data classes\n",
    "\n",
    "GemPy depends on multiple data objects to store all the data structures necessary\n",
    "to construct an structural model. To keep all the necessary objects in sync the\n",
    "class `gempy.ImplicitCoKriging` (which `geo_model` is instance of) will provide the\n",
    "necessary methods to update these data structures coherently.\n",
    "\n",
    "At current state (gempy 2.2), the data classes are:\n",
    "\n",
    "- `gempy.SurfacePoints`\n",
    "- `gempy.Orientations`\n",
    "- `gempy.Surfaces`\n",
    "- `gempy.Stack` (combination of `gempy.Series` and `gempy.Faults`)\n",
    "- `gempy.Grid`\n",
    "- `gempy.AdditionalData`\n",
    "- `gempy.Solutions`\n",
    "\n",
    "Today we will look into details only some of these classes but what is important\n",
    "to notice is that you can access these objects as follows:"
   ]
  },
  {
   "cell_type": "code",
   "execution_count": null,
   "outputs": [],
   "source": [
    "# The default surfaces once again\n",
    "geo_model.surfaces"
   ],
   "metadata": {
    "collapsed": false,
    "pycharm": {
     "name": "#%%\n"
    }
   }
  },
  {
   "cell_type": "code",
   "execution_count": 20,
   "outputs": [
    {
     "data": {
      "text/plain": "       X     Y      Z    smooth   surface\n0  223.0  0.01  -94.0  0.000001  surface1\n1  458.0  0.00 -107.0  0.000001  surface1\n2  612.0  0.00  -14.0  0.000001  surface1",
      "text/html": "<table border=\"1\" class=\"dataframe\">\n  <thead>\n    <tr style=\"text-align: right;\">\n      <th></th>\n      <th>X</th>\n      <th>Y</th>\n      <th>Z</th>\n      <th>smooth</th>\n      <th>surface</th>\n    </tr>\n  </thead>\n  <tbody>\n    <tr>\n      <th>0</th>\n      <td>223.0</td>\n      <td>0.01</td>\n      <td>-94.0</td>\n      <td>0.000001</td>\n      <td>surface1</td>\n    </tr>\n    <tr>\n      <th>1</th>\n      <td>458.0</td>\n      <td>0.00</td>\n      <td>-107.0</td>\n      <td>0.000001</td>\n      <td>surface1</td>\n    </tr>\n    <tr>\n      <th>2</th>\n      <td>612.0</td>\n      <td>0.00</td>\n      <td>-14.0</td>\n      <td>0.000001</td>\n      <td>surface1</td>\n    </tr>\n  </tbody>\n</table>"
     },
     "execution_count": 20,
     "metadata": {},
     "output_type": "execute_result"
    }
   ],
   "source": [
    "# Also the surface points\n",
    "geo_model.surface_points"
   ],
   "metadata": {
    "collapsed": false,
    "pycharm": {
     "name": "#%%\n"
    }
   }
  },
  {
   "cell_type": "code",
   "execution_count": 21,
   "outputs": [
    {
     "data": {
      "text/plain": "[array([[  3.955     ,  10.        , -64.28490875],\n        [  3.955     ,  30.        , -64.3000058 ],\n        [ 11.865     ,  10.        , -64.6319632 ],\n        ...,\n        [624.85240288, 110.        ,  -2.91      ],\n        [623.23234711, 130.        ,  -2.91      ],\n        [621.12407188, 150.        ,  -2.91      ]])]"
     },
     "execution_count": 21,
     "metadata": {},
     "output_type": "execute_result"
    }
   ],
   "source": [
    "# To find the location of the surface we just plot\n",
    "geo_model.solutions.vertices"
   ],
   "metadata": {
    "collapsed": false,
    "pycharm": {
     "name": "#%%\n"
    }
   }
  },
  {
   "cell_type": "code",
   "execution_count": 24,
   "outputs": [
    {
     "data": {
      "text/plain": "(Grid Object. Values: \n array([[   3.955,   10.   , -579.09 ],\n        [   3.955,   10.   , -573.27 ],\n        [   3.955,   10.   , -567.45 ],\n        ...,\n        [ 787.045,  190.   ,  -14.55 ],\n        [ 787.045,  190.   ,   -8.73 ],\n        [ 787.045,  190.   ,   -2.91 ]]),\n 100000)"
     },
     "execution_count": 24,
     "metadata": {},
     "output_type": "execute_result"
    }
   ],
   "source": [
    "# The grid values:\n",
    "geo_model.grid, len(geo_model.grid.values)"
   ],
   "metadata": {
    "collapsed": false,
    "pycharm": {
     "name": "#%%\n"
    }
   }
  },
  {
   "cell_type": "code",
   "execution_count": 26,
   "outputs": [
    {
     "data": {
      "text/plain": "(array([2., 2., 2., ..., 2., 2., 2.]), 100000)"
     },
     "execution_count": 26,
     "metadata": {},
     "output_type": "execute_result"
    }
   ],
   "source": [
    "# And its correspondent ids:\n",
    "geo_model.solutions.lith_block, len(geo_model.solutions.lith_block)"
   ],
   "metadata": {
    "collapsed": false,
    "pycharm": {
     "name": "#%%\n"
    }
   }
  },
  {
   "cell_type": "markdown",
   "source": [
    "------\n",
    "\n",
    "## Adding more layers\n",
    "\n",
    "<div class=\"alert alert-block alert-warning\">\n",
    "<b>Exercise:</b> So far we only need 2 units defined. The cross-section image that\n",
    " we load have 4 however. Lets add two layers more:\n",
    "</div>"
   ],
   "metadata": {
    "collapsed": false
   }
  },
  {
   "cell_type": "markdown",
   "metadata": {},
   "source": [
    "### Layer 2\n",
    "\n",
    "First we need to add some more layers."
   ]
  },
  {
   "cell_type": "code",
   "execution_count": 28,
   "outputs": [
    {
     "ename": "ValueError",
     "evalue": "new categories must not include old categories: {'basement', 'surface3'}",
     "output_type": "error",
     "traceback": [
      "\u001B[1;31m---------------------------------------------------------------------------\u001B[0m",
      "\u001B[1;31mValueError\u001B[0m                                Traceback (most recent call last)",
      "\u001B[1;32m<ipython-input-28-1513ec05b05d>\u001B[0m in \u001B[0;36m<module>\u001B[1;34m\u001B[0m\n\u001B[0;32m      1\u001B[0m \u001B[1;31m# We can add already two extra surfaces\u001B[0m\u001B[1;33m\u001B[0m\u001B[1;33m\u001B[0m\u001B[1;33m\u001B[0m\u001B[0m\n\u001B[1;32m----> 2\u001B[1;33m \u001B[0mgeo_model\u001B[0m\u001B[1;33m.\u001B[0m\u001B[0madd_surfaces\u001B[0m\u001B[1;33m(\u001B[0m\u001B[1;33m[\u001B[0m\u001B[1;34m'surface3'\u001B[0m\u001B[1;33m,\u001B[0m \u001B[1;34m'basement'\u001B[0m\u001B[1;33m]\u001B[0m\u001B[1;33m)\u001B[0m\u001B[1;33m\u001B[0m\u001B[1;33m\u001B[0m\u001B[0m\n\u001B[0m\u001B[0;32m      3\u001B[0m \u001B[1;33m\u001B[0m\u001B[0m\n",
      "\u001B[1;32mi:\\pycharmprojects\\gempy\\gempy\\core\\model.py\u001B[0m in \u001B[0;36madd_surfaces\u001B[1;34m(self, surface_list, update_df)\u001B[0m\n\u001B[0;32m    736\u001B[0m     \u001B[1;32mdef\u001B[0m \u001B[0madd_surfaces\u001B[0m\u001B[1;33m(\u001B[0m\u001B[0mself\u001B[0m\u001B[1;33m,\u001B[0m \u001B[0msurface_list\u001B[0m\u001B[1;33m:\u001B[0m \u001B[0mUnion\u001B[0m\u001B[1;33m[\u001B[0m\u001B[0mstr\u001B[0m\u001B[1;33m,\u001B[0m \u001B[0mlist\u001B[0m\u001B[1;33m]\u001B[0m\u001B[1;33m,\u001B[0m \u001B[0mupdate_df\u001B[0m\u001B[1;33m=\u001B[0m\u001B[1;32mTrue\u001B[0m\u001B[1;33m)\u001B[0m\u001B[1;33m:\u001B[0m\u001B[1;33m\u001B[0m\u001B[1;33m\u001B[0m\u001B[0m\n\u001B[0;32m    737\u001B[0m         \u001B[0mself\u001B[0m\u001B[1;33m.\u001B[0m\u001B[0m_surfaces\u001B[0m\u001B[1;33m.\u001B[0m\u001B[0madd_surface\u001B[0m\u001B[1;33m(\u001B[0m\u001B[0msurface_list\u001B[0m\u001B[1;33m,\u001B[0m \u001B[0mupdate_df\u001B[0m\u001B[1;33m)\u001B[0m\u001B[1;33m\u001B[0m\u001B[1;33m\u001B[0m\u001B[0m\n\u001B[1;32m--> 738\u001B[1;33m         \u001B[0mself\u001B[0m\u001B[1;33m.\u001B[0m\u001B[0m_surface_points\u001B[0m\u001B[1;33m.\u001B[0m\u001B[0mdf\u001B[0m\u001B[1;33m[\u001B[0m\u001B[1;34m'surface'\u001B[0m\u001B[1;33m]\u001B[0m\u001B[1;33m.\u001B[0m\u001B[0mcat\u001B[0m\u001B[1;33m.\u001B[0m\u001B[0madd_categories\u001B[0m\u001B[1;33m(\u001B[0m\u001B[0msurface_list\u001B[0m\u001B[1;33m,\u001B[0m \u001B[0minplace\u001B[0m\u001B[1;33m=\u001B[0m\u001B[1;32mTrue\u001B[0m\u001B[1;33m)\u001B[0m\u001B[1;33m\u001B[0m\u001B[1;33m\u001B[0m\u001B[0m\n\u001B[0m\u001B[0;32m    739\u001B[0m         \u001B[0mself\u001B[0m\u001B[1;33m.\u001B[0m\u001B[0m_orientations\u001B[0m\u001B[1;33m.\u001B[0m\u001B[0mdf\u001B[0m\u001B[1;33m[\u001B[0m\u001B[1;34m'surface'\u001B[0m\u001B[1;33m]\u001B[0m\u001B[1;33m.\u001B[0m\u001B[0mcat\u001B[0m\u001B[1;33m.\u001B[0m\u001B[0madd_categories\u001B[0m\u001B[1;33m(\u001B[0m\u001B[0msurface_list\u001B[0m\u001B[1;33m,\u001B[0m \u001B[0minplace\u001B[0m\u001B[1;33m=\u001B[0m\u001B[1;32mTrue\u001B[0m\u001B[1;33m)\u001B[0m\u001B[1;33m\u001B[0m\u001B[1;33m\u001B[0m\u001B[0m\n\u001B[0;32m    740\u001B[0m         \u001B[0mself\u001B[0m\u001B[1;33m.\u001B[0m\u001B[0mupdate_structure\u001B[0m\u001B[1;33m(\u001B[0m\u001B[1;33m)\u001B[0m\u001B[1;33m\u001B[0m\u001B[1;33m\u001B[0m\u001B[0m\n",
      "\u001B[1;32m~\\miniconda3\\envs\\gp\\lib\\site-packages\\pandas\\core\\accessor.py\u001B[0m in \u001B[0;36mf\u001B[1;34m(self, *args, **kwargs)\u001B[0m\n\u001B[0;32m     97\u001B[0m         \u001B[1;32mdef\u001B[0m \u001B[0m_create_delegator_method\u001B[0m\u001B[1;33m(\u001B[0m\u001B[0mname\u001B[0m\u001B[1;33m)\u001B[0m\u001B[1;33m:\u001B[0m\u001B[1;33m\u001B[0m\u001B[1;33m\u001B[0m\u001B[0m\n\u001B[0;32m     98\u001B[0m             \u001B[1;32mdef\u001B[0m \u001B[0mf\u001B[0m\u001B[1;33m(\u001B[0m\u001B[0mself\u001B[0m\u001B[1;33m,\u001B[0m \u001B[1;33m*\u001B[0m\u001B[0margs\u001B[0m\u001B[1;33m,\u001B[0m \u001B[1;33m**\u001B[0m\u001B[0mkwargs\u001B[0m\u001B[1;33m)\u001B[0m\u001B[1;33m:\u001B[0m\u001B[1;33m\u001B[0m\u001B[1;33m\u001B[0m\u001B[0m\n\u001B[1;32m---> 99\u001B[1;33m                 \u001B[1;32mreturn\u001B[0m \u001B[0mself\u001B[0m\u001B[1;33m.\u001B[0m\u001B[0m_delegate_method\u001B[0m\u001B[1;33m(\u001B[0m\u001B[0mname\u001B[0m\u001B[1;33m,\u001B[0m \u001B[1;33m*\u001B[0m\u001B[0margs\u001B[0m\u001B[1;33m,\u001B[0m \u001B[1;33m**\u001B[0m\u001B[0mkwargs\u001B[0m\u001B[1;33m)\u001B[0m\u001B[1;33m\u001B[0m\u001B[1;33m\u001B[0m\u001B[0m\n\u001B[0m\u001B[0;32m    100\u001B[0m \u001B[1;33m\u001B[0m\u001B[0m\n\u001B[0;32m    101\u001B[0m             \u001B[0mf\u001B[0m\u001B[1;33m.\u001B[0m\u001B[0m__name__\u001B[0m \u001B[1;33m=\u001B[0m \u001B[0mname\u001B[0m\u001B[1;33m\u001B[0m\u001B[1;33m\u001B[0m\u001B[0m\n",
      "\u001B[1;32m~\\miniconda3\\envs\\gp\\lib\\site-packages\\pandas\\core\\arrays\\categorical.py\u001B[0m in \u001B[0;36m_delegate_method\u001B[1;34m(self, name, *args, **kwargs)\u001B[0m\n\u001B[0;32m   2558\u001B[0m \u001B[1;33m\u001B[0m\u001B[0m\n\u001B[0;32m   2559\u001B[0m         \u001B[0mmethod\u001B[0m \u001B[1;33m=\u001B[0m \u001B[0mgetattr\u001B[0m\u001B[1;33m(\u001B[0m\u001B[0mself\u001B[0m\u001B[1;33m.\u001B[0m\u001B[0m_parent\u001B[0m\u001B[1;33m,\u001B[0m \u001B[0mname\u001B[0m\u001B[1;33m)\u001B[0m\u001B[1;33m\u001B[0m\u001B[1;33m\u001B[0m\u001B[0m\n\u001B[1;32m-> 2560\u001B[1;33m         \u001B[0mres\u001B[0m \u001B[1;33m=\u001B[0m \u001B[0mmethod\u001B[0m\u001B[1;33m(\u001B[0m\u001B[1;33m*\u001B[0m\u001B[0margs\u001B[0m\u001B[1;33m,\u001B[0m \u001B[1;33m**\u001B[0m\u001B[0mkwargs\u001B[0m\u001B[1;33m)\u001B[0m\u001B[1;33m\u001B[0m\u001B[1;33m\u001B[0m\u001B[0m\n\u001B[0m\u001B[0;32m   2561\u001B[0m         \u001B[1;32mif\u001B[0m \u001B[0mres\u001B[0m \u001B[1;32mis\u001B[0m \u001B[1;32mnot\u001B[0m \u001B[1;32mNone\u001B[0m\u001B[1;33m:\u001B[0m\u001B[1;33m\u001B[0m\u001B[1;33m\u001B[0m\u001B[0m\n\u001B[0;32m   2562\u001B[0m             \u001B[1;32mreturn\u001B[0m \u001B[0mSeries\u001B[0m\u001B[1;33m(\u001B[0m\u001B[0mres\u001B[0m\u001B[1;33m,\u001B[0m \u001B[0mindex\u001B[0m\u001B[1;33m=\u001B[0m\u001B[0mself\u001B[0m\u001B[1;33m.\u001B[0m\u001B[0m_index\u001B[0m\u001B[1;33m,\u001B[0m \u001B[0mname\u001B[0m\u001B[1;33m=\u001B[0m\u001B[0mself\u001B[0m\u001B[1;33m.\u001B[0m\u001B[0m_name\u001B[0m\u001B[1;33m)\u001B[0m\u001B[1;33m\u001B[0m\u001B[1;33m\u001B[0m\u001B[0m\n",
      "\u001B[1;32m~\\miniconda3\\envs\\gp\\lib\\site-packages\\pandas\\core\\arrays\\categorical.py\u001B[0m in \u001B[0;36madd_categories\u001B[1;34m(self, new_categories, inplace)\u001B[0m\n\u001B[0;32m   1026\u001B[0m         \u001B[1;32mif\u001B[0m \u001B[0mlen\u001B[0m\u001B[1;33m(\u001B[0m\u001B[0malready_included\u001B[0m\u001B[1;33m)\u001B[0m \u001B[1;33m!=\u001B[0m \u001B[1;36m0\u001B[0m\u001B[1;33m:\u001B[0m\u001B[1;33m\u001B[0m\u001B[1;33m\u001B[0m\u001B[0m\n\u001B[0;32m   1027\u001B[0m             raise ValueError(\n\u001B[1;32m-> 1028\u001B[1;33m                 \u001B[1;34mf\"new categories must not include old categories: {already_included}\"\u001B[0m\u001B[1;33m\u001B[0m\u001B[1;33m\u001B[0m\u001B[0m\n\u001B[0m\u001B[0;32m   1029\u001B[0m             )\n\u001B[0;32m   1030\u001B[0m         \u001B[0mnew_categories\u001B[0m \u001B[1;33m=\u001B[0m \u001B[0mlist\u001B[0m\u001B[1;33m(\u001B[0m\u001B[0mself\u001B[0m\u001B[1;33m.\u001B[0m\u001B[0mdtype\u001B[0m\u001B[1;33m.\u001B[0m\u001B[0mcategories\u001B[0m\u001B[1;33m)\u001B[0m \u001B[1;33m+\u001B[0m \u001B[0mlist\u001B[0m\u001B[1;33m(\u001B[0m\u001B[0mnew_categories\u001B[0m\u001B[1;33m)\u001B[0m\u001B[1;33m\u001B[0m\u001B[1;33m\u001B[0m\u001B[0m\n",
      "\u001B[1;31mValueError\u001B[0m: new categories must not include old categories: {'basement', 'surface3'}"
     ]
    }
   ],
   "source": [
    "# We can add already two extra surfaces\n",
    "geo_model.add_surfaces(['surface3', 'basement'])"
   ],
   "metadata": {
    "collapsed": false,
    "pycharm": {
     "name": "#%%\n"
    }
   }
  },
  {
   "cell_type": "code",
   "execution_count": 29,
   "metadata": {},
   "outputs": [],
   "source": [
    "# Your code here:\n",
    "geo_model.add_surface_points(X=225, Y=0, Z=-269, surface='surface2', idx=3)\n",
    "geo_model.add_surface_points(X=459, Y=0, Z=-279, surface='surface2', idx=4)\n",
    "\n",
    "#--------------------\n",
    "# Plot data\n",
    "p2d.plot_data(ax)\n",
    "p3d.plot_data()"
   ]
  },
  {
   "cell_type": "code",
   "execution_count": 30,
   "metadata": {},
   "outputs": [
    {
     "data": {
      "text/plain": "[StructuredGrid (0x291c66bedc8)\n   N Cells:\t88209\n   N Points:\t100000\n   X Bounds:\t3.955e+00, 7.870e+02\n   Y Bounds:\t1.000e+01, 1.900e+02\n   Z Bounds:\t-5.791e+02, -2.910e+00\n   Dimensions:\t100, 10, 100\n   N Arrays:\t2,\n <matplotlib.colors.ListedColormap at 0x291d276b748>]"
     },
     "execution_count": 30,
     "metadata": {},
     "output_type": "execute_result"
    }
   ],
   "source": [
    "# Compute model\n",
    "gp.compute_model(geo_model)\n",
    "\n",
    "# Plot 2D\n",
    "p2d.plot_lith(ax, cell_number=5)\n",
    "p2d.plot_contacts(ax, cell_number=5)\n",
    "\n",
    "# Plot 3D\n",
    "p3d.plot_surfaces()\n",
    "p3d.plot_structured_grid(opacity=.2, annotations = {1: 'surface1', 2:'surface2', 3:'surface3'})\n"
   ]
  },
  {
   "cell_type": "markdown",
   "metadata": {},
   "source": [
    "### Layer 3"
   ]
  },
  {
   "cell_type": "code",
   "execution_count": 31,
   "metadata": {},
   "outputs": [],
   "source": [
    "# Your code here:\n",
    "# Add points\n",
    "geo_model.add_surface_points(X=225, Y=0, Z=-439, surface='surface3')\n",
    "geo_model.add_surface_points(X=464, Y=0, Z=-456, surface='surface3')\n",
    "geo_model.add_surface_points(X=619, Y=0, Z=-433, surface='surface3')\n",
    "\n",
    "# Compute model\n",
    "gp.compute_model(geo_model)\n",
    "\n",
    "# Plotting\n",
    "p2d.plot_data(ax, cell_number=5)\n",
    "p2d.plot_lith(ax, cell_number=5)\n",
    "p2d.plot_contacts(ax, cell_number=5)\n",
    "\n",
    "p3d.plot_surfaces()\n",
    "p3d.plot_structured_grid(opacity=.2, annotations = {1: 'surface1', 2:'surface2', 3:'surface3', 4:'basement'})\n",
    "p3d.plot_data()\n",
    "# ------------------"
   ]
  },
  {
   "cell_type": "code",
   "execution_count": 35,
   "outputs": [
    {
     "data": {
      "text/plain": "True"
     },
     "execution_count": 35,
     "metadata": {},
     "output_type": "execute_result"
    }
   ],
   "source": [
    "# gp.save_model_to_pickle(geo_model, 'checkpoint1')"
   ],
   "metadata": {
    "collapsed": false,
    "pycharm": {
     "name": "#%%\n"
    }
   }
  },
  {
   "cell_type": "markdown",
   "source": [
    "-------------------\n",
    "## Intermission: GemPy data structures: Surfaces Points, Orientations and surfaces\n",
    "\n",
    "On GemPy each surface is not independent of each other. Some surfaces will be\n",
    "subparallel to each other while other surfaces will define a fault plane where\n",
    "an offset may occur.\n",
    "\n",
    "In order to account for all possible combinations, we use **categories** (in many\n",
    "instances literal `pandas.CategoricalDtype`) and **ordered** `pandas.Dataframes`.\n",
    "Let's take a look at `gempy.SurfacePoints`:"
   ],
   "metadata": {
    "collapsed": false,
    "pycharm": {
     "name": "#%% md\n"
    }
   }
  },
  {
   "cell_type": "code",
   "execution_count": 33,
   "metadata": {},
   "outputs": [
    {
     "data": {
      "text/plain": "       X     Y      Z    smooth   surface\n1  458.0  0.00 -107.0  0.000001  surface1\n2  612.0  0.00  -14.0  0.000001  surface1\n0  223.0  0.01  -94.0  0.000001  surface1\n3  225.0  0.00 -269.0  0.000001  surface2\n4  459.0  0.00 -279.0  0.000001  surface2\n5  225.0  0.00 -439.0  0.000001  surface3\n6  464.0  0.00 -456.0  0.000001  surface3\n7  619.0  0.00 -433.0  0.000001  surface3",
      "text/html": "<table border=\"1\" class=\"dataframe\">\n  <thead>\n    <tr style=\"text-align: right;\">\n      <th></th>\n      <th>X</th>\n      <th>Y</th>\n      <th>Z</th>\n      <th>smooth</th>\n      <th>surface</th>\n    </tr>\n  </thead>\n  <tbody>\n    <tr>\n      <th>1</th>\n      <td>458.0</td>\n      <td>0.00</td>\n      <td>-107.0</td>\n      <td>0.000001</td>\n      <td>surface1</td>\n    </tr>\n    <tr>\n      <th>2</th>\n      <td>612.0</td>\n      <td>0.00</td>\n      <td>-14.0</td>\n      <td>0.000001</td>\n      <td>surface1</td>\n    </tr>\n    <tr>\n      <th>0</th>\n      <td>223.0</td>\n      <td>0.01</td>\n      <td>-94.0</td>\n      <td>0.000001</td>\n      <td>surface1</td>\n    </tr>\n    <tr>\n      <th>3</th>\n      <td>225.0</td>\n      <td>0.00</td>\n      <td>-269.0</td>\n      <td>0.000001</td>\n      <td>surface2</td>\n    </tr>\n    <tr>\n      <th>4</th>\n      <td>459.0</td>\n      <td>0.00</td>\n      <td>-279.0</td>\n      <td>0.000001</td>\n      <td>surface2</td>\n    </tr>\n    <tr>\n      <th>5</th>\n      <td>225.0</td>\n      <td>0.00</td>\n      <td>-439.0</td>\n      <td>0.000001</td>\n      <td>surface3</td>\n    </tr>\n    <tr>\n      <th>6</th>\n      <td>464.0</td>\n      <td>0.00</td>\n      <td>-456.0</td>\n      <td>0.000001</td>\n      <td>surface3</td>\n    </tr>\n    <tr>\n      <th>7</th>\n      <td>619.0</td>\n      <td>0.00</td>\n      <td>-433.0</td>\n      <td>0.000001</td>\n      <td>surface3</td>\n    </tr>\n  </tbody>\n</table>"
     },
     "execution_count": 33,
     "metadata": {},
     "output_type": "execute_result"
    }
   ],
   "source": [
    "geo_model.surface_points\n"
   ]
  },
  {
   "cell_type": "markdown",
   "source": [
    "<div class=\"alert alert-block alert-info\"><b>Checkpoint:</b> Next cell will load the\n",
    "model from memory to the necessary state to continue.</div>"
   ],
   "metadata": {
    "collapsed": false,
    "pycharm": {
     "name": "#%% md\n"
    }
   }
  },
  {
   "cell_type": "code",
   "execution_count": 9,
   "outputs": [],
   "source": [
    "geo_model = gp.load_model_pickle('checkpoint1.pickle')\n",
    "\n",
    "# Default plotting setting\n",
    "p2d = gp.plot_2d(geo_model)\n",
    "# Reading image\n",
    "img = mpimg.imread('wells.png')\n",
    "# Plotting it inplace\n",
    "p2d.axes[0].imshow(img, origin='upper', alpha=.8, extent = (0, 791, -582,0))\n",
    "p3d = gp.plot_3d(geo_model, plotter_type='background')"
   ],
   "metadata": {
    "collapsed": false,
    "pycharm": {
     "name": "#%%\n"
    }
   }
  },
  {
   "cell_type": "markdown",
   "metadata": {},
   "source": [
    "---------\n",
    "## Unconformities and Faults:\n",
    "\n",
    "So far the model is simply a depositional unit. GemPy allows for unconformities and faults to build complex models. This input is given by categorical data. In general:\n",
    "\n",
    "input data (surface points/ orientations) <belong to< surface <belong to< series\n",
    "\n",
    "And series can be a fault---i.e. offset the rest of surface--- or not. We are going to show how to add a fault as an example.\n",
    "\n",
    "First we need to add a series:"
   ]
  },
  {
   "cell_type": "code",
   "execution_count": 24,
   "metadata": {},
   "outputs": [
    {
     "data": {
      "text/html": [
       "<table border=\"1\" class=\"dataframe\">\n",
       "  <thead>\n",
       "    <tr style=\"text-align: right;\">\n",
       "      <th></th>\n",
       "      <th>order_series</th>\n",
       "      <th>BottomRelation</th>\n",
       "      <th>isActive</th>\n",
       "      <th>isFault</th>\n",
       "      <th>isFinite</th>\n",
       "    </tr>\n",
       "  </thead>\n",
       "  <tbody>\n",
       "    <tr>\n",
       "      <th>Default series</th>\n",
       "      <td>1</td>\n",
       "      <td>Erosion</td>\n",
       "      <td>True</td>\n",
       "      <td>False</td>\n",
       "      <td>False</td>\n",
       "    </tr>\n",
       "    <tr>\n",
       "      <th>Fault1</th>\n",
       "      <td>2</td>\n",
       "      <td>Erosion</td>\n",
       "      <td>False</td>\n",
       "      <td>False</td>\n",
       "      <td>False</td>\n",
       "    </tr>\n",
       "  </tbody>\n",
       "</table>"
      ],
      "text/plain": [
       "                order_series BottomRelation  isActive  isFault  isFinite\n",
       "Default series             1        Erosion      True    False     False\n",
       "Fault1                     2        Erosion     False    False     False"
      ]
     },
     "execution_count": 24,
     "metadata": {},
     "output_type": "execute_result"
    }
   ],
   "source": [
    "geo_model.add_series('Fault1')"
   ]
  },
  {
   "cell_type": "code",
   "execution_count": 25,
   "metadata": {},
   "outputs": [
    {
     "data": {
      "text/html": [
       "<table border=\"1\" class=\"dataframe\">\n",
       "  <thead>\n",
       "    <tr style=\"text-align: right;\">\n",
       "      <th></th>\n",
       "      <th>order_series</th>\n",
       "      <th>BottomRelation</th>\n",
       "      <th>isActive</th>\n",
       "      <th>isFault</th>\n",
       "      <th>isFinite</th>\n",
       "    </tr>\n",
       "  </thead>\n",
       "  <tbody>\n",
       "    <tr>\n",
       "      <th>Fault1</th>\n",
       "      <td>1</td>\n",
       "      <td>Erosion</td>\n",
       "      <td>False</td>\n",
       "      <td>False</td>\n",
       "      <td>False</td>\n",
       "    </tr>\n",
       "    <tr>\n",
       "      <th>Default series</th>\n",
       "      <td>2</td>\n",
       "      <td>Erosion</td>\n",
       "      <td>True</td>\n",
       "      <td>False</td>\n",
       "      <td>False</td>\n",
       "    </tr>\n",
       "  </tbody>\n",
       "</table>"
      ],
      "text/plain": [
       "                order_series BottomRelation  isActive  isFault  isFinite\n",
       "Fault1                     1        Erosion     False    False     False\n",
       "Default series             2        Erosion      True    False     False"
      ]
     },
     "execution_count": 25,
     "metadata": {},
     "output_type": "execute_result"
    }
   ],
   "source": [
    "geo_model.reorder_series(['Fault1', 'Default series'])"
   ]
  },
  {
   "cell_type": "markdown",
   "metadata": {},
   "source": [
    "Then define that is a fault:"
   ]
  },
  {
   "cell_type": "code",
   "execution_count": 26,
   "metadata": {},
   "outputs": [
    {
     "name": "stdout",
     "output_type": "stream",
     "text": [
      "Fault colors changed. If you do not like this behavior, set change_color to False.\n"
     ]
    },
    {
     "data": {
      "text/html": [
       "<table border=\"1\" class=\"dataframe\">\n",
       "  <thead>\n",
       "    <tr style=\"text-align: right;\">\n",
       "      <th></th>\n",
       "      <th>order_series</th>\n",
       "      <th>BottomRelation</th>\n",
       "      <th>isActive</th>\n",
       "      <th>isFault</th>\n",
       "      <th>isFinite</th>\n",
       "    </tr>\n",
       "  </thead>\n",
       "  <tbody>\n",
       "    <tr>\n",
       "      <th>Fault1</th>\n",
       "      <td>1</td>\n",
       "      <td>Fault</td>\n",
       "      <td>False</td>\n",
       "      <td>True</td>\n",
       "      <td>False</td>\n",
       "    </tr>\n",
       "    <tr>\n",
       "      <th>Default series</th>\n",
       "      <td>2</td>\n",
       "      <td>Erosion</td>\n",
       "      <td>True</td>\n",
       "      <td>False</td>\n",
       "      <td>False</td>\n",
       "    </tr>\n",
       "  </tbody>\n",
       "</table>"
      ],
      "text/plain": [
       "                order_series BottomRelation  isActive  isFault  isFinite\n",
       "Fault1                     1          Fault     False     True     False\n",
       "Default series             2        Erosion      True    False     False"
      ]
     },
     "execution_count": 26,
     "metadata": {},
     "output_type": "execute_result"
    }
   ],
   "source": [
    "geo_model.set_is_fault('Fault1')"
   ]
  },
  {
   "cell_type": "markdown",
   "metadata": {},
   "source": [
    "But we also need to add a new surface:"
   ]
  },
  {
   "cell_type": "code",
   "execution_count": 27,
   "metadata": {},
   "outputs": [
    {
     "data": {
      "text/html": [
       "<style  type=\"text/css\" >\n",
       "    #T_769785a6_9906_11ea_b134_5cf370744477row0_col3 {\n",
       "            background-color:  #015482;\n",
       "        }    #T_769785a6_9906_11ea_b134_5cf370744477row1_col3 {\n",
       "            background-color:  #9f0052;\n",
       "        }    #T_769785a6_9906_11ea_b134_5cf370744477row2_col3 {\n",
       "            background-color:  #ffbe00;\n",
       "        }    #T_769785a6_9906_11ea_b134_5cf370744477row3_col3 {\n",
       "            background-color:  #728f02;\n",
       "        }    #T_769785a6_9906_11ea_b134_5cf370744477row4_col3 {\n",
       "            background-color:  #443988;\n",
       "        }</style><table id=\"T_769785a6_9906_11ea_b134_5cf370744477\" ><thead>    <tr>        <th class=\"blank level0\" ></th>        <th class=\"col_heading level0 col0\" >surface</th>        <th class=\"col_heading level0 col1\" >series</th>        <th class=\"col_heading level0 col2\" >order_surfaces</th>        <th class=\"col_heading level0 col3\" >color</th>        <th class=\"col_heading level0 col4\" >id</th>    </tr></thead><tbody>\n",
       "                <tr>\n",
       "                        <th id=\"T_769785a6_9906_11ea_b134_5cf370744477level0_row0\" class=\"row_heading level0 row0\" >0</th>\n",
       "                        <td id=\"T_769785a6_9906_11ea_b134_5cf370744477row0_col0\" class=\"data row0 col0\" >surface1</td>\n",
       "                        <td id=\"T_769785a6_9906_11ea_b134_5cf370744477row0_col1\" class=\"data row0 col1\" >Default series</td>\n",
       "                        <td id=\"T_769785a6_9906_11ea_b134_5cf370744477row0_col2\" class=\"data row0 col2\" >1</td>\n",
       "                        <td id=\"T_769785a6_9906_11ea_b134_5cf370744477row0_col3\" class=\"data row0 col3\" >#015482</td>\n",
       "                        <td id=\"T_769785a6_9906_11ea_b134_5cf370744477row0_col4\" class=\"data row0 col4\" >1</td>\n",
       "            </tr>\n",
       "            <tr>\n",
       "                        <th id=\"T_769785a6_9906_11ea_b134_5cf370744477level0_row1\" class=\"row_heading level0 row1\" >1</th>\n",
       "                        <td id=\"T_769785a6_9906_11ea_b134_5cf370744477row1_col0\" class=\"data row1 col0\" >surface2</td>\n",
       "                        <td id=\"T_769785a6_9906_11ea_b134_5cf370744477row1_col1\" class=\"data row1 col1\" >Default series</td>\n",
       "                        <td id=\"T_769785a6_9906_11ea_b134_5cf370744477row1_col2\" class=\"data row1 col2\" >2</td>\n",
       "                        <td id=\"T_769785a6_9906_11ea_b134_5cf370744477row1_col3\" class=\"data row1 col3\" >#9f0052</td>\n",
       "                        <td id=\"T_769785a6_9906_11ea_b134_5cf370744477row1_col4\" class=\"data row1 col4\" >2</td>\n",
       "            </tr>\n",
       "            <tr>\n",
       "                        <th id=\"T_769785a6_9906_11ea_b134_5cf370744477level0_row2\" class=\"row_heading level0 row2\" >2</th>\n",
       "                        <td id=\"T_769785a6_9906_11ea_b134_5cf370744477row2_col0\" class=\"data row2 col0\" >surface3</td>\n",
       "                        <td id=\"T_769785a6_9906_11ea_b134_5cf370744477row2_col1\" class=\"data row2 col1\" >Default series</td>\n",
       "                        <td id=\"T_769785a6_9906_11ea_b134_5cf370744477row2_col2\" class=\"data row2 col2\" >3</td>\n",
       "                        <td id=\"T_769785a6_9906_11ea_b134_5cf370744477row2_col3\" class=\"data row2 col3\" >#ffbe00</td>\n",
       "                        <td id=\"T_769785a6_9906_11ea_b134_5cf370744477row2_col4\" class=\"data row2 col4\" >3</td>\n",
       "            </tr>\n",
       "            <tr>\n",
       "                        <th id=\"T_769785a6_9906_11ea_b134_5cf370744477level0_row3\" class=\"row_heading level0 row3\" >3</th>\n",
       "                        <td id=\"T_769785a6_9906_11ea_b134_5cf370744477row3_col0\" class=\"data row3 col0\" >basement</td>\n",
       "                        <td id=\"T_769785a6_9906_11ea_b134_5cf370744477row3_col1\" class=\"data row3 col1\" >Default series</td>\n",
       "                        <td id=\"T_769785a6_9906_11ea_b134_5cf370744477row3_col2\" class=\"data row3 col2\" >4</td>\n",
       "                        <td id=\"T_769785a6_9906_11ea_b134_5cf370744477row3_col3\" class=\"data row3 col3\" >#728f02</td>\n",
       "                        <td id=\"T_769785a6_9906_11ea_b134_5cf370744477row3_col4\" class=\"data row3 col4\" >4</td>\n",
       "            </tr>\n",
       "            <tr>\n",
       "                        <th id=\"T_769785a6_9906_11ea_b134_5cf370744477level0_row4\" class=\"row_heading level0 row4\" >4</th>\n",
       "                        <td id=\"T_769785a6_9906_11ea_b134_5cf370744477row4_col0\" class=\"data row4 col0\" >fault1</td>\n",
       "                        <td id=\"T_769785a6_9906_11ea_b134_5cf370744477row4_col1\" class=\"data row4 col1\" >Default series</td>\n",
       "                        <td id=\"T_769785a6_9906_11ea_b134_5cf370744477row4_col2\" class=\"data row4 col2\" >5</td>\n",
       "                        <td id=\"T_769785a6_9906_11ea_b134_5cf370744477row4_col3\" class=\"data row4 col3\" >#443988</td>\n",
       "                        <td id=\"T_769785a6_9906_11ea_b134_5cf370744477row4_col4\" class=\"data row4 col4\" >5</td>\n",
       "            </tr>\n",
       "    </tbody></table>"
      ],
      "text/plain": [
       "    surface          series  order_surfaces    color  id\n",
       "0  surface1  Default series               1  #015482   1\n",
       "1  surface2  Default series               2  #9f0052   2\n",
       "2  surface3  Default series               3  #ffbe00   3\n",
       "3  basement  Default series               4  #728f02   4\n",
       "4    fault1  Default series               5  #443988   5"
      ]
     },
     "execution_count": 27,
     "metadata": {},
     "output_type": "execute_result"
    }
   ],
   "source": [
    "geo_model.add_surfaces('fault1')"
   ]
  },
  {
   "cell_type": "markdown",
   "metadata": {},
   "source": [
    "And finally assign the new surface to the new series/fault"
   ]
  },
  {
   "cell_type": "code",
   "execution_count": 28,
   "metadata": {},
   "outputs": [
    {
     "data": {
      "text/html": [
       "<style  type=\"text/css\" >\n",
       "    #T_77f763ac_9906_11ea_a6be_5cf370744477row0_col3 {\n",
       "            background-color:  #443988;\n",
       "        }    #T_77f763ac_9906_11ea_a6be_5cf370744477row1_col3 {\n",
       "            background-color:  #015482;\n",
       "        }    #T_77f763ac_9906_11ea_a6be_5cf370744477row2_col3 {\n",
       "            background-color:  #9f0052;\n",
       "        }    #T_77f763ac_9906_11ea_a6be_5cf370744477row3_col3 {\n",
       "            background-color:  #ffbe00;\n",
       "        }    #T_77f763ac_9906_11ea_a6be_5cf370744477row4_col3 {\n",
       "            background-color:  #728f02;\n",
       "        }</style><table id=\"T_77f763ac_9906_11ea_a6be_5cf370744477\" ><thead>    <tr>        <th class=\"blank level0\" ></th>        <th class=\"col_heading level0 col0\" >surface</th>        <th class=\"col_heading level0 col1\" >series</th>        <th class=\"col_heading level0 col2\" >order_surfaces</th>        <th class=\"col_heading level0 col3\" >color</th>        <th class=\"col_heading level0 col4\" >id</th>    </tr></thead><tbody>\n",
       "                <tr>\n",
       "                        <th id=\"T_77f763ac_9906_11ea_a6be_5cf370744477level0_row0\" class=\"row_heading level0 row0\" >4</th>\n",
       "                        <td id=\"T_77f763ac_9906_11ea_a6be_5cf370744477row0_col0\" class=\"data row0 col0\" >fault1</td>\n",
       "                        <td id=\"T_77f763ac_9906_11ea_a6be_5cf370744477row0_col1\" class=\"data row0 col1\" >Fault1</td>\n",
       "                        <td id=\"T_77f763ac_9906_11ea_a6be_5cf370744477row0_col2\" class=\"data row0 col2\" >1</td>\n",
       "                        <td id=\"T_77f763ac_9906_11ea_a6be_5cf370744477row0_col3\" class=\"data row0 col3\" >#443988</td>\n",
       "                        <td id=\"T_77f763ac_9906_11ea_a6be_5cf370744477row0_col4\" class=\"data row0 col4\" >1</td>\n",
       "            </tr>\n",
       "            <tr>\n",
       "                        <th id=\"T_77f763ac_9906_11ea_a6be_5cf370744477level0_row1\" class=\"row_heading level0 row1\" >0</th>\n",
       "                        <td id=\"T_77f763ac_9906_11ea_a6be_5cf370744477row1_col0\" class=\"data row1 col0\" >surface1</td>\n",
       "                        <td id=\"T_77f763ac_9906_11ea_a6be_5cf370744477row1_col1\" class=\"data row1 col1\" >Default series</td>\n",
       "                        <td id=\"T_77f763ac_9906_11ea_a6be_5cf370744477row1_col2\" class=\"data row1 col2\" >1</td>\n",
       "                        <td id=\"T_77f763ac_9906_11ea_a6be_5cf370744477row1_col3\" class=\"data row1 col3\" >#015482</td>\n",
       "                        <td id=\"T_77f763ac_9906_11ea_a6be_5cf370744477row1_col4\" class=\"data row1 col4\" >2</td>\n",
       "            </tr>\n",
       "            <tr>\n",
       "                        <th id=\"T_77f763ac_9906_11ea_a6be_5cf370744477level0_row2\" class=\"row_heading level0 row2\" >1</th>\n",
       "                        <td id=\"T_77f763ac_9906_11ea_a6be_5cf370744477row2_col0\" class=\"data row2 col0\" >surface2</td>\n",
       "                        <td id=\"T_77f763ac_9906_11ea_a6be_5cf370744477row2_col1\" class=\"data row2 col1\" >Default series</td>\n",
       "                        <td id=\"T_77f763ac_9906_11ea_a6be_5cf370744477row2_col2\" class=\"data row2 col2\" >2</td>\n",
       "                        <td id=\"T_77f763ac_9906_11ea_a6be_5cf370744477row2_col3\" class=\"data row2 col3\" >#9f0052</td>\n",
       "                        <td id=\"T_77f763ac_9906_11ea_a6be_5cf370744477row2_col4\" class=\"data row2 col4\" >3</td>\n",
       "            </tr>\n",
       "            <tr>\n",
       "                        <th id=\"T_77f763ac_9906_11ea_a6be_5cf370744477level0_row3\" class=\"row_heading level0 row3\" >2</th>\n",
       "                        <td id=\"T_77f763ac_9906_11ea_a6be_5cf370744477row3_col0\" class=\"data row3 col0\" >surface3</td>\n",
       "                        <td id=\"T_77f763ac_9906_11ea_a6be_5cf370744477row3_col1\" class=\"data row3 col1\" >Default series</td>\n",
       "                        <td id=\"T_77f763ac_9906_11ea_a6be_5cf370744477row3_col2\" class=\"data row3 col2\" >3</td>\n",
       "                        <td id=\"T_77f763ac_9906_11ea_a6be_5cf370744477row3_col3\" class=\"data row3 col3\" >#ffbe00</td>\n",
       "                        <td id=\"T_77f763ac_9906_11ea_a6be_5cf370744477row3_col4\" class=\"data row3 col4\" >4</td>\n",
       "            </tr>\n",
       "            <tr>\n",
       "                        <th id=\"T_77f763ac_9906_11ea_a6be_5cf370744477level0_row4\" class=\"row_heading level0 row4\" >3</th>\n",
       "                        <td id=\"T_77f763ac_9906_11ea_a6be_5cf370744477row4_col0\" class=\"data row4 col0\" >basement</td>\n",
       "                        <td id=\"T_77f763ac_9906_11ea_a6be_5cf370744477row4_col1\" class=\"data row4 col1\" >Default series</td>\n",
       "                        <td id=\"T_77f763ac_9906_11ea_a6be_5cf370744477row4_col2\" class=\"data row4 col2\" >4</td>\n",
       "                        <td id=\"T_77f763ac_9906_11ea_a6be_5cf370744477row4_col3\" class=\"data row4 col3\" >#728f02</td>\n",
       "                        <td id=\"T_77f763ac_9906_11ea_a6be_5cf370744477row4_col4\" class=\"data row4 col4\" >5</td>\n",
       "            </tr>\n",
       "    </tbody></table>"
      ],
      "text/plain": [
       "    surface          series  order_surfaces    color  id\n",
       "4    fault1          Fault1               1  #443988   1\n",
       "0  surface1  Default series               1  #015482   2\n",
       "1  surface2  Default series               2  #9f0052   3\n",
       "2  surface3  Default series               3  #ffbe00   4\n",
       "3  basement  Default series               4  #728f02   5"
      ]
     },
     "execution_count": 28,
     "metadata": {},
     "output_type": "execute_result"
    }
   ],
   "source": [
    "gp.map_series_to_surfaces(geo_model, {'Fault1':'fault1'})"
   ]
  },
  {
   "cell_type": "markdown",
   "metadata": {},
   "source": [
    "Now we can just add input data as before (remember the minimum amount of input data to compute a model):"
   ]
  },
  {
   "cell_type": "code",
   "execution_count": 29,
   "metadata": {},
   "outputs": [],
   "source": [
    "# Add input data of the fault\n",
    "geo_model.add_surface_points(X=550, Y=0, Z=-30, surface='fault1')\n",
    "geo_model.add_surface_points(X=650, Y=0, Z=-200, surface='fault1')\n",
    "geo_model.add_orientations(X=600, Y=0, Z= -100, surface='fault1',\n",
    "                           pole_vector=(.3,0,.3))\n",
    "\n",
    "# Plotting Inpute data\n",
    "p2d.remove(ax)\n",
    "p2d.plot_data(ax, cell_number=5)\n",
    "p3d.plot_data()"
   ]
  },
  {
   "cell_type": "markdown",
   "metadata": {},
   "source": [
    "And now is computing as before:"
   ]
  },
  {
   "cell_type": "code",
   "execution_count": 30,
   "metadata": {},
   "outputs": [
    {
     "data": {
      "text/plain": [
       "[StructuredGrid (0x16e0ad27288)\n",
       "   N Cells:\t88209\n",
       "   N Points:\t100000\n",
       "   X Bounds:\t3.955e+00, 7.870e+02\n",
       "   Y Bounds:\t1.000e+01, 1.900e+02\n",
       "   Z Bounds:\t-5.791e+02, -2.910e+00\n",
       "   Dimensions:\t100, 10, 100\n",
       "   N Arrays:\t3,\n",
       " <matplotlib.colors.ListedColormap at 0x16e0cb065f8>]"
      ]
     },
     "execution_count": 30,
     "metadata": {},
     "output_type": "execute_result"
    }
   ],
   "source": [
    "# Compute\n",
    "gp.compute_model(geo_model)\n",
    "\n",
    "# Plot\n",
    "p2d.plot_lith(ax, cell_number=5)\n",
    "p2d.plot_contacts(ax, cell_number=5)\n",
    "p3d.plot_surfaces()\n",
    "p3d.plot_structured_grid(opacity=.2, annotations = {2: 'surface1', 3:'surface2',\n",
    "                                                    4:'surface3', 5:'basement'})"
   ]
  },
  {
   "cell_type": "markdown",
   "metadata": {},
   "source": [
    "As you can see now instead of having folding layers we have a sharp jump. Building on this you can pretty much any model you can imagine."
   ]
  },
  {
   "cell_type": "markdown",
   "metadata": {},
   "source": [
    "## Additional features:\n",
    "\n",
    "Over the years we have built a bunch of assets integrate with `gempy`. Here we will show some of them:\n",
    "\n",
    "### Topography\n",
    "\n",
    "GemPy has a built-in capabilities to read and manipulate topographic data (through gdal). To show an example we can\n",
    "just create a random topography:"
   ]
  },
  {
   "cell_type": "code",
   "execution_count": 31,
   "metadata": {},
   "outputs": [
    {
     "name": "stdout",
     "output_type": "stream",
     "text": [
      "Active grids: ['regular' 'topography']\n"
     ]
    },
    {
     "data": {
      "text/plain": [
       "Grid Object. Values: \n",
       "array([[   3.955     ,   10.        , -579.09      ],\n",
       "       [   3.955     ,   10.        , -573.27      ],\n",
       "       [   3.955     ,   10.        , -567.45      ],\n",
       "       ...,\n",
       "       [ 791.        ,  197.98994975, -135.35107881],\n",
       "       [ 791.        ,  198.99497487, -135.00724647],\n",
       "       [ 791.        ,  200.        , -134.90309829]])"
      ]
     },
     "execution_count": 31,
     "metadata": {},
     "output_type": "execute_result"
    }
   ],
   "source": [
    "## Adding random topography\n",
    "geo_model.set_topography(source='random',fd=1.9, d_z=np.array([-150, 0]), resolution=np.array([200,200]))"
   ]
  },
  {
   "cell_type": "markdown",
   "metadata": {},
   "source": [
    "The topography can we visualize in both renderers:"
   ]
  },
  {
   "cell_type": "code",
   "execution_count": 32,
   "metadata": {},
   "outputs": [
    {
     "data": {
      "text/plain": [
       "(vtkRenderingOpenGL2Python.vtkOpenGLActor)0000016E0CB781C8"
      ]
     },
     "execution_count": 32,
     "metadata": {},
     "output_type": "execute_result"
    }
   ],
   "source": [
    "p2d.plot_topography(ax, cell_number=5)\n",
    "p3d.plot_topography(scalars='topography')"
   ]
  },
  {
   "cell_type": "markdown",
   "metadata": {},
   "source": [
    "But also allows us to compute the geological map of an area:"
   ]
  },
  {
   "cell_type": "code",
   "execution_count": 33,
   "metadata": {},
   "outputs": [
    {
     "data": {
      "text/plain": [
       "(vtkRenderingOpenGL2Python.vtkOpenGLActor)0000016E6E7ACCA8"
      ]
     },
     "execution_count": 33,
     "metadata": {},
     "output_type": "execute_result"
    }
   ],
   "source": [
    "gp.compute_model(geo_model)\n",
    "p3d.plot_surfaces()\n",
    "p3d.plot_topography()"
   ]
  },
  {
   "cell_type": "code",
   "execution_count": 34,
   "metadata": {},
   "outputs": [
    {
     "data": {
      "text/plain": [
       "[UnstructuredGrid (0x16e0cb33a68)\n",
       "   N Cells:\t75372\n",
       "   N Points:\t86930\n",
       "   X Bounds:\t3.955e+00, 7.870e+02\n",
       "   Y Bounds:\t1.000e+01, 1.900e+02\n",
       "   Z Bounds:\t-5.791e+02, -1.455e+01\n",
       "   N Arrays:\t3,\n",
       " <matplotlib.colors.ListedColormap at 0x16e0cb0e8d0>]"
      ]
     },
     "execution_count": 34,
     "metadata": {},
     "output_type": "execute_result"
    }
   ],
   "source": [
    "p3d.plot_structured_grid()"
   ]
  },
  {
   "cell_type": "markdown",
   "metadata": {},
   "source": [
    "### Gravity inversion\n",
    "\n",
    "GemPy also allows for inversions (in production only gravity so far). We can see a small demo how this works.\n",
    "\n",
    "The first thing to do is to assign densities to each of the units:"
   ]
  },
  {
   "cell_type": "code",
   "execution_count": 35,
   "metadata": {},
   "outputs": [
    {
     "data": {
      "text/html": [
       "<style  type=\"text/css\" >\n",
       "    #T_97fa10ca_9906_11ea_8f63_5cf370744477row0_col3 {\n",
       "            background-color:  #443988;\n",
       "        }    #T_97fa10ca_9906_11ea_8f63_5cf370744477row1_col3 {\n",
       "            background-color:  #015482;\n",
       "        }    #T_97fa10ca_9906_11ea_8f63_5cf370744477row2_col3 {\n",
       "            background-color:  #9f0052;\n",
       "        }    #T_97fa10ca_9906_11ea_8f63_5cf370744477row3_col3 {\n",
       "            background-color:  #ffbe00;\n",
       "        }    #T_97fa10ca_9906_11ea_8f63_5cf370744477row4_col3 {\n",
       "            background-color:  #728f02;\n",
       "        }</style><table id=\"T_97fa10ca_9906_11ea_8f63_5cf370744477\" ><thead>    <tr>        <th class=\"blank level0\" ></th>        <th class=\"col_heading level0 col0\" >surface</th>        <th class=\"col_heading level0 col1\" >series</th>        <th class=\"col_heading level0 col2\" >order_surfaces</th>        <th class=\"col_heading level0 col3\" >color</th>        <th class=\"col_heading level0 col4\" >id</th>        <th class=\"col_heading level0 col5\" >density</th>    </tr></thead><tbody>\n",
       "                <tr>\n",
       "                        <th id=\"T_97fa10ca_9906_11ea_8f63_5cf370744477level0_row0\" class=\"row_heading level0 row0\" >4</th>\n",
       "                        <td id=\"T_97fa10ca_9906_11ea_8f63_5cf370744477row0_col0\" class=\"data row0 col0\" >fault1</td>\n",
       "                        <td id=\"T_97fa10ca_9906_11ea_8f63_5cf370744477row0_col1\" class=\"data row0 col1\" >Fault1</td>\n",
       "                        <td id=\"T_97fa10ca_9906_11ea_8f63_5cf370744477row0_col2\" class=\"data row0 col2\" >1</td>\n",
       "                        <td id=\"T_97fa10ca_9906_11ea_8f63_5cf370744477row0_col3\" class=\"data row0 col3\" >#443988</td>\n",
       "                        <td id=\"T_97fa10ca_9906_11ea_8f63_5cf370744477row0_col4\" class=\"data row0 col4\" >1</td>\n",
       "                        <td id=\"T_97fa10ca_9906_11ea_8f63_5cf370744477row0_col5\" class=\"data row0 col5\" >0.000000</td>\n",
       "            </tr>\n",
       "            <tr>\n",
       "                        <th id=\"T_97fa10ca_9906_11ea_8f63_5cf370744477level0_row1\" class=\"row_heading level0 row1\" >0</th>\n",
       "                        <td id=\"T_97fa10ca_9906_11ea_8f63_5cf370744477row1_col0\" class=\"data row1 col0\" >surface1</td>\n",
       "                        <td id=\"T_97fa10ca_9906_11ea_8f63_5cf370744477row1_col1\" class=\"data row1 col1\" >Default series</td>\n",
       "                        <td id=\"T_97fa10ca_9906_11ea_8f63_5cf370744477row1_col2\" class=\"data row1 col2\" >1</td>\n",
       "                        <td id=\"T_97fa10ca_9906_11ea_8f63_5cf370744477row1_col3\" class=\"data row1 col3\" >#015482</td>\n",
       "                        <td id=\"T_97fa10ca_9906_11ea_8f63_5cf370744477row1_col4\" class=\"data row1 col4\" >2</td>\n",
       "                        <td id=\"T_97fa10ca_9906_11ea_8f63_5cf370744477row1_col5\" class=\"data row1 col5\" >2.600000</td>\n",
       "            </tr>\n",
       "            <tr>\n",
       "                        <th id=\"T_97fa10ca_9906_11ea_8f63_5cf370744477level0_row2\" class=\"row_heading level0 row2\" >1</th>\n",
       "                        <td id=\"T_97fa10ca_9906_11ea_8f63_5cf370744477row2_col0\" class=\"data row2 col0\" >surface2</td>\n",
       "                        <td id=\"T_97fa10ca_9906_11ea_8f63_5cf370744477row2_col1\" class=\"data row2 col1\" >Default series</td>\n",
       "                        <td id=\"T_97fa10ca_9906_11ea_8f63_5cf370744477row2_col2\" class=\"data row2 col2\" >2</td>\n",
       "                        <td id=\"T_97fa10ca_9906_11ea_8f63_5cf370744477row2_col3\" class=\"data row2 col3\" >#9f0052</td>\n",
       "                        <td id=\"T_97fa10ca_9906_11ea_8f63_5cf370744477row2_col4\" class=\"data row2 col4\" >3</td>\n",
       "                        <td id=\"T_97fa10ca_9906_11ea_8f63_5cf370744477row2_col5\" class=\"data row2 col5\" >2.400000</td>\n",
       "            </tr>\n",
       "            <tr>\n",
       "                        <th id=\"T_97fa10ca_9906_11ea_8f63_5cf370744477level0_row3\" class=\"row_heading level0 row3\" >2</th>\n",
       "                        <td id=\"T_97fa10ca_9906_11ea_8f63_5cf370744477row3_col0\" class=\"data row3 col0\" >surface3</td>\n",
       "                        <td id=\"T_97fa10ca_9906_11ea_8f63_5cf370744477row3_col1\" class=\"data row3 col1\" >Default series</td>\n",
       "                        <td id=\"T_97fa10ca_9906_11ea_8f63_5cf370744477row3_col2\" class=\"data row3 col2\" >3</td>\n",
       "                        <td id=\"T_97fa10ca_9906_11ea_8f63_5cf370744477row3_col3\" class=\"data row3 col3\" >#ffbe00</td>\n",
       "                        <td id=\"T_97fa10ca_9906_11ea_8f63_5cf370744477row3_col4\" class=\"data row3 col4\" >4</td>\n",
       "                        <td id=\"T_97fa10ca_9906_11ea_8f63_5cf370744477row3_col5\" class=\"data row3 col5\" >3.200000</td>\n",
       "            </tr>\n",
       "            <tr>\n",
       "                        <th id=\"T_97fa10ca_9906_11ea_8f63_5cf370744477level0_row4\" class=\"row_heading level0 row4\" >3</th>\n",
       "                        <td id=\"T_97fa10ca_9906_11ea_8f63_5cf370744477row4_col0\" class=\"data row4 col0\" >basement</td>\n",
       "                        <td id=\"T_97fa10ca_9906_11ea_8f63_5cf370744477row4_col1\" class=\"data row4 col1\" >Default series</td>\n",
       "                        <td id=\"T_97fa10ca_9906_11ea_8f63_5cf370744477row4_col2\" class=\"data row4 col2\" >4</td>\n",
       "                        <td id=\"T_97fa10ca_9906_11ea_8f63_5cf370744477row4_col3\" class=\"data row4 col3\" >#728f02</td>\n",
       "                        <td id=\"T_97fa10ca_9906_11ea_8f63_5cf370744477row4_col4\" class=\"data row4 col4\" >5</td>\n",
       "                        <td id=\"T_97fa10ca_9906_11ea_8f63_5cf370744477row4_col5\" class=\"data row4 col5\" >3.600000</td>\n",
       "            </tr>\n",
       "    </tbody></table>"
      ],
      "text/plain": [
       "    surface          series  order_surfaces    color  id  density\n",
       "4    fault1          Fault1               1  #443988   1      0.0\n",
       "0  surface1  Default series               1  #015482   2      2.6\n",
       "1  surface2  Default series               2  #9f0052   3      2.4\n",
       "2  surface3  Default series               3  #ffbe00   4      3.2\n",
       "3  basement  Default series               4  #728f02   5      3.6"
      ]
     },
     "execution_count": 35,
     "metadata": {},
     "output_type": "execute_result"
    }
   ],
   "source": [
    "geo_model.add_surface_values([0, 2.6, 2.4, 3.2, 3.6], ['density'])"
   ]
  },
  {
   "cell_type": "markdown",
   "metadata": {},
   "source": [
    "Also we can create a centered grid around a device for precision:"
   ]
  },
  {
   "cell_type": "code",
   "execution_count": 36,
   "metadata": {},
   "outputs": [
    {
     "name": "stdout",
     "output_type": "stream",
     "text": [
      "Active grids: ['regular' 'topography' 'centered']\n",
      "Active grids: ['regular' 'topography' 'centered']\n"
     ]
    },
    {
     "data": {
      "text/plain": [
       "Grid Object. Values: \n",
       "array([[    3.955     ,    10.        ,  -579.09      ],\n",
       "       [    3.955     ,    10.        ,  -573.27      ],\n",
       "       [    3.955     ,    10.        ,  -567.45      ],\n",
       "       ...,\n",
       "       [ 1200.        ,   800.        ,  -922.71624587],\n",
       "       [ 1200.        ,   800.        ,  -964.3665184 ],\n",
       "       [ 1200.        ,   800.        , -1008.        ]])"
      ]
     },
     "execution_count": 36,
     "metadata": {},
     "output_type": "execute_result"
    }
   ],
   "source": [
    "geo_model.set_centered_grid(centers= [[400, 0, 0]],  resolution = [10, 10, 100], radius=800)"
   ]
  },
  {
   "cell_type": "markdown",
   "metadata": {},
   "source": [
    "We need to modify the compile code:"
   ]
  },
  {
   "cell_type": "code",
   "execution_count": 37,
   "metadata": {},
   "outputs": [
    {
     "name": "stdout",
     "output_type": "stream",
     "text": [
      "Setting kriging parameters to their default values.\n",
      "Compiling theano function...\n",
      "Level of Optimization:  fast_run\n",
      "Device:  cpu\n",
      "Precision:  float64\n",
      "Number of faults:  1\n",
      "Compilation Done!\n",
      "Kriging values: \n",
      "                   values\n",
      "range             1002.2\n",
      "$C_o$            23914.4\n",
      "drift equations   [3, 3]\n"
     ]
    },
    {
     "data": {
      "text/plain": [
       "<gempy.core.interpolator.InterpolatorModel at 0x16e6ca3dcc0>"
      ]
     },
     "execution_count": 37,
     "metadata": {},
     "output_type": "execute_result"
    }
   ],
   "source": [
    "gp.set_interpolator(geo_model, output=['gravity'], theano_optimizer='fast_run')"
   ]
  },
  {
   "cell_type": "markdown",
   "metadata": {},
   "source": [
    "But now additionally to the interpolation we also compute the forward gravity of the model (at the point XYZ = 400, 0, 0)"
   ]
  },
  {
   "cell_type": "code",
   "execution_count": 38,
   "metadata": {},
   "outputs": [
    {
     "data": {
      "text/plain": [
       "array([-80.36323225])"
      ]
     },
     "execution_count": 38,
     "metadata": {},
     "output_type": "execute_result"
    }
   ],
   "source": [
    "gp.compute_model(geo_model)\n",
    "geo_model.solutions.fw_gravity"
   ]
  },
  {
   "cell_type": "markdown",
   "metadata": {},
   "source": [
    "We can visualize it it better in the following figure. The aim of an inversion is to find the set of parameters that \n",
    "fit a measured point the better. In this example the red x symbolize the measured gravity while  the blue dots are \n",
    "the current gravity (and previous) fw gravity values.  The widget moves up and down the surface 3"
   ]
  },
  {
   "cell_type": "code",
   "execution_count": 39,
   "metadata": {},
   "outputs": [
    {
     "data": {
      "application/vnd.jupyter.widget-view+json": {
       "model_id": "1a29aeac002b464d9333947398bfeb8d",
       "version_major": 2,
       "version_minor": 0
      },
      "text/plain": [
       "interactive(children=(IntSlider(value=0, description='dz', max=200, min=-200, step=10), Output()), _dom_classe…"
      ]
     },
     "metadata": {},
     "output_type": "display_data"
    },
    {
     "data": {
      "text/plain": [
       "<function __main__.gravity_invert(dz)>"
      ]
     },
     "execution_count": 39,
     "metadata": {},
     "output_type": "execute_result"
    }
   ],
   "source": [
    "# Creating new figure\n",
    "p_grav = gp.plot_2d(geo_model, direction=None, show=False, figsize=(6, 9))\n",
    "\n",
    "# Adding section for model\n",
    "ax2 = p_grav.add_section(cell_number=1, direction='y', ax_pos=211)\n",
    "\n",
    "# Adding section for gravity \n",
    "ax3 = p_grav.add_section(ax_pos=414)\n",
    "\n",
    "# Plotting model in section\n",
    "p2d.plot_data(ax2, cell_number=5, legend='force')\n",
    "p2d.plot_lith(ax2, cell_number=5)\n",
    "p2d.plot_contacts(ax2, cell_number=5)\n",
    "ax2.plot(400, 0, '^', markersize=40, c='red')\n",
    "\n",
    "# Plotting initial values of the gravity axes\n",
    "target_grav = -810\n",
    "ax3.tick_params( bottom=False)\n",
    "ax3.spines['top'].set_visible(False)\n",
    "ax3.spines['bottom'].set_visible(False)\n",
    "ax3.spines['right'].set_visible(False)\n",
    "ax3.plot(0, target_grav, 'X', label='Target Gravity', markersize=4, c='red')\n",
    "ax3.plot(1, geo_model.solutions.fw_gravity, 'o', label='Current Gravity', markersize=4, c='blue')\n",
    "ax3.set_ylabel('grav')\n",
    "\n",
    "# We store the original values of z for the surface 3\n",
    "Z_ori = geo_model.surface_points.df.loc[[5,6,7], 'Z'].copy()\n",
    "# init a list to store grav\n",
    "grav_ = []\n",
    "\n",
    "# Function that modify the model, compute it and plot\n",
    "def gravity_invert(dz):\n",
    "    new_z = Z_ori + dz\n",
    "    geo_model.modify_surface_points(indices=[5, 6, 7], Z= new_z)\n",
    "    gp.compute_model(geo_model)\n",
    "    grav_.append(geo_model.solutions.fw_gravity[0])\n",
    "    \n",
    "    p2d.remove(ax2)\n",
    "    p2d.plot_data(ax2, cell_number=5)\n",
    "    p2d.plot_lith(ax2, cell_number=5)\n",
    "    p2d.plot_contacts(ax2, cell_number=5)\n",
    "    ax3.plot(np.arange(len(grav_))+1, grav_, 'o', label='Current Gravity', markersize=4, c='blue')\n",
    "    ax3.set_xlim(-1, len(grav_)+1)\n",
    "    \n",
    "interact(gravity_invert, dz=(-200, 200, 10))"
   ]
  },
  {
   "cell_type": "code",
   "execution_count": 46,
   "metadata": {
    "scrolled": false
   },
   "outputs": [
    {
     "data": {
      "application/vnd.jupyter.widget-view+json": {
       "model_id": "9cf229b8cafe4ddda8523025a853a5ac",
       "version_major": 2,
       "version_minor": 0
      },
      "text/plain": [
       "interactive(children=(IntSlider(value=0, description='dz', max=200, min=-200, step=10), Output()), _dom_classe…"
      ]
     },
     "metadata": {},
     "output_type": "display_data"
    },
    {
     "data": {
      "text/plain": [
       "<function __main__.gravity_invert(dz)>"
      ]
     },
     "execution_count": 46,
     "metadata": {},
     "output_type": "execute_result"
    }
   ],
   "source": [
    "# Creating new figure\n",
    "p_grav = gp.plot_2d(geo_model, direction=None, show=False, figsize=(6, 9))\n",
    "\n",
    "# Adding section for model\n",
    "ax2 = p_grav.add_section(cell_number=1, direction='y', ax_pos=211)\n",
    "\n",
    "# Adding section for gravity \n",
    "ax3 = p_grav.add_section(ax_pos=414)\n",
    "\n",
    "# Plotting model in section\n",
    "p2d.plot_data(ax2, cell_number=5, legend='force')\n",
    "p2d.plot_lith(ax2, cell_number=5)\n",
    "p2d.plot_contacts(ax2, cell_number=5)\n",
    "ax2.plot(400, 0, '^', markersize=40, c='red')\n",
    "\n",
    "# Plotting initial values of the gravity axes\n",
    "target_grav = -81\n",
    "ax3.tick_params( bottom=False)\n",
    "ax3.spines['top'].set_visible(False)\n",
    "ax3.spines['bottom'].set_visible(False)\n",
    "ax3.spines['right'].set_visible(False)\n",
    "ax3.plot(0, target_grav, 'X', label='Target Gravity', markersize=4, c='red')\n",
    "ax3.plot(1, geo_model.solutions.fw_gravity, 'o', label='Current Gravity', markersize=4, c='blue')\n",
    "ax3.set_ylabel('grav')\n",
    "\n",
    "# We store the original values of z for the surface 3\n",
    "Z_ori = geo_model.surface_points.df.loc[[5,6,7], 'Z'].copy()\n",
    "# init a list to store grav\n",
    "grav_ = []\n",
    "\n",
    "# Function that modify the model, compute it and plot\n",
    "def gravity_invert(dz):\n",
    "    new_z = Z_ori + dz\n",
    "    geo_model.modify_surface_points(indices=[5, 6, 7], Z= new_z)\n",
    "    gp.compute_model(geo_model)\n",
    "    grav_.append(geo_model.solutions.fw_gravity[0])\n",
    "    \n",
    "    p2d.remove(ax2)\n",
    "    p2d.plot_data(ax2, cell_number=5)\n",
    "    p2d.plot_lith(ax2, cell_number=5)\n",
    "    p2d.plot_contacts(ax2, cell_number=5)\n",
    "    ax3.plot((np.arange(len(grav_))+1), grav_, 'o', label='Current Gravity', markersize=4, c='blue')\n",
    "    \n",
    "interact(gravity_invert, dz=(-200, 200, 10))"
   ]
  },
  {
   "cell_type": "code",
   "execution_count": null,
   "metadata": {},
   "outputs": [],
   "source": []
  }
 ],
 "metadata": {
  "jupytext": {
   "split_at_heading": true
  },
  "kernelspec": {
   "name": "conda-env-gp-py",
   "language": "python",
   "display_name": "Python [conda env:gp] *"
  },
  "language_info": {
   "codemirror_mode": {
    "name": "ipython",
    "version": 3
   },
   "file_extension": ".py",
   "mimetype": "text/x-python",
   "name": "python",
   "nbconvert_exporter": "python",
   "pygments_lexer": "ipython3",
   "version": "3.7.0"
  }
 },
 "nbformat": 4,
 "nbformat_minor": 2
}