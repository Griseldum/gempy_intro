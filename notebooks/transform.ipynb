{
 "cells": [
  {
   "cell_type": "markdown",
   "metadata": {},
   "source": [
    "# Transform 2020: GemPy Workshop\n",
    "\n",
    "## Table of Content\n",
    "\n",
    "- Why is GemPy\n",
    "- First Surface\n",
    "- Enplaning data structures 1: Overview\n",
    "- Exercise: Finishing the model\n",
    "- Enplaning data structures 2: Surfaces, Surface Points, Orientations\n",
    "- Unconformities and faults\n",
    "- Topography\n",
    "- Forward gravity\n",
    "- Probabilistic Modeling\n",
    "\n",
    "## Why GemPy?\n",
    "\n",
    "## Installation\n",
    "\n",
    "1. Open conda prompt (Windows) or terminal (Linux/MacOS)\n",
    "2. `$ conda create --clone tutorials --name t20-gempy`\n",
    "3. https://docs.gempy.org/installation.html\n",
    "4. clone the repo:\n",
    "    `git clone https://github.com/cgre-aachen/gempy_intro.git`\n",
    "\n",
    "## Your first model"
   ]
  },
  {
   "cell_type": "code",
   "execution_count": 2,
   "metadata": {
    "pycharm": {
     "name": "#%%\n"
    }
   },
   "outputs": [],
   "source": [
    "# Importing GemPy\n",
    "import gempy as gp\n",
    "\n",
    "# Importing aux libraries\n",
    "from ipywidgets import interact\n",
    "import numpy as np\n",
    "import matplotlib.image as mpimg\n",
    "\n",
    "# Embedding matplotlib figures in the notebooks\n",
    "%matplotlib qt5"
   ]
  },
  {
   "cell_type": "markdown",
   "metadata": {},
   "source": [
    "### Initializing the model... But first a word about Grids:\n",
    "\n",
    "The first step to create a GemPy model is create a `gempy.Model` object that will\n",
    "contain all the other data structures and necessary functionality. In addition\n",
    " for this example we will define a *regular grid* since the beginning.\n",
    "This is the grid where we will interpolate the 3D geological model.\n",
    "\n",
    "GemPy is based on a **meshless intepolator**. In practice this means that we can\n",
    "interpolate any point in a 3D space. However, for convenience, we have built some\n",
    "standard grids for different purposes. At the current day the standard grids are:\n",
    "\n",
    "- **Regular grid**: default grid mainly for general visualization\n",
    "- **Custom grid**: GemPy's wrapper to interpolate on a user grid\n",
    "- **Topography**: Topographic data use to be of high density. Treating it as an independent\n",
    "  grid allow for high resolution geological maps\n",
    "- **Sections**: If we predefine the section 2D grid we can directly interpolate at those\n",
    "  locations for perfect, high resolution estimations\n",
    "- **Center grids**: Half sphere grids around a given point at surface. This are specially tuned\n",
    "  for geophysical forward computations\n",
    "\n",
    "For now we will use a 2.5D regular grid"
   ]
  },
  {
   "cell_type": "code",
   "execution_count": null,
   "metadata": {
    "pycharm": {
     "name": "#%%\n"
    }
   },
   "outputs": [],
   "source": [
    "geo_model = gp.create_model('Transform-2020')\n",
    "geo_model = gp.init_data(geo_model,\n",
    "                         extent= [0, 791, 0, 200, -582, 0], # of the regular grid\n",
    "                         resolution=[100, 10, 100])         # of the regular grid"
   ]
  },
  {
   "cell_type": "markdown",
   "metadata": {},
   "source": [
    "GemPy core code is written in Python. However for efficiency and gradient based\n",
    "machine learning most of heavy computations happen in optimize compile code,\n",
    " either C or CUDA for GPU.\n",
    "\n",
    "To do so, GemPy rely on the library `Theano`. To guarantee maximum optimization\n",
    "`Theano` requires to compile the code for every Python kernel. The compilation is\n",
    "done by calling the following line at any point (before computing the model):"
   ]
  },
  {
   "cell_type": "code",
   "execution_count": null,
   "metadata": {
    "pycharm": {
     "name": "#%%\n"
    }
   },
   "outputs": [],
   "source": [
    "gp.set_interpolator(\n",
    "    geo_model,\n",
    "    output=['geology'], # In built outputs. More about this later on\n",
    "    theano_optimizer='fast_compile') # alternatives: 'fast_run' or\n",
    "                                     # check http://deeplearning.net/software/theano/tutorial/modes.html                        "
   ]
  },
  {
   "cell_type": "markdown",
   "metadata": {},
   "source": [
    "### Creating figure:\n",
    "\n",
    "GemPy uses `matplotlib` and `pyvista` for 2d and 3d visualization of the model respectively. One of the\n",
    "design decisions of GemPy is to allow real time construction of the model. What this means is that you can start\n",
    "adding input data and see in real time how the 3D surfaces evolve. Lets initialize the visualization windows.\n",
    "\n",
    "The first one is the 2d figure. Just place the window where you can see it (maybe move the jupyter notebook to half\n",
    "screen and use the other half for the renderers)."
   ]
  },
  {
   "cell_type": "code",
   "execution_count": null,
   "metadata": {
    "pycharm": {
     "name": "#%%\n"
    }
   },
   "outputs": [],
   "source": [
    "p2d = gp.plot_2d(geo_model, section_names=None,\n",
    "                 direction=None, cell_number=None)"
   ]
  },
  {
   "cell_type": "markdown",
   "metadata": {},
   "source": [
    "#### Add model section\n",
    "\n",
    "In the 2d renderer we can add several cross section of the model. In this case, for simplicity sake we are just\n",
    "adding one perpendicular to y."
   ]
  },
  {
   "cell_type": "code",
   "execution_count": null,
   "metadata": {
    "pycharm": {
     "name": "#%%\n"
    }
   },
   "outputs": [],
   "source": [
    "# In this case perpendicular to the y axes\n",
    "ax = p2d.add_section(cell_number=1, direction='y')"
   ]
  },
  {
   "cell_type": "markdown",
   "metadata": {},
   "source": [
    "#### Loading cross-section image:\n",
    "\n",
    "Remember that `gempy` is simply using `matplotlib` and therefore the ax object\n",
    " created above is a standard `matplotlib` axes.\n",
    "\n",
    "Lets load an image with the information of couple of boreholes"
   ]
  },
  {
   "cell_type": "code",
   "execution_count": null,
   "metadata": {
    "pycharm": {
     "name": "#%%\n"
    }
   },
   "outputs": [],
   "source": [
    "# Reading image\n",
    "img = mpimg.imread('wells.png')\n",
    "# Plotting it inplace\n",
    "ax.imshow(img, origin='upper', alpha=.8, extent = (0, 791, -582,0))"
   ]
  },
  {
   "cell_type": "markdown",
   "metadata": {},
   "source": [
    "We can do the same in 3D through `pyvista` and vtk rendering.\n",
    "\n",
    "Click the qt5 button Back (+Y) to have the same view as in the 2D viewer:"
   ]
  },
  {
   "cell_type": "code",
   "execution_count": null,
   "metadata": {
    "pycharm": {
     "name": "#%%\n"
    }
   },
   "outputs": [],
   "source": [
    "p3d = gp.plot_3d(geo_model, plotter_type='background', notebook=False)"
   ]
  },
  {
   "cell_type": "markdown",
   "metadata": {},
   "source": [
    "## Building the model\n",
    "\n",
    "Now that we have the model initialize and the 2D and 3D render in place we can\n",
    " start the construction of the geological model. \n",
    "\n",
    "### Surfaces\n",
    "\n",
    "GemPy is a surface based interpolator. This means that all the input data we add has to be refereed to a surface. The\n",
    " surfaces always mark the **bottom** of a unit. \n",
    " \n",
    " By default GemPy surfaces are empty:"
   ]
  },
  {
   "cell_type": "code",
   "execution_count": null,
   "metadata": {
    "pycharm": {
     "name": "#%%\n"
    }
   },
   "outputs": [],
   "source": [
    "geo_model.surfaces"
   ]
  },
  {
   "cell_type": "markdown",
   "metadata": {},
   "source": [
    "If we do not care about the names and we just want to interpolate a surface we can use.\n",
    "It is important to notice that **the bottom\n",
    "most layer will be considered always basement and therefore not interpolated**. Still\n",
    "we can add values or change the color of that \"surface\" (for lack of a better name) to\n",
    "populate the lower most volume.\n"
   ]
  },
  {
   "cell_type": "code",
   "execution_count": null,
   "metadata": {
    "pycharm": {
     "name": "#%%\n"
    }
   },
   "outputs": [],
   "source": [
    "# Default surfaces:\n",
    "geo_model.set_default_surfaces()"
   ]
  },
  {
   "cell_type": "code",
   "execution_count": null,
   "metadata": {
    "pycharm": {
     "name": "#%%\n"
    }
   },
   "outputs": [],
   "source": [
    "geo_model.surfaces\n"
   ]
  },
  {
   "cell_type": "markdown",
   "metadata": {},
   "source": [
    "We will see more about data structures below.\n",
    "\n",
    "Now we can start adding data. GemPy input data consist on surface points and\n",
    "orientations (perpendicular to the layers). The 2D plot gives you the X and Z coordinates when hovering the mouse\n",
    " over. We can add a surface point as follows:\n"
   ]
  },
  {
   "cell_type": "code",
   "execution_count": null,
   "metadata": {
    "pycharm": {
     "name": "#%%\n"
    }
   },
   "outputs": [],
   "source": [
    "# Add a point. If idx is None, next available index will be used. Here we pass it\n",
    "# explicitly for consistency\n",
    "geo_model.add_surface_points(X=223, Y=0.01, Z=-94, surface='surface1', idx=0)\n",
    "\n",
    "# Plot in 2D\n",
    "p2d.plot_data(ax, cell_number=11)\n",
    "\n",
    "# Plot in 3D\n",
    "p3d.plot_data()"
   ]
  },
  {
   "cell_type": "markdown",
   "metadata": {},
   "source": [
    "Now we can add the other two points of the layer:"
   ]
  },
  {
   "cell_type": "code",
   "execution_count": null,
   "metadata": {
    "pycharm": {
     "name": "#%%\n"
    }
   },
   "outputs": [],
   "source": [
    "# Add points\n",
    "geo_model.add_surface_points(X=458, Y=0, Z=-107, surface='surface1', idx=1)\n",
    "geo_model.add_surface_points(X=612, Y=0, Z=-14, surface='surface1', idx=2)\n",
    "\n",
    "# Plotting\n",
    "p2d.plot_data(ax, cell_number=11)\n",
    "p3d.plot_surface_points()"
   ]
  },
  {
   "cell_type": "markdown",
   "metadata": {},
   "source": [
    "The **minimum amount of input data** to interpolate anything in `gempy` is:\n",
    "\n",
    "a) 2 surface points per surface\n",
    "\n",
    "b) One orientation per series.\n",
    "\n",
    "Lets add an orientation anywhere in space:"
   ]
  },
  {
   "cell_type": "code",
   "execution_count": null,
   "metadata": {
    "pycharm": {
     "name": "#%%\n"
    }
   },
   "outputs": [],
   "source": [
    "# Adding orientation\n",
    "geo_model.add_orientations(X=350, Y=0, Z=-300, surface='surface1', pole_vector= (0,0,1))\n",
    "p2d.plot_data(ax, cell_number=5)\n",
    "p3d.plot_data()"
   ]
  },
  {
   "cell_type": "markdown",
   "metadata": {},
   "source": [
    "Now we have enough data to finally **interpolate**!"
   ]
  },
  {
   "cell_type": "code",
   "execution_count": null,
   "metadata": {
    "pycharm": {
     "name": "#%%\n"
    }
   },
   "outputs": [],
   "source": [
    "gp.compute_model(geo_model)"
   ]
  },
  {
   "cell_type": "markdown",
   "metadata": {},
   "source": [
    "That is, we have interpolated the 3D surface. We can visualize with:"
   ]
  },
  {
   "cell_type": "code",
   "execution_count": null,
   "metadata": {
    "pycharm": {
     "name": "#%%\n"
    }
   },
   "outputs": [],
   "source": [
    "# In 2D\n",
    "p2d.plot_contacts(ax, cell_number=5)\n",
    "\n",
    "# In 3D\n",
    "p3d.plot_surfaces()"
   ]
  },
  {
   "cell_type": "markdown",
   "metadata": {},
   "source": [
    "Congratulations! You have learnt how to create a surface. From here on, we will\n",
    "learn how to combine multiple surfaces to little by little construct a full realize\n",
    "3D structural model.\n",
    "\n",
    "-----------\n",
    "## Intermission: GemPy data classes\n",
    "\n",
    "GemPy depends on multiple data objects to store all the data structures necessary\n",
    "to construct an structural model. To keep all the necessary objects in sync the\n",
    "class `gempy.ImplicitCoKriging` (which `geo_model` is instance of) will provide the\n",
    "necessary methods to update these data structures coherently.\n",
    "\n",
    "At current state (gempy 2.2), the data classes are:\n",
    "\n",
    "- `gempy.SurfacePoints`\n",
    "- `gempy.Orientations`\n",
    "- `gempy.Surfaces`\n",
    "- `gempy.Stack` (combination of `gempy.Series` and `gempy.Faults`)\n",
    "- `gempy.Grid`\n",
    "- `gempy.AdditionalData`\n",
    "- `gempy.Solutions`\n",
    "\n",
    "Today we will look into details only some of these classes but what is important\n",
    "to notice is that you can access these objects as follows:"
   ]
  },
  {
   "cell_type": "code",
   "execution_count": null,
   "metadata": {
    "pycharm": {
     "name": "#%%\n"
    }
   },
   "outputs": [],
   "source": [
    "# The default surfaces once again\n",
    "geo_model.surfaces"
   ]
  },
  {
   "cell_type": "code",
   "execution_count": null,
   "metadata": {
    "pycharm": {
     "name": "#%%\n"
    }
   },
   "outputs": [],
   "source": [
    "# Also the surface points\n",
    "geo_model.surface_points"
   ]
  },
  {
   "cell_type": "code",
   "execution_count": null,
   "metadata": {
    "pycharm": {
     "name": "#%%\n"
    }
   },
   "outputs": [],
   "source": [
    "# To find the location of the surface we just plot\n",
    "geo_model.solutions.vertices"
   ]
  },
  {
   "cell_type": "code",
   "execution_count": null,
   "metadata": {
    "pycharm": {
     "name": "#%%\n"
    }
   },
   "outputs": [],
   "source": [
    "# The grid values:\n",
    "geo_model.grid, len(geo_model.grid.values)"
   ]
  },
  {
   "cell_type": "code",
   "execution_count": null,
   "metadata": {
    "pycharm": {
     "name": "#%%\n"
    }
   },
   "outputs": [],
   "source": [
    "# And its correspondent ids:\n",
    "geo_model.solutions.lith_block, len(geo_model.solutions.lith_block)"
   ]
  },
  {
   "cell_type": "markdown",
   "metadata": {},
   "source": [
    "------\n",
    "\n",
    "## Adding more layers\n",
    "\n",
    "<div class=\"alert alert-block alert-warning\">\n",
    "<b>Exercise:</b> So far we only need 2 units defined. The cross-section image that\n",
    " we load have 4 however. Lets add two layers more:\n",
    "</div>"
   ]
  },
  {
   "cell_type": "markdown",
   "metadata": {},
   "source": [
    "### Layer 2\n",
    "\n",
    "First we need to add some more layers."
   ]
  },
  {
   "cell_type": "code",
   "execution_count": null,
   "metadata": {
    "pycharm": {
     "name": "#%%\n"
    }
   },
   "outputs": [],
   "source": [
    "# We can add already two extra surfaces\n",
    "geo_model.add_surfaces(['surface3', 'basement'])"
   ]
  },
  {
   "cell_type": "code",
   "execution_count": null,
   "metadata": {
    "pycharm": {
     "name": "#%%\n"
    }
   },
   "outputs": [],
   "source": [
    "# Your code here:\n",
    "geo_model.add_surface_points(X=225, Y=0, Z=-269, surface='surface2', idx=3)\n",
    "geo_model.add_surface_points(X=459, Y=0, Z=-279, surface='surface2', idx=4)\n",
    "\n",
    "#--------------------\n",
    "# Plot data\n",
    "p2d.plot_data(ax)\n",
    "p3d.plot_data()"
   ]
  },
  {
   "cell_type": "code",
   "execution_count": null,
   "metadata": {
    "pycharm": {
     "name": "#%%\n"
    }
   },
   "outputs": [],
   "source": [
    "# Compute model\n",
    "gp.compute_model(geo_model)\n",
    "\n",
    "# Plot 2D\n",
    "p2d.plot_lith(ax, cell_number=5)\n",
    "p2d.plot_contacts(ax, cell_number=5)\n",
    "\n",
    "# Plot 3D\n",
    "p3d.plot_surfaces()\n",
    "p3d.plot_structured_grid(opacity=.2, annotations = {1: 'surface1', 2:'surface2', 3:'surface3'})\n"
   ]
  },
  {
   "cell_type": "markdown",
   "metadata": {},
   "source": [
    "### Layer 3"
   ]
  },
  {
   "cell_type": "code",
   "execution_count": null,
   "metadata": {
    "pycharm": {
     "name": "#%%\n"
    }
   },
   "outputs": [],
   "source": [
    "# Your code here:\n",
    "# Add points\n",
    "geo_model.add_surface_points(X=225, Y=0, Z=-439, surface='surface3')\n",
    "geo_model.add_surface_points(X=464, Y=0, Z=-456, surface='surface3')\n",
    "geo_model.add_surface_points(X=619, Y=0, Z=-433, surface='surface3')\n",
    "\n",
    "# Compute model\n",
    "gp.compute_model(geo_model)\n",
    "\n",
    "# Plotting\n",
    "p2d.plot_data(ax, cell_number=5)\n",
    "p2d.plot_lith(ax, cell_number=5)\n",
    "p2d.plot_contacts(ax, cell_number=5)\n",
    "\n",
    "p3d.plot_surfaces()\n",
    "p3d.plot_structured_grid(opacity=.2, annotations = {1: 'surface1', 2:'surface2', 3:'surface3', 4:'basement'})\n",
    "p3d.plot_data()\n",
    "# ------------------"
   ]
  },
  {
   "cell_type": "code",
   "execution_count": null,
   "metadata": {
    "pycharm": {
     "name": "#%%\n"
    }
   },
   "outputs": [],
   "source": [
    "# gp.save_model_to_pickle(geo_model, 'checkpoint1')"
   ]
  },
  {
   "cell_type": "markdown",
   "metadata": {},
   "source": [
    "-------------------\n",
    "## Intermission: GemPy data structures: Surfaces Points, Orientations and surfaces\n",
    "\n",
    "On GemPy each surface is not independent of each other. Some surfaces will be\n",
    "subparallel to each other while other surfaces will define a fault plane where\n",
    "an offset may occur.\n",
    "\n",
    "In order to account for all possible combinations, we use **categories** (in many\n",
    "instances literal `pandas.CategoricalDtype`) and **ordered** `pandas.Dataframes`.\n",
    "Let's take a look at `gempy.SurfacePoints`:"
   ]
  },
  {
   "cell_type": "code",
   "execution_count": null,
   "metadata": {
    "pycharm": {
     "name": "#%%\n"
    }
   },
   "outputs": [],
   "source": [
    "geo_model.surface_points"
   ]
  },
  {
   "cell_type": "markdown",
   "metadata": {},
   "source": [
    "As we can see each point belong to a given surface. If now we look at the\n",
    "`gempy.Surface` object:"
   ]
  },
  {
   "cell_type": "code",
   "execution_count": null,
   "metadata": {
    "pycharm": {
     "name": "#%%\n"
    }
   },
   "outputs": [],
   "source": [
    "geo_model.surfaces"
   ]
  },
  {
   "cell_type": "markdown",
   "metadata": {},
   "source": [
    "Here we can find the properties related to a each surface. Special attention\n",
    "to the column series. At the moment all surfaces belong to the same series\n",
    "and therefore they will be interpolated together in that characteristic subparallel\n",
    "pattern.\n",
    "\n",
    "Now we will see how by playing with the series we can define unconformities and\n",
    "faults"
   ]
  },
  {
   "cell_type": "markdown",
   "metadata": {},
   "source": [
    "--------------"
   ]
  },
  {
   "cell_type": "markdown",
   "metadata": {},
   "source": [
    "<div class=\"alert alert-block alert-info\"><b>Checkpoint:</b> Next cell will load the\n",
    "model from disk to the necessary state to continue.</div>"
   ]
  },
  {
   "cell_type": "code",
   "execution_count": null,
   "metadata": {
    "pycharm": {
     "name": "#%%\n"
    }
   },
   "outputs": [],
   "source": [
    "geo_model = gp.load_model_pickle('checkpoint1.pickle')\n",
    "\n",
    "# Default plotting setting\n",
    "p2d = gp.plot_2d(geo_model)\n",
    "ax = p2d.axes[0]\n",
    "# Reading image\n",
    "img = mpimg.imread('wells.png')\n",
    "# Plotting it inplace\n",
    "ax.imshow(img, origin='upper', alpha=.8, extent = (0, 791, -582,0))\n",
    "p3d = gp.plot_3d(geo_model, plotter_type='background')"
   ]
  },
  {
   "cell_type": "markdown",
   "metadata": {},
   "source": [
    "---------\n",
    "## Unconformities and Faults:\n",
    "\n",
    "So far the model is simply a depositional unit. GemPy allows for unconformities\n",
    "and faults to build complex models. This input is given by categorical data. In general:\n",
    "\n",
    "**Geometric Data** (surface points/ orientations) <belong to< **surface** <belong to< **series**\n",
    "\n",
    "And series can be a fault---i.e. offset the rest of surface--- or not. We are going to show how to add a fault as an example.\n",
    "\n",
    "First we need to add a series:\n",
    "\n",
    "### Erosion"
   ]
  },
  {
   "cell_type": "code",
   "execution_count": null,
   "metadata": {
    "pycharm": {
     "name": "#%%\n"
    }
   },
   "outputs": [],
   "source": [
    "geo_model.add_features('Discontinuity')"
   ]
  },
  {
   "cell_type": "markdown",
   "metadata": {},
   "source": [
    "Now there are two different series/features but not a surface that belong to it.\n",
    "Therefore, we also need to add a new surface:"
   ]
  },
  {
   "cell_type": "code",
   "execution_count": null,
   "metadata": {
    "pycharm": {
     "name": "#%%\n"
    }
   },
   "outputs": [],
   "source": [
    "geo_model.add_surfaces('discontinuity1')"
   ]
  },
  {
   "cell_type": "markdown",
   "metadata": {},
   "source": [
    "Linking series/feature with surface:"
   ]
  },
  {
   "cell_type": "code",
   "execution_count": null,
   "metadata": {
    "pycharm": {
     "name": "#%%\n"
    }
   },
   "outputs": [],
   "source": [
    "gp.map_stack_to_surfaces(geo_model, {'Discontinuity':'discontinuity1'})\n"
   ]
  },
  {
   "cell_type": "markdown",
   "metadata": {},
   "source": [
    "Notice that by default it is defining an erosion."
   ]
  },
  {
   "cell_type": "code",
   "execution_count": null,
   "metadata": {
    "pycharm": {
     "name": "#%%\n"
    }
   },
   "outputs": [],
   "source": [
    "geo_model.reorder_features(['Discontinuity', 'Default series'])"
   ]
  },
  {
   "cell_type": "markdown",
   "metadata": {},
   "source": [
    "Now we can just add input data as before (remember the minimum amount of input data to compute a model):"
   ]
  },
  {
   "cell_type": "code",
   "execution_count": null,
   "metadata": {
    "pycharm": {
     "name": "#%%\n"
    }
   },
   "outputs": [],
   "source": [
    "# Add input data of the fault\n",
    "geo_model.add_surface_points(X=550, Y=0, Z=-30, surface='discontinuity1')\n",
    "geo_model.add_surface_points(X=650, Y=0, Z=-200, surface='discontinuity1')\n",
    "geo_model.add_orientations(X=600, Y=0, Z= -100, surface='discontinuity1',\n",
    "                           pole_vector=(.3,0,.3))\n",
    "# Plot\n",
    "p2d.remove(ax)\n",
    "p2d.plot_data(ax, cell_number=5)\n",
    "p3d.remove_actor(p3d.regular_grid_actor) # Removing the previous regular grid because\n",
    "                                         # we are changing the colors and gets messy\n",
    "p3d.plot_data()"
   ]
  },
  {
   "cell_type": "code",
   "execution_count": null,
   "metadata": {
    "pycharm": {
     "name": "#%%\n"
    }
   },
   "outputs": [],
   "source": [
    "geo_model.surface_points"
   ]
  },
  {
   "cell_type": "markdown",
   "metadata": {},
   "source": [
    "If we compute now the model the purple plane will erode the previous surfaces\n",
    "and layers:"
   ]
  },
  {
   "cell_type": "code",
   "execution_count": null,
   "metadata": {
    "pycharm": {
     "name": "#%%\n"
    }
   },
   "outputs": [],
   "source": [
    "# Compute\n",
    "gp.compute_model(geo_model)\n",
    "\n",
    "# Plot\n",
    "p2d.remove(ax)\n",
    "p2d.plot_data(ax, cell_number=5)\n",
    "p2d.plot_lith(ax, cell_number=5)\n",
    "p2d.plot_contacts(ax, cell_number=5)\n",
    "\n",
    "p3d.plot_data()\n",
    "p3d.plot_surfaces()\n",
    "p3d.plot_structured_grid(opacity=.2, annotations = {2: 'surface1', 3:'surface2',\n",
    "                                                    4:'surface3', 5:'basement'})"
   ]
  },
  {
   "cell_type": "markdown",
   "metadata": {},
   "source": [
    "### Onlap\n",
    "\n",
    "If the relation should be onlap we just need to change the type of series/feature\n",
    "of discontinuity"
   ]
  },
  {
   "cell_type": "code",
   "execution_count": null,
   "metadata": {
    "pycharm": {
     "name": "#%%\n"
    }
   },
   "outputs": [],
   "source": [
    "geo_model.set_bottom_relation('Discontinuity', 'Onlap')\n",
    "\n",
    "\n",
    "# %%\n",
    "\n",
    "# Compute\n",
    "gp.compute_model(geo_model)\n",
    "\n",
    "# Plot\n",
    "p2d.remove(ax)\n",
    "p2d.plot_data(ax, cell_number=5)\n",
    "p2d.plot_lith(ax, cell_number=5)\n",
    "p2d.plot_contacts(ax, cell_number=5)\n",
    "\n",
    "p3d.plot_data()\n",
    "p3d.plot_surfaces()\n",
    "p3d.plot_structured_grid(opacity=.2, annotations = {2: 'surface1', 3:'surface2',\n",
    "                                                    4:'surface3', 5:'basement'})"
   ]
  },
  {
   "cell_type": "markdown",
   "metadata": {},
   "source": [
    "### Fault\n",
    "\n",
    "Then define that is a fault. It is possible to do this either by the `set_bottom_relation`\n",
    "method or `set_is_fault`."
   ]
  },
  {
   "cell_type": "code",
   "execution_count": null,
   "metadata": {
    "pycharm": {
     "name": "#%%\n"
    }
   },
   "outputs": [],
   "source": [
    "geo_model.set_is_fault('Discontinuity')\n"
   ]
  },
  {
   "cell_type": "markdown",
   "metadata": {},
   "source": [
    "And now is computing as before:"
   ]
  },
  {
   "cell_type": "code",
   "execution_count": null,
   "metadata": {
    "pycharm": {
     "name": "#%%\n"
    }
   },
   "outputs": [],
   "source": [
    "# Compute\n",
    "gp.compute_model(geo_model)\n",
    "\n",
    "# Plot\n",
    "p2d.remove(ax)\n",
    "p2d.plot_data(ax, cell_number=5)\n",
    "p2d.plot_lith(ax, cell_number=5)\n",
    "p2d.plot_contacts(ax, cell_number=5)\n",
    "\n",
    "p3d.plot_data()\n",
    "p3d.plot_surfaces()\n",
    "p3d.plot_structured_grid(opacity=.2, annotations = {2: 'surface1', 3:'surface2',\n",
    "                                                    4:'surface3', 5:'basement'})"
   ]
  },
  {
   "cell_type": "markdown",
   "metadata": {},
   "source": [
    "By using multiple series/features instead of having folding layers we can have sharp\n",
    " interfaces. This opens"
   ]
  },
  {
   "cell_type": "markdown",
   "metadata": {},
   "source": [
    "## Additional features:\n",
    "\n",
    "Over the years we have built a bunch of assets integrate with `gempy`.\n",
    " Here we will show some of them:\n",
    "\n",
    "### Topography\n",
    "\n",
    "GemPy has a built-in capabilities to read and manipulate topographic data (through gdal).\n",
    " To show an example we can just create a random topography:"
   ]
  },
  {
   "cell_type": "code",
   "execution_count": null,
   "metadata": {
    "pycharm": {
     "name": "#%%\n"
    }
   },
   "outputs": [],
   "source": [
    "## Adding random topography\n",
    "geo_model.set_topography(source='random',fd=1.9, d_z=np.array([-150, 0]), resolution=np.array([200,200]))"
   ]
  },
  {
   "cell_type": "markdown",
   "metadata": {},
   "source": [
    "The topography can we visualize in both renderers:"
   ]
  },
  {
   "cell_type": "code",
   "execution_count": null,
   "metadata": {
    "pycharm": {
     "name": "#%%\n"
    }
   },
   "outputs": [],
   "source": [
    "p2d.plot_topography(ax, cell_number=5)\n",
    "p3d.plot_topography(scalars='topography')"
   ]
  },
  {
   "cell_type": "markdown",
   "metadata": {},
   "source": [
    "But also allows us to compute the geological map of an area:"
   ]
  },
  {
   "cell_type": "code",
   "execution_count": null,
   "metadata": {
    "pycharm": {
     "name": "#%%\n"
    }
   },
   "outputs": [],
   "source": [
    "gp.compute_model(geo_model)\n",
    "p3d.plot_surfaces()\n",
    "p3d.plot_topography()"
   ]
  },
  {
   "cell_type": "code",
   "execution_count": null,
   "metadata": {
    "pycharm": {
     "name": "#%%\n"
    }
   },
   "outputs": [],
   "source": [
    "p3d.plot_structured_grid()"
   ]
  },
  {
   "cell_type": "code",
   "execution_count": null,
   "metadata": {
    "pycharm": {
     "name": "#%%\n"
    }
   },
   "outputs": [],
   "source": [
    "# gp.save_model_to_pickle(geo_model, 'checkpoint2')"
   ]
  },
  {
   "cell_type": "markdown",
   "metadata": {},
   "source": [
    "--------------"
   ]
  },
  {
   "cell_type": "markdown",
   "metadata": {},
   "source": [
    "<div class=\"alert alert-block alert-info\"><b>Checkpoint:</b> Next cell will load the\n",
    "model from disk to the necessary state to continue.</div>"
   ]
  },
  {
   "cell_type": "code",
   "execution_count": null,
   "metadata": {
    "pycharm": {
     "name": "#%%\n"
    }
   },
   "outputs": [],
   "source": [
    "geo_model = gp.load_model_pickle('checkpoint2.pickle')\n",
    "\n",
    "# Default plotting setting\n",
    "p2d = gp.plot_2d(geo_model)\n",
    "ax = p2d.axes[0]\n",
    "# Reading image\n",
    "img = mpimg.imread('wells.png')\n",
    "# Plotting it inplace\n",
    "ax.imshow(img, origin='upper', alpha=.8, extent = (0, 791, -582,0))\n",
    "p3d = gp.plot_3d(geo_model, plotter_type='background', show_topography=True)\n"
   ]
  },
  {
   "cell_type": "markdown",
   "metadata": {},
   "source": [
    "### Forward gravity\n",
    "\n",
    "GemPy also allows for inversions (in production only gravity so far). We can see a small demo how this works.\n",
    "\n",
    "The first thing to do is to assign densities to each of the units:"
   ]
  },
  {
   "cell_type": "code",
   "execution_count": null,
   "metadata": {
    "pycharm": {
     "name": "#%%\n"
    }
   },
   "outputs": [],
   "source": [
    "geo_model.add_surface_values([0, 2.6, 2.4, 3.2, 3.6], ['density'])"
   ]
  },
  {
   "cell_type": "markdown",
   "metadata": {},
   "source": [
    "Also we can create a centered grid around a device for precision:"
   ]
  },
  {
   "cell_type": "code",
   "execution_count": null,
   "metadata": {
    "pycharm": {
     "name": "#%%\n"
    }
   },
   "outputs": [],
   "source": [
    "geo_model.set_centered_grid(centers= [[400, 0, 0]],  resolution = [10, 10, 100],\n",
    "                            radius=800)"
   ]
  },
  {
   "cell_type": "code",
   "execution_count": null,
   "metadata": {
    "pycharm": {
     "name": "#%%\n"
    }
   },
   "outputs": [],
   "source": [
    "from notebooks.aux_func import plot_centered_grid\n",
    "\n",
    "plot_centered_grid(geo_model.grid.centered_grid)"
   ]
  },
  {
   "cell_type": "markdown",
   "metadata": {},
   "source": [
    "We need to modify the graph to add the branch of algebra necessary to compute\n",
    " gravity from prisms. This also means that we need to recompile the `theano`\n",
    " function:"
   ]
  },
  {
   "cell_type": "code",
   "execution_count": null,
   "metadata": {
    "pycharm": {
     "name": "#%%\n"
    }
   },
   "outputs": [],
   "source": [
    "gp.set_interpolator(geo_model, output=['gravity'], theano_optimizer='fast_run')"
   ]
  },
  {
   "cell_type": "markdown",
   "metadata": {},
   "source": [
    "But now additionally to the interpolation we also compute the forward gravity of\n",
    " the model (at the point XYZ = 400, 0, 0)"
   ]
  },
  {
   "cell_type": "code",
   "execution_count": null,
   "metadata": {
    "pycharm": {
     "name": "#%%\n"
    }
   },
   "outputs": [],
   "source": [
    "gp.compute_model(geo_model)\n",
    "geo_model.solutions.fw_gravity"
   ]
  },
  {
   "cell_type": "markdown",
   "metadata": {},
   "source": [
    "We can visualize it it better in the following figure. The aim of an inversion is to find the set of parameters that \n",
    "fit a measured point the better. In this example the red x symbolize the measured gravity while  the blue dots are \n",
    "the current gravity (and previous) fw gravity values.  The widget moves up and down the surface 3"
   ]
  },
  {
   "cell_type": "code",
   "execution_count": null,
   "metadata": {
    "pycharm": {
     "name": "#%%\n"
    }
   },
   "outputs": [],
   "source": [
    "import notebooks.aux_func\n",
    "from importlib import reload\n",
    "reload(notebooks.aux_func)\n",
    "grav_invert = notebooks.aux_func.plot_grav_inter(geo_model, )"
   ]
  },
  {
   "cell_type": "code",
   "execution_count": null,
   "metadata": {
    "pycharm": {
     "name": "#%%\n"
    }
   },
   "outputs": [],
   "source": [
    "interact(grav_invert, dz=(-200, 200, 10))"
   ]
  },
  {
   "cell_type": "code",
   "execution_count": null,
   "metadata": {
    "pycharm": {
     "name": "#%%\n"
    }
   },
   "outputs": [],
   "source": [
    "# gp.save_model_to_pickle(geo_model, 'checkpoint3')\n"
   ]
  },
  {
   "cell_type": "markdown",
   "metadata": {},
   "source": [
    "-----------\n",
    "\n",
    "<div class=\"alert alert-block alert-info\"><b>Checkpoint:</b> Next cell will load the\n",
    "model from disk to the necessary state to continue.</div>\n",
    "\n",
    "___________\n",
    "\n",
    "## Probabilistic Modeling\n",
    "\n",
    "When dealing with geological data, uncertainty is always present. Device precision\n",
    "and error, interpretations or extrapolations, the sources of uncertainty are\n",
    "many and very heterogeneous. Probabilistic modeling enable to capture some\n",
    "of this epistemic uncertainty - i.e. lack of knowledge - into **aleatoric** uncertainty\n",
    "that we can represent by probability distributions.\n",
    "\n",
    "In this tutorial be will introduce some basic concepts and building blocks and\n",
    "how all can be coupled with `gempy`."
   ]
  },
  {
   "cell_type": "code",
   "execution_count": 1,
   "metadata": {
    "pycharm": {
     "name": "#%%\n"
    }
   },
   "outputs": [],
   "source": [
    "import gempy as gp\n",
    "import numpy as np\n",
    "%matplotlib inline\n",
    "geo_model = gp.load_model_pickle('checkpoint3.pickle')\n",
    "p3d = gp.plot_3d(geo_model, plotter_type='background', show_topography=False)"
   ]
  },
  {
   "cell_type": "markdown",
   "metadata": {
    "pycharm": {
     "name": "#%% md\n"
    }
   },
   "source": [
    "Let's construct a very simple probabilistic model. We will have only 3 random\n",
    "variables that define the depth of each of the surfaces.\n",
    "\n",
    "First we need to see which surface points we want to modify:"
   ]
  },
  {
   "cell_type": "code",
   "execution_count": 2,
   "metadata": {
    "pycharm": {
     "name": "#%%\n"
    }
   },
   "outputs": [
    {
     "data": {
      "text/html": [
       "<table border=\"1\" class=\"dataframe\">\n",
       "  <thead>\n",
       "    <tr style=\"text-align: right;\">\n",
       "      <th></th>\n",
       "      <th>X</th>\n",
       "      <th>Y</th>\n",
       "      <th>Z</th>\n",
       "      <th>smooth</th>\n",
       "      <th>surface</th>\n",
       "    </tr>\n",
       "  </thead>\n",
       "  <tbody>\n",
       "    <tr>\n",
       "      <th>8</th>\n",
       "      <td>550.0</td>\n",
       "      <td>0.00</td>\n",
       "      <td>-30.0</td>\n",
       "      <td>0.000001</td>\n",
       "      <td>discontinuity1</td>\n",
       "    </tr>\n",
       "    <tr>\n",
       "      <th>9</th>\n",
       "      <td>650.0</td>\n",
       "      <td>0.00</td>\n",
       "      <td>-200.0</td>\n",
       "      <td>0.000001</td>\n",
       "      <td>discontinuity1</td>\n",
       "    </tr>\n",
       "    <tr>\n",
       "      <th>1</th>\n",
       "      <td>458.0</td>\n",
       "      <td>0.00</td>\n",
       "      <td>-107.0</td>\n",
       "      <td>0.000001</td>\n",
       "      <td>surface1</td>\n",
       "    </tr>\n",
       "    <tr>\n",
       "      <th>2</th>\n",
       "      <td>612.0</td>\n",
       "      <td>0.00</td>\n",
       "      <td>-14.0</td>\n",
       "      <td>0.000001</td>\n",
       "      <td>surface1</td>\n",
       "    </tr>\n",
       "    <tr>\n",
       "      <th>0</th>\n",
       "      <td>223.0</td>\n",
       "      <td>0.01</td>\n",
       "      <td>-94.0</td>\n",
       "      <td>0.000001</td>\n",
       "      <td>surface1</td>\n",
       "    </tr>\n",
       "    <tr>\n",
       "      <th>3</th>\n",
       "      <td>225.0</td>\n",
       "      <td>0.00</td>\n",
       "      <td>-269.0</td>\n",
       "      <td>0.000001</td>\n",
       "      <td>surface2</td>\n",
       "    </tr>\n",
       "    <tr>\n",
       "      <th>4</th>\n",
       "      <td>459.0</td>\n",
       "      <td>0.00</td>\n",
       "      <td>-279.0</td>\n",
       "      <td>0.000001</td>\n",
       "      <td>surface2</td>\n",
       "    </tr>\n",
       "    <tr>\n",
       "      <th>5</th>\n",
       "      <td>225.0</td>\n",
       "      <td>0.00</td>\n",
       "      <td>-399.0</td>\n",
       "      <td>0.000001</td>\n",
       "      <td>surface3</td>\n",
       "    </tr>\n",
       "    <tr>\n",
       "      <th>6</th>\n",
       "      <td>464.0</td>\n",
       "      <td>0.00</td>\n",
       "      <td>-416.0</td>\n",
       "      <td>0.000001</td>\n",
       "      <td>surface3</td>\n",
       "    </tr>\n",
       "    <tr>\n",
       "      <th>7</th>\n",
       "      <td>619.0</td>\n",
       "      <td>0.00</td>\n",
       "      <td>-393.0</td>\n",
       "      <td>0.000001</td>\n",
       "      <td>surface3</td>\n",
       "    </tr>\n",
       "  </tbody>\n",
       "</table>"
      ],
      "text/plain": [
       "       X     Y      Z    smooth         surface\n",
       "8  550.0  0.00  -30.0  0.000001  discontinuity1\n",
       "9  650.0  0.00 -200.0  0.000001  discontinuity1\n",
       "1  458.0  0.00 -107.0  0.000001        surface1\n",
       "2  612.0  0.00  -14.0  0.000001        surface1\n",
       "0  223.0  0.01  -94.0  0.000001        surface1\n",
       "3  225.0  0.00 -269.0  0.000001        surface2\n",
       "4  459.0  0.00 -279.0  0.000001        surface2\n",
       "5  225.0  0.00 -399.0  0.000001        surface3\n",
       "6  464.0  0.00 -416.0  0.000001        surface3\n",
       "7  619.0  0.00 -393.0  0.000001        surface3"
      ]
     },
     "execution_count": 2,
     "metadata": {},
     "output_type": "execute_result"
    }
   ],
   "source": [
    "geo_model.surface_points"
   ]
  },
  {
   "cell_type": "code",
   "execution_count": 3,
   "metadata": {
    "pycharm": {
     "name": "#%%\n"
    }
   },
   "outputs": [
    {
     "data": {
      "text/plain": [
       "Int64Index([1, 2, 0, 3, 4, 5, 6, 7], dtype='int64')"
      ]
     },
     "execution_count": 3,
     "metadata": {},
     "output_type": "execute_result"
    }
   ],
   "source": [
    "indices_bool = geo_model.surface_points.df['surface'].isin(['surface1', 'surface2', 'surface3'])\n",
    "indices = geo_model.surface_points.df.index[indices_bool]\n",
    "indices"
   ]
  },
  {
   "cell_type": "markdown",
   "metadata": {
    "pycharm": {
     "name": "#%% md\n"
    }
   },
   "source": [
    "Indices from 0 to 7 are defining the layers of interest.\n",
    "\n",
    "When we define a normal variable we can either doing it by define its absolute\n",
    "position or its variance centering the mean at 0 - for normal distributions the result is the same.\n",
    "For this tutorial I would use the second for convenience."
   ]
  },
  {
   "cell_type": "code",
   "execution_count": 4,
   "metadata": {
    "pycharm": {
     "name": "#%%\n"
    }
   },
   "outputs": [
    {
     "data": {
      "text/plain": [
       "1   -107.0\n",
       "2    -14.0\n",
       "0    -94.0\n",
       "3   -269.0\n",
       "4   -279.0\n",
       "5   -399.0\n",
       "6   -416.0\n",
       "7   -393.0\n",
       "Name: Z, dtype: float64"
      ]
     },
     "execution_count": 4,
     "metadata": {},
     "output_type": "execute_result"
    }
   ],
   "source": [
    "# First we need to store the initial depth location\n",
    "Z_init = geo_model.surface_points.df.loc[indices, 'Z'].copy()\n",
    "Z_init\n"
   ]
  },
  {
   "cell_type": "markdown",
   "metadata": {},
   "source": [
    "We can sample the variance of those values and added it to the initial values:"
   ]
  },
  {
   "cell_type": "code",
   "execution_count": 5,
   "metadata": {
    "pycharm": {
     "name": "#%%\n"
    }
   },
   "outputs": [
    {
     "data": {
      "text/plain": [
       "array([-116.1952967 ,  -23.1952967 , -103.1952967 , -262.93999278,\n",
       "       -272.93999278, -430.16199237, -447.16199237, -424.16199237])"
      ]
     },
     "execution_count": 5,
     "metadata": {},
     "output_type": "execute_result"
    }
   ],
   "source": [
    "# Defining the variance for each layer\n",
    "Z_var = np.random.normal(0, # Mean certered on 0\n",
    "                     30, # Variance of the location\n",
    "                     size=3 # Number of random variables\n",
    "                     )\n",
    "\n",
    "Z_loc = np.hstack([Z_init[[1,2,0]] + Z_var[0],\n",
    "               Z_init[[3, 4]] + Z_var[1],\n",
    "               Z_init[[5, 6, 7]] + Z_var[2]])\n",
    "\n",
    "Z_loc"
   ]
  },
  {
   "cell_type": "markdown",
   "metadata": {},
   "source": [
    "And now we can modify the location of `gempy` surface points:"
   ]
  },
  {
   "cell_type": "code",
   "execution_count": 6,
   "metadata": {
    "pycharm": {
     "name": "#%%\n"
    }
   },
   "outputs": [
    {
     "data": {
      "text/html": [
       "<table border=\"1\" class=\"dataframe\">\n",
       "  <thead>\n",
       "    <tr style=\"text-align: right;\">\n",
       "      <th></th>\n",
       "      <th>X</th>\n",
       "      <th>Y</th>\n",
       "      <th>Z</th>\n",
       "      <th>smooth</th>\n",
       "      <th>surface</th>\n",
       "    </tr>\n",
       "  </thead>\n",
       "  <tbody>\n",
       "    <tr>\n",
       "      <th>8</th>\n",
       "      <td>550.0</td>\n",
       "      <td>0.00</td>\n",
       "      <td>-30.000000</td>\n",
       "      <td>0.000001</td>\n",
       "      <td>discontinuity1</td>\n",
       "    </tr>\n",
       "    <tr>\n",
       "      <th>9</th>\n",
       "      <td>650.0</td>\n",
       "      <td>0.00</td>\n",
       "      <td>-200.000000</td>\n",
       "      <td>0.000001</td>\n",
       "      <td>discontinuity1</td>\n",
       "    </tr>\n",
       "    <tr>\n",
       "      <th>1</th>\n",
       "      <td>458.0</td>\n",
       "      <td>0.00</td>\n",
       "      <td>-116.195297</td>\n",
       "      <td>0.000001</td>\n",
       "      <td>surface1</td>\n",
       "    </tr>\n",
       "    <tr>\n",
       "      <th>2</th>\n",
       "      <td>612.0</td>\n",
       "      <td>0.00</td>\n",
       "      <td>-23.195297</td>\n",
       "      <td>0.000001</td>\n",
       "      <td>surface1</td>\n",
       "    </tr>\n",
       "    <tr>\n",
       "      <th>0</th>\n",
       "      <td>223.0</td>\n",
       "      <td>0.01</td>\n",
       "      <td>-103.195297</td>\n",
       "      <td>0.000001</td>\n",
       "      <td>surface1</td>\n",
       "    </tr>\n",
       "    <tr>\n",
       "      <th>3</th>\n",
       "      <td>225.0</td>\n",
       "      <td>0.00</td>\n",
       "      <td>-262.939993</td>\n",
       "      <td>0.000001</td>\n",
       "      <td>surface2</td>\n",
       "    </tr>\n",
       "    <tr>\n",
       "      <th>4</th>\n",
       "      <td>459.0</td>\n",
       "      <td>0.00</td>\n",
       "      <td>-272.939993</td>\n",
       "      <td>0.000001</td>\n",
       "      <td>surface2</td>\n",
       "    </tr>\n",
       "    <tr>\n",
       "      <th>5</th>\n",
       "      <td>225.0</td>\n",
       "      <td>0.00</td>\n",
       "      <td>-430.161992</td>\n",
       "      <td>0.000001</td>\n",
       "      <td>surface3</td>\n",
       "    </tr>\n",
       "    <tr>\n",
       "      <th>6</th>\n",
       "      <td>464.0</td>\n",
       "      <td>0.00</td>\n",
       "      <td>-447.161992</td>\n",
       "      <td>0.000001</td>\n",
       "      <td>surface3</td>\n",
       "    </tr>\n",
       "    <tr>\n",
       "      <th>7</th>\n",
       "      <td>619.0</td>\n",
       "      <td>0.00</td>\n",
       "      <td>-424.161992</td>\n",
       "      <td>0.000001</td>\n",
       "      <td>surface3</td>\n",
       "    </tr>\n",
       "  </tbody>\n",
       "</table>"
      ],
      "text/plain": [
       "       X     Y           Z    smooth         surface\n",
       "8  550.0  0.00  -30.000000  0.000001  discontinuity1\n",
       "9  650.0  0.00 -200.000000  0.000001  discontinuity1\n",
       "1  458.0  0.00 -116.195297  0.000001        surface1\n",
       "2  612.0  0.00  -23.195297  0.000001        surface1\n",
       "0  223.0  0.01 -103.195297  0.000001        surface1\n",
       "3  225.0  0.00 -262.939993  0.000001        surface2\n",
       "4  459.0  0.00 -272.939993  0.000001        surface2\n",
       "5  225.0  0.00 -430.161992  0.000001        surface3\n",
       "6  464.0  0.00 -447.161992  0.000001        surface3\n",
       "7  619.0  0.00 -424.161992  0.000001        surface3"
      ]
     },
     "execution_count": 6,
     "metadata": {},
     "output_type": "execute_result"
    }
   ],
   "source": [
    "# We are going to be extra verbose here!\n",
    "p3d.toggle_live_updating()\n",
    "geo_model.modify_surface_points(indices,\n",
    "                                Z=Z_loc,\n",
    "                                plot_object=p3d)"
   ]
  },
  {
   "cell_type": "markdown",
   "metadata": {},
   "source": [
    "Once we have the code to sample from the probability space we can make a function out of it..."
   ]
  },
  {
   "cell_type": "code",
   "execution_count": 7,
   "metadata": {
    "pycharm": {
     "name": "#%%\n"
    }
   },
   "outputs": [],
   "source": [
    "# We can create a function\n",
    "def sample(silent=True):\n",
    "    # Defining the variance for each layer\n",
    "    Z_var = np.random.normal(0, # Mean certered on 0\n",
    "                         30, # Variance of the location\n",
    "                         size=3 # Number of random variables\n",
    "                         )\n",
    "\n",
    "    Z_loc = np.hstack([Z_init[[1,2,0]] + Z_var[0],\n",
    "                   Z_init[[3, 4]] + Z_var[1],\n",
    "                   Z_init[[5, 6, 7]] + Z_var[2]])\n",
    "\n",
    "    if silent is True:\n",
    "        geo_model.modify_surface_points(indices, Z=Z_loc)\n",
    "        gp.compute_model(geo_model)\n",
    "    else:\n",
    "        geo_model.modify_surface_points(indices, Z=Z_loc, plot_object=p3d)\n",
    "\n",
    "    # Returns the 3d lith array\n",
    "    return geo_model.solutions.lith_block"
   ]
  },
  {
   "cell_type": "markdown",
   "metadata": {},
   "source": [
    "...and now we can call it as often as we want."
   ]
  },
  {
   "cell_type": "code",
   "execution_count": 11,
   "metadata": {
    "pycharm": {
     "name": "#%%\n"
    }
   },
   "outputs": [
    {
     "data": {
      "text/plain": [
       "array([5., 5., 5., ..., 3., 3., 3.])"
      ]
     },
     "execution_count": 11,
     "metadata": {},
     "output_type": "execute_result"
    }
   ],
   "source": [
    "sample(silent=False)\n"
   ]
  },
  {
   "cell_type": "markdown",
   "metadata": {},
   "source": [
    "By appliying simple Monte Carlo Error propagation we can integrate the unceratinty of the input data with a simple loop:"
   ]
  },
  {
   "cell_type": "code",
   "execution_count": 13,
   "metadata": {
    "pycharm": {
     "name": "#%%\n"
    }
   },
   "outputs": [],
   "source": [
    "lith_blocks = np.array([])\n",
    "n_iterations = 50\n",
    "for i in range(n_iterations):\n",
    "    lith_blocks = np.append(lith_blocks, sample())"
   ]
  },
  {
   "cell_type": "code",
   "execution_count": 14,
   "metadata": {
    "pycharm": {
     "name": "#%%\n"
    }
   },
   "outputs": [
    {
     "data": {
      "text/plain": [
       "(50, 100000)"
      ]
     },
     "execution_count": 14,
     "metadata": {},
     "output_type": "execute_result"
    }
   ],
   "source": [
    "# Now we have in memory 50 different geological modeling\n",
    "lith_blocks = lith_blocks.reshape(n_iterations, -1)\n",
    "lith_blocks.shape"
   ]
  },
  {
   "cell_type": "markdown",
   "metadata": {},
   "source": [
    "Visualizing uncertainty and probability in 3D can be challenging. `gempy` comes with some functionality to help with that. The first possibility is to visualize the probability of a occurrence of a given layer:"
   ]
  },
  {
   "cell_type": "code",
   "execution_count": 15,
   "metadata": {
    "pycharm": {
     "name": "#%%\n"
    }
   },
   "outputs": [],
   "source": [
    "from gempy.bayesian.fields import compute_prob, calculate_ie_masked\n",
    "prob_block = compute_prob(lith_blocks)"
   ]
  },
  {
   "cell_type": "code",
   "execution_count": 16,
   "metadata": {
    "pycharm": {
     "name": "#%%\n"
    }
   },
   "outputs": [
    {
     "name": "stderr",
     "output_type": "stream",
     "text": [
      "c:\\users\\legui\\pycharmprojects\\gempy\\gempy\\plot\\plot_api.py:261: UserWarning: Matplotlib is currently using module://ipykernel.pylab.backend_inline, which is a non-GUI backend, so cannot show the figure.\n",
      "  p.fig.show()\n"
     ]
    },
    {
     "data": {
      "image/png": "[encoded data removed]",
      "text/plain": [
       "<Figure size 432x288 with 1 Axes>"
      ]
     },
     "metadata": {
      "needs_background": "light"
     },
     "output_type": "display_data"
    }
   ],
   "source": [
    "layer = 1\n",
    "p2dp = gp.plot_2d(geo_model,\n",
    "                  show_lith=False, show_boundaries=False, show_data=False,\n",
    "                  regular_grid=prob_block[layer],\n",
    "                  kwargs_regular_grid={'cmap': 'viridis',\n",
    "                                        'norm': None}\n",
    "                  )\n"
   ]
  },
  {
   "cell_type": "markdown",
   "metadata": {},
   "source": [
    "To visualize multiple layers, information entropy encapsulate several probability fields in one single metric. This give a general idea of the **uncertain** areas of your domain:"
   ]
  },
  {
   "cell_type": "code",
   "execution_count": 17,
   "metadata": {
    "pycharm": {
     "name": "#%%\n"
    }
   },
   "outputs": [
    {
     "data": {
      "image/png": "[encoded data removed]",
      "text/plain": [
       "<Figure size 432x288 with 1 Axes>"
      ]
     },
     "metadata": {
      "needs_background": "light"
     },
     "output_type": "display_data"
    }
   ],
   "source": [
    "entropy_block = calculate_ie_masked(prob_block)\n",
    "p2dp = gp.plot_2d(geo_model,\n",
    "                  show_lith=False, show_boundaries=False, show_data=False,\n",
    "                  regular_grid=entropy_block,\n",
    "                  kwargs_regular_grid={'cmap': 'magma',\n",
    "                                       'norm': None}\n",
    "                  )\n",
    "\n"
   ]
  },
  {
   "cell_type": "markdown",
   "metadata": {
    "pycharm": {
     "name": "#%% md\n"
    }
   },
   "source": [
    "## Intro to Bayesian Inference using pymc3\n",
    "\n",
    "Until now we have seen how we can propagate uncertainty from the input parameters to hte full 3D model space. Altough in many occassions this may be useful in itself, as the number of stochastic parameters increase it is relatively difficult to keep geological realism in place.\n",
    "\n",
    "Bayesian inference will allow us not only to have probabilistic models but also to **learn** which of the possible realizations better describe **additional information**.\n",
    "\n",
    "In this chapter we will see how by combining the forward gravity computation with probabilisitc modeling, we can generate an assamble of models that honor - in this case, the gravity - observation.\n",
    "\n",
    "\n",
    "<div class=\"alert alert-block alert-info\"><b>Checkpoint:</b> Next cell will load the\n",
    "model from disk to the necessary state to continue.</div>"
   ]
  },
  {
   "cell_type": "code",
   "execution_count": 1,
   "metadata": {
    "pycharm": {
     "name": "#%%\n"
    }
   },
   "outputs": [],
   "source": [
    "import gempy as gp\n",
    "import theano\n",
    "\n",
    "\n",
    "%matplotlib inline\n",
    "geo_model = gp.load_model_pickle('checkpoint3.pickle')\n",
    "indices_bool = geo_model.surface_points.df['surface'].isin(['surface1', 'surface2', 'surface3'])\n",
    "indices = geo_model.surface_points.df.index[indices_bool]\n",
    "Z_init = geo_model.surface_points.df.loc[indices, 'Z'].copy()\n",
    "from gempy.bayesian.fields import compute_prob, calculate_ie_masked"
   ]
  },
  {
   "cell_type": "markdown",
   "metadata": {},
   "source": [
    "For this chapter we are going to need a few extra libraries:"
   ]
  },
  {
   "cell_type": "code",
   "execution_count": 2,
   "metadata": {
    "pycharm": {
     "name": "#%%\n"
    }
   },
   "outputs": [],
   "source": [
    "#!pip install pymc3, arviz\n",
    "\n",
    "import arviz as az\n",
    "import pymc3 as pm\n",
    "import numpy as np\n"
   ]
  },
  {
   "cell_type": "markdown",
   "metadata": {},
   "source": [
    "### Replicating the previous example in pymc3\n",
    "\n",
    "The first step is going to replicate the previous exercise now in `pymc3`. `pymc3` relay on `theano` for automatic differentiation which enable state-of-the-art samplers."
   ]
  },
  {
   "cell_type": "code",
   "execution_count": 42,
   "metadata": {
    "pycharm": {
     "name": "#%%\n"
    }
   },
   "outputs": [],
   "source": [
    "import theano.tensor as tt\n",
    "\n",
    "def sample_grav(Z_var2):\n",
    "    Z_loc = np.hstack([Z_init[[1,2,0]] + Z_var2[0],\n",
    "                       Z_init[[3, 4]] + Z_var2[1],\n",
    "                       Z_init[[5, 6, 7]] + Z_var2[2]])\n",
    "\n",
    "\n",
    "    geo_model.modify_surface_points(indices, Z=Z_loc)\n",
    "    gp.compute_model(geo_model)\n",
    "\n",
    "    # Returns the 3d lith array\n",
    "    return geo_model.solutions.fw_gravity\n",
    "\n",
    "def sample_lith(Z_var):\n",
    "    Z_loc = np.hstack([Z_init[[1,2,0]] + Z_var[0],\n",
    "                   Z_init[[3, 4]] + Z_var[1],\n",
    "                   Z_init[[5, 6, 7]] + Z_var[2]])\n",
    "\n",
    "\n",
    "    geo_model.modify_surface_points(indices, Z=Z_loc)\n",
    "    gp.compute_model(geo_model)\n",
    "\n",
    "    # Returns the 3d lith array\n",
    "    return geo_model.solutions.lith_block\n",
    "\n",
    "\n",
    "class GemPyGrav(tt.Op):\n",
    "    itypes = [tt.fvector]\n",
    "    otypes = [tt.dvector]\n",
    "\n",
    "    def perform(self, node, inputs, outputs):\n",
    "        theta, = inputs\n",
    "        mu = sample_grav(theta)\n",
    "        outputs[0][0] = np.array(mu)\n",
    "\n",
    "class GemPyLith(tt.Op):\n",
    "    itypes = [tt.fvector]\n",
    "    otypes = [tt.dvector]\n",
    "\n",
    "    def perform(self, node, inputs, outputs):\n",
    "        theta, = inputs\n",
    "        mu = sample_lith(theta)\n",
    "        outputs[0][0] = np.array(mu)\n",
    "\n",
    "gempy_grav = GemPyGrav()\n",
    "gempy_lith = GemPyLith()"
   ]
  },
  {
   "cell_type": "code",
   "execution_count": 43,
   "metadata": {
    "pycharm": {
     "name": "#%%\n"
    }
   },
   "outputs": [],
   "source": [
    "with pm.Model() as model:\n",
    "\n",
    "    Z_var = pm.Normal('Z_var', mu=0, sigma=30, dtype='float32', shape=3)\n",
    "    grav = pm.Deterministic('gravity', gempy_grav(Z_var))\n",
    "    lith = pm.Deterministic('lithologies', gempy_lith(Z_var))"
   ]
  },
  {
   "cell_type": "code",
   "execution_count": 44,
   "metadata": {
    "pycharm": {
     "name": "#%%\n"
    }
   },
   "outputs": [
    {
     "data": {
      "image/svg+xml": [
       "<?xml version=\"1.0\" encoding=\"UTF-8\" standalone=\"no\"?>\r\n",
       "<!DOCTYPE svg PUBLIC \"-//W3C//DTD SVG 1.1//EN\"\r\n",
       " \"http://www.w3.org/Graphics/SVG/1.1/DTD/svg11.dtd\">\r\n",
       "<!-- Generated by graphviz version 2.38.0 (20140413.2041)\r\n",
       " -->\r\n",
       "<!-- Title: %3 Pages: 1 -->\r\n",
       "<svg width=\"346pt\" height=\"182pt\"\r\n",
       " viewBox=\"0.00 0.00 346.00 182.00\" xmlns=\"http://www.w3.org/2000/svg\" xmlns:xlink=\"http://www.w3.org/1999/xlink\">\r\n",
       "<g id=\"graph0\" class=\"graph\" transform=\"scale(1 1) rotate(0) translate(4 178)\">\r\n",
       "<title>%3</title>\r\n",
       "<polygon fill=\"white\" stroke=\"none\" points=\"-4,4 -4,-178 342,-178 342,4 -4,4\"/>\r\n",
       "<g id=\"clust1\" class=\"cluster\"><title>cluster3</title>\r\n",
       "<path fill=\"none\" stroke=\"black\" d=\"M130,-91C130,-91 260,-91 260,-91 266,-91 272,-97 272,-103 272,-103 272,-154 272,-154 272,-160 266,-166 260,-166 260,-166 130,-166 130,-166 124,-166 118,-160 118,-154 118,-154 118,-103 118,-103 118,-97 124,-91 130,-91\"/>\r\n",
       "<text text-anchor=\"middle\" x=\"260.5\" y=\"-98.8\" font-family=\"Times New Roman,serif\" font-size=\"14.00\">3</text>\r\n",
       "</g>\r\n",
       "<g id=\"clust2\" class=\"cluster\"><title>cluster100,000</title>\r\n",
       "<path fill=\"none\" stroke=\"black\" d=\"M164,-8C164,-8 318,-8 318,-8 324,-8 330,-14 330,-20 330,-20 330,-71 330,-71 330,-77 324,-83 318,-83 318,-83 164,-83 164,-83 158,-83 152,-77 152,-71 152,-71 152,-20 152,-20 152,-14 158,-8 164,-8\"/>\r\n",
       "<text text-anchor=\"middle\" x=\"299.5\" y=\"-15.8\" font-family=\"Times New Roman,serif\" font-size=\"14.00\">100,000</text>\r\n",
       "</g>\r\n",
       "<!-- Z_var -->\r\n",
       "<g id=\"node1\" class=\"node\"><title>Z_var</title>\r\n",
       "<ellipse fill=\"none\" stroke=\"black\" cx=\"195\" cy=\"-140\" rx=\"68.7879\" ry=\"18\"/>\r\n",
       "<text text-anchor=\"middle\" x=\"195\" y=\"-136.3\" font-family=\"Times New Roman,serif\" font-size=\"14.00\">Z_var ~ Normal</text>\r\n",
       "</g>\r\n",
       "<!-- gravity -->\r\n",
       "<g id=\"node2\" class=\"node\"><title>gravity</title>\r\n",
       "<polygon fill=\"none\" stroke=\"black\" points=\"142,-75 0,-75 0,-39 142,-39 142,-75\"/>\r\n",
       "<text text-anchor=\"middle\" x=\"71\" y=\"-53.3\" font-family=\"Times New Roman,serif\" font-size=\"14.00\">gravity ~ Deterministic</text>\r\n",
       "</g>\r\n",
       "<!-- Z_var&#45;&gt;gravity -->\r\n",
       "<g id=\"edge1\" class=\"edge\"><title>Z_var&#45;&gt;gravity</title>\r\n",
       "<path fill=\"none\" stroke=\"black\" d=\"M170.502,-122.997C151.974,-110.894 126.29,-94.1168 105.657,-80.6392\"/>\r\n",
       "<polygon fill=\"black\" stroke=\"black\" points=\"107.446,-77.627 97.1599,-75.0883 103.618,-83.4874 107.446,-77.627\"/>\r\n",
       "</g>\r\n",
       "<!-- lithologies -->\r\n",
       "<g id=\"node3\" class=\"node\"><title>lithologies</title>\r\n",
       "<polygon fill=\"none\" stroke=\"black\" points=\"321.5,-75 160.5,-75 160.5,-39 321.5,-39 321.5,-75\"/>\r\n",
       "<text text-anchor=\"middle\" x=\"241\" y=\"-53.3\" font-family=\"Times New Roman,serif\" font-size=\"14.00\">lithologies ~ Deterministic</text>\r\n",
       "</g>\r\n",
       "<!-- Z_var&#45;&gt;lithologies -->\r\n",
       "<g id=\"edge2\" class=\"edge\"><title>Z_var&#45;&gt;lithologies</title>\r\n",
       "<path fill=\"none\" stroke=\"black\" d=\"M204.755,-121.822C210.976,-110.868 219.158,-96.4616 226.173,-84.1084\"/>\r\n",
       "<polygon fill=\"black\" stroke=\"black\" points=\"229.364,-85.5773 231.259,-75.1533 223.277,-82.1205 229.364,-85.5773\"/>\r\n",
       "</g>\r\n",
       "</g>\r\n",
       "</svg>\r\n"
      ],
      "text/plain": [
       "<graphviz.dot.Digraph at 0x23000557d30>"
      ]
     },
     "execution_count": 44,
     "metadata": {},
     "output_type": "execute_result"
    }
   ],
   "source": [
    "pm.model_to_graphviz(model)\n"
   ]
  },
  {
   "cell_type": "code",
   "execution_count": 45,
   "metadata": {
    "pycharm": {
     "name": "#%%\n"
    }
   },
   "outputs": [
    {
     "name": "stderr",
     "output_type": "stream",
     "text": [
      "Sequential sampling (1 chains in 1 job)\n",
      "Metropolis: [Z_var]\n",
      "Sampling chain 0, 0 divergences:  85%|███████████████████████████████████████▎      | 854/1000 [09:27<01:35,  1.52it/s]c:\\users\\legui\\pycharmprojects\\gempy\\gempy\\core\\solution.py:315: UserWarning: Surfaces not computed due to: No surface found at the given iso value.. The surface is: Series: No surface found at the given iso value.; Surface Number:1\n",
      "  '; Surface Number:' + str(s_n))\n",
      "Sampling chain 0, 0 divergences: 100%|█████████████████████████████████████████████| 1000/1000 [11:03<00:00,  1.51it/s]\n",
      "Only one chain was sampled, this makes it impossible to run some convergence checks\n"
     ]
    }
   ],
   "source": [
    "with model:\n",
    "    trace = pm.sample(500, cores=1, chains=1, step = pm.Metropolis(), tune=500)\n",
    "\n"
   ]
  },
  {
   "cell_type": "code",
   "execution_count": 46,
   "metadata": {
    "pycharm": {
     "is_executing": true,
     "name": "#%%\n"
    }
   },
   "outputs": [],
   "source": [
    "data = az.from_pymc3(trace=trace)\n",
    "\n"
   ]
  },
  {
   "cell_type": "code",
   "execution_count": 53,
   "metadata": {},
   "outputs": [
    {
     "data": {
      "text/plain": [
       "'error_propagation'"
      ]
     },
     "execution_count": 53,
     "metadata": {},
     "output_type": "execute_result"
    }
   ],
   "source": [
    "#data.to_netcdf('error_propagation')"
   ]
  },
  {
   "cell_type": "code",
   "execution_count": 47,
   "metadata": {},
   "outputs": [
    {
     "data": {
      "text/plain": [
       "Frozen({'chain': <xarray.IndexVariable 'chain' (chain: 1)>\n",
       "array([0]), 'draw': <xarray.IndexVariable 'draw' (draw: 500)>\n",
       "array([  0,   1,   2, ..., 497, 498, 499]), 'Z_var_dim_0': <xarray.IndexVariable 'Z_var_dim_0' (Z_var_dim_0: 3)>\n",
       "array([0, 1, 2]), 'Z_var': <xarray.Variable (chain: 1, draw: 500, Z_var_dim_0: 3)>\n",
       "array([[[  7.2913566, -51.68446  ,  38.379654 ],\n",
       "        [  0.7395307,   4.334243 ,  54.657608 ],\n",
       "        [  0.7395307,   4.334243 ,  54.657608 ],\n",
       "        ...,\n",
       "        [-12.822233 ,   9.54955  , -68.45386  ],\n",
       "        [ -3.3238883, -39.713814 , -33.15868  ],\n",
       "        [ 16.152386 , -41.43594  , -18.678877 ]]], dtype=float32), 'gravity_dim_0': <xarray.IndexVariable 'gravity_dim_0' (gravity_dim_0: 1)>\n",
       "array([0]), 'gravity': <xarray.Variable (chain: 1, draw: 500, gravity_dim_0: 1)>\n",
       "array([[[-79.94503974],\n",
       "        [-81.7099083 ],\n",
       "        [-81.7099083 ],\n",
       "        [-83.08793465],\n",
       "        [-83.08793465],\n",
       "        [-81.97748776],\n",
       "        [-81.97748776],\n",
       "        [-81.33519684],\n",
       "        [-82.49373823],\n",
       "        [-82.49373823],\n",
       "        [-81.99427168],\n",
       "        [-82.52755097],\n",
       "        [-82.52755097],\n",
       "        [-83.36237157],\n",
       "        [-82.36372095],\n",
       "        [-82.62379656],\n",
       "        [-82.62379656],\n",
       "        [-82.91177993],\n",
       "        [-82.91177993],\n",
       "        [-82.91177993],\n",
       "        [-82.91177993],\n",
       "        [-82.91177993],\n",
       "        [-83.25778665],\n",
       "        [-82.30100097],\n",
       "        [-82.30100097],\n",
       "        [-82.68964604],\n",
       "        [-83.6091372 ],\n",
       "        [-83.07870131],\n",
       "        [-83.07870131],\n",
       "        [-83.07870131],\n",
       "        [-83.07870131],\n",
       "        [-81.78282769],\n",
       "        [-81.6302465 ],\n",
       "        [-81.6302465 ],\n",
       "        [-80.96741232],\n",
       "        [-81.23647491],\n",
       "        [-81.23647491],\n",
       "        [-81.23647491],\n",
       "        [-81.23647491],\n",
       "        [-81.60655709],\n",
       "        [-81.60655709],\n",
       "        [-81.60655709],\n",
       "        [-81.49490662],\n",
       "        [-82.05840768],\n",
       "        [-82.05840768],\n",
       "        [-82.05840768],\n",
       "        [-81.60350286],\n",
       "        [-81.08844491],\n",
       "        [-81.08844491],\n",
       "        [-81.08844491],\n",
       "        [-81.08844491],\n",
       "        [-81.36502365],\n",
       "        [-81.36502365],\n",
       "        [-81.36502365],\n",
       "        [-81.36502365],\n",
       "        [-81.36502365],\n",
       "        [-80.85047685],\n",
       "        [-80.70291283],\n",
       "        [-79.48134702],\n",
       "        [-79.48134702],\n",
       "        [-79.48134702],\n",
       "        [-80.46820009],\n",
       "        [-80.36336815],\n",
       "        [-80.94622407],\n",
       "        [-80.01125095],\n",
       "        [-79.14200065],\n",
       "        [-79.14200065],\n",
       "        [-79.14200065],\n",
       "        [-79.14200065],\n",
       "        [-79.94801901],\n",
       "        [-79.94801901],\n",
       "        [-79.94801901],\n",
       "        [-79.8164446 ],\n",
       "        [-79.25914219],\n",
       "        [-79.37101899],\n",
       "        [-79.37101899],\n",
       "        [-79.46402664],\n",
       "        [-79.67935215],\n",
       "        [-79.67935215],\n",
       "        [-79.0633589 ],\n",
       "        [-79.0633589 ],\n",
       "        [-78.88720722],\n",
       "        [-78.88720722],\n",
       "        [-78.88720722],\n",
       "        [-78.88720722],\n",
       "        [-78.88720722],\n",
       "        [-78.88720722],\n",
       "        [-78.88720722],\n",
       "        [-79.66968769],\n",
       "        [-79.66968769],\n",
       "        [-79.66968769],\n",
       "        [-80.93907171],\n",
       "        [-80.19118772],\n",
       "        [-80.19118772],\n",
       "        [-80.19118772],\n",
       "        [-80.92922697],\n",
       "        [-80.75520562],\n",
       "        [-80.75520562],\n",
       "        [-80.75520562],\n",
       "        [-80.75520562],\n",
       "        [-80.75520562],\n",
       "        [-80.75520562],\n",
       "        [-80.75520562],\n",
       "        [-80.75520562],\n",
       "        [-80.75520562],\n",
       "        [-80.75520562],\n",
       "        [-80.16301056],\n",
       "        [-79.77599078],\n",
       "        [-79.93906399],\n",
       "        [-80.05485313],\n",
       "        [-80.05485313],\n",
       "        [-79.65935471],\n",
       "        [-81.33498435],\n",
       "        [-81.33498435],\n",
       "        [-82.21213035],\n",
       "        [-82.21213035],\n",
       "        [-82.21213035],\n",
       "        [-82.21213035],\n",
       "        [-81.5812729 ],\n",
       "        [-81.07112315],\n",
       "        [-81.07112315],\n",
       "        [-82.05013112],\n",
       "        [-81.71984213],\n",
       "        [-81.71984213],\n",
       "        [-81.71984213],\n",
       "        [-81.71984213],\n",
       "        [-81.00427558],\n",
       "        [-80.71345931],\n",
       "        [-81.126491  ],\n",
       "        [-81.31558461],\n",
       "        [-81.31558461],\n",
       "        [-81.31558461],\n",
       "        [-80.29149346],\n",
       "        [-80.29149346],\n",
       "        [-80.29149346],\n",
       "        [-80.29149346],\n",
       "        [-80.29149346],\n",
       "        [-80.91845474],\n",
       "        [-80.91845474],\n",
       "        [-81.63453783],\n",
       "        [-81.63453783],\n",
       "        [-81.63453783],\n",
       "        [-82.04516162],\n",
       "        [-82.03049881],\n",
       "        [-82.03049881],\n",
       "        [-82.17133969],\n",
       "        [-82.29230118],\n",
       "        [-82.29230118],\n",
       "        [-82.29230118],\n",
       "        [-82.29654427],\n",
       "        [-82.29654427],\n",
       "        [-82.06950059],\n",
       "        [-81.20794748],\n",
       "        [-81.61077672],\n",
       "        [-81.61077672],\n",
       "        [-81.61077672],\n",
       "        [-80.62837412],\n",
       "        [-80.62837412],\n",
       "        [-81.85446302],\n",
       "        [-81.85446302],\n",
       "        [-81.85446302],\n",
       "        [-81.85446302],\n",
       "        [-82.37397644],\n",
       "        [-82.2453364 ],\n",
       "        [-82.2453364 ],\n",
       "        [-81.87348106],\n",
       "        [-80.78896679],\n",
       "        [-80.78896679],\n",
       "        [-80.74423392],\n",
       "        [-80.9622202 ],\n",
       "        [-80.9622202 ],\n",
       "        [-80.9622202 ],\n",
       "        [-80.04325152],\n",
       "        [-79.5101763 ],\n",
       "        [-79.5101763 ],\n",
       "        [-79.5101763 ],\n",
       "        [-79.18339307],\n",
       "        [-79.18339307],\n",
       "        [-79.86895979],\n",
       "        [-79.86895979],\n",
       "        [-79.65204029],\n",
       "        [-79.65204029],\n",
       "        [-79.65204029],\n",
       "        [-79.65204029],\n",
       "        [-78.92423112],\n",
       "        [-78.92423112],\n",
       "        [-79.65060722],\n",
       "        [-80.0662346 ],\n",
       "        [-81.24623359],\n",
       "        [-81.90917421],\n",
       "        [-82.5894156 ],\n",
       "        [-82.27197316],\n",
       "        [-82.27197316],\n",
       "        [-82.27197316],\n",
       "        [-82.47890571],\n",
       "        [-82.47890571],\n",
       "        [-82.47890571],\n",
       "        [-82.47890571],\n",
       "        [-81.09235738],\n",
       "        [-81.12038164],\n",
       "        [-81.12038164],\n",
       "        [-80.69469238],\n",
       "        [-80.19152967],\n",
       "        [-81.40990586],\n",
       "        [-81.57337306],\n",
       "        [-81.30833895],\n",
       "        [-81.17239364],\n",
       "        [-81.57277031],\n",
       "        [-81.76731573],\n",
       "        [-81.76731573],\n",
       "        [-81.76731573],\n",
       "        [-81.40228926],\n",
       "        [-81.03163161],\n",
       "        [-81.67009626],\n",
       "        [-82.17566637],\n",
       "        [-82.17566637],\n",
       "        [-82.17566637],\n",
       "        [-82.17566637],\n",
       "        [-81.04205362],\n",
       "        [-81.13146824],\n",
       "        [-80.20665365],\n",
       "        [-80.20665365],\n",
       "        [-80.20665365],\n",
       "        [-80.20665365],\n",
       "        [-80.20665365],\n",
       "        [-80.20665365],\n",
       "        [-80.20665365],\n",
       "        [-80.20665365],\n",
       "        [-80.20665365],\n",
       "        [-80.20665365],\n",
       "        [-80.11735724],\n",
       "        [-80.52617735],\n",
       "        [-80.2616619 ],\n",
       "        [-80.51229545],\n",
       "        [-80.51229545],\n",
       "        [-80.47002605],\n",
       "        [-81.27725347],\n",
       "        [-82.30626205],\n",
       "        [-81.73531664],\n",
       "        [-81.60538591],\n",
       "        [-81.60538591],\n",
       "        [-81.60538591],\n",
       "        [-81.60538591],\n",
       "        [-80.83006268],\n",
       "        [-80.11828155],\n",
       "        [-80.32696889],\n",
       "        [-79.19301321],\n",
       "        [-79.19301321],\n",
       "        [-78.9741153 ],\n",
       "        [-78.9741153 ],\n",
       "        [-78.9741153 ],\n",
       "        [-78.65795414],\n",
       "        [-78.65795414],\n",
       "        [-78.39282682],\n",
       "        [-77.71113603],\n",
       "        [-77.86016449],\n",
       "        [-78.33125465],\n",
       "        [-78.33125465],\n",
       "        [-78.33125465],\n",
       "        [-79.08520028],\n",
       "        [-79.08520028],\n",
       "        [-79.08520028],\n",
       "        [-79.90226125],\n",
       "        [-79.57236911],\n",
       "        [-79.74974167],\n",
       "        [-79.74974167],\n",
       "        [-79.74974167],\n",
       "        [-79.74974167],\n",
       "        [-79.74974167],\n",
       "        [-79.74974167],\n",
       "        [-80.49198223],\n",
       "        [-79.27908966],\n",
       "        [-79.27908966],\n",
       "        [-79.27908966],\n",
       "        [-79.27908966],\n",
       "        [-79.09471204],\n",
       "        [-79.3578084 ],\n",
       "        [-79.3578084 ],\n",
       "        [-79.3578084 ],\n",
       "        [-79.16545292],\n",
       "        [-80.03229575],\n",
       "        [-79.22990971],\n",
       "        [-79.22990971],\n",
       "        [-80.41606398],\n",
       "        [-79.54507335],\n",
       "        [-79.54507335],\n",
       "        [-79.50452955],\n",
       "        [-80.2858787 ],\n",
       "        [-80.2858787 ],\n",
       "        [-80.2858787 ],\n",
       "        [-80.2858787 ],\n",
       "        [-80.2858787 ],\n",
       "        [-80.27163562],\n",
       "        [-80.27163562],\n",
       "        [-79.72451411],\n",
       "        [-79.26484275],\n",
       "        [-80.4459542 ],\n",
       "        [-80.4459542 ],\n",
       "        [-80.02650843],\n",
       "        [-80.37541445],\n",
       "        [-80.55212335],\n",
       "        [-80.68445838],\n",
       "        [-80.68445838],\n",
       "        [-80.68445838],\n",
       "        [-80.68445838],\n",
       "        [-80.14054192],\n",
       "        [-79.88154124],\n",
       "        [-79.5880657 ],\n",
       "        [-79.5880657 ],\n",
       "        [-79.08444844],\n",
       "        [-79.43125649],\n",
       "        [-79.38333725],\n",
       "        [-80.22264005],\n",
       "        [-80.22264005],\n",
       "        [-80.22264005],\n",
       "        [-80.32375273],\n",
       "        [-80.06567936],\n",
       "        [-81.02191031],\n",
       "        [-81.02191031],\n",
       "        [-81.31681594],\n",
       "        [-81.6122464 ],\n",
       "        [-81.6122464 ],\n",
       "        [-82.7451616 ],\n",
       "        [-80.81037179],\n",
       "        [-80.81037179],\n",
       "        [-81.02004458],\n",
       "        [-80.12217223],\n",
       "        [-80.79463221],\n",
       "        [-80.79463221],\n",
       "        [-81.04945355],\n",
       "        [-81.04945355],\n",
       "        [-81.04945355],\n",
       "        [-81.04945355],\n",
       "        [-81.42913794],\n",
       "        [-81.42913794],\n",
       "        [-81.45190276],\n",
       "        [-81.60296438],\n",
       "        [-81.91831141],\n",
       "        [-81.91831141],\n",
       "        [-81.91831141],\n",
       "        [-82.01015684],\n",
       "        [-81.95560681],\n",
       "        [-81.95560681],\n",
       "        [-81.95560681],\n",
       "        [-81.95560681],\n",
       "        [-80.92088006],\n",
       "        [-80.92088006],\n",
       "        [-80.28523138],\n",
       "        [-80.28523138],\n",
       "        [-80.28523138],\n",
       "        [-81.09001804],\n",
       "        [-81.09001804],\n",
       "        [-81.09001804],\n",
       "        [-81.6707838 ],\n",
       "        [-81.45640064],\n",
       "        [-81.60401791],\n",
       "        [-82.2728224 ],\n",
       "        [-82.2728224 ],\n",
       "        [-82.2728224 ],\n",
       "        [-82.2728224 ],\n",
       "        [-82.2728224 ],\n",
       "        [-81.95900726],\n",
       "        [-81.95900726],\n",
       "        [-81.95900726],\n",
       "        [-81.55133862],\n",
       "        [-81.55133862],\n",
       "        [-81.61231979],\n",
       "        [-80.65412384],\n",
       "        [-80.65412384],\n",
       "        [-80.65412384],\n",
       "        [-80.65412384],\n",
       "        [-80.78217269],\n",
       "        [-80.78217269],\n",
       "        [-79.87592792],\n",
       "        [-80.23240243],\n",
       "        [-80.23240243],\n",
       "        [-80.79975986],\n",
       "        [-81.08311739],\n",
       "        [-80.54094204],\n",
       "        [-80.54094204],\n",
       "        [-80.04832329],\n",
       "        [-80.04832329],\n",
       "        [-80.04832329],\n",
       "        [-80.04832329],\n",
       "        [-80.04832329],\n",
       "        [-80.04832329],\n",
       "        [-80.04832329],\n",
       "        [-80.04832329],\n",
       "        [-80.04832329],\n",
       "        [-80.89334741],\n",
       "        [-80.40545986],\n",
       "        [-80.79934804],\n",
       "        [-80.54202099],\n",
       "        [-80.88251308],\n",
       "        [-80.54921643],\n",
       "        [-80.54921643],\n",
       "        [-80.54921643],\n",
       "        [-81.31172017],\n",
       "        [-81.31172017],\n",
       "        [-81.31172017],\n",
       "        [-81.31172017],\n",
       "        [-81.29692934],\n",
       "        [-81.29692934],\n",
       "        [-81.29692934],\n",
       "        [-81.29692934],\n",
       "        [-80.79401321],\n",
       "        [-80.79401321],\n",
       "        [-80.79401321],\n",
       "        [-80.51066274],\n",
       "        [-80.51066274],\n",
       "        [-80.51066274],\n",
       "        [-80.51066274],\n",
       "        [-80.37881194],\n",
       "        [-80.81089079],\n",
       "        [-81.56803236],\n",
       "        [-81.56803236],\n",
       "        [-81.48748822],\n",
       "        [-80.86731737],\n",
       "        [-80.86731737],\n",
       "        [-80.96289775],\n",
       "        [-79.93569738],\n",
       "        [-80.19192997],\n",
       "        [-80.83971908],\n",
       "        [-79.87162101],\n",
       "        [-79.62218068],\n",
       "        [-79.62218068],\n",
       "        [-79.62218068],\n",
       "        [-79.23883331],\n",
       "        [-79.23883331],\n",
       "        [-79.45439454],\n",
       "        [-79.49971096],\n",
       "        [-79.49971096],\n",
       "        [-79.74651569],\n",
       "        [-79.74651569],\n",
       "        [-79.31752308],\n",
       "        [-79.31752308],\n",
       "        [-79.31752308],\n",
       "        [-79.31752308],\n",
       "        [-79.83943621],\n",
       "        [-79.83943621],\n",
       "        [-79.83943621],\n",
       "        [-79.83943621],\n",
       "        [-79.96610721],\n",
       "        [-80.24322404],\n",
       "        [-80.24322404],\n",
       "        [-80.5365186 ],\n",
       "        [-80.5365186 ],\n",
       "        [-79.38712119],\n",
       "        [-79.51288138],\n",
       "        [-79.51288138],\n",
       "        [-79.87062739],\n",
       "        [-80.75418099],\n",
       "        [-80.75418099],\n",
       "        [-80.84522332],\n",
       "        [-81.53755009],\n",
       "        [-81.53755009],\n",
       "        [-81.73881418],\n",
       "        [-80.67008852],\n",
       "        [-82.33051189],\n",
       "        [-82.33051189],\n",
       "        [-81.38395315],\n",
       "        [-81.81726334],\n",
       "        [-81.81726334],\n",
       "        [-81.81726334],\n",
       "        [-81.44444228],\n",
       "        [-80.792761  ],\n",
       "        [-81.69600765],\n",
       "        [-81.69600765],\n",
       "        [-82.9261158 ],\n",
       "        [-83.57160693],\n",
       "        [-84.30011713],\n",
       "        [-83.42762   ],\n",
       "        [-82.88389934],\n",
       "        [-82.88389934],\n",
       "        [-81.90774823],\n",
       "        [-81.08139522],\n",
       "        [-81.08139522],\n",
       "        [-80.86817313],\n",
       "        [-80.76862587],\n",
       "        [-81.09401532],\n",
       "        [-81.00095022],\n",
       "        [-81.00095022],\n",
       "        [-81.59990207],\n",
       "        [-81.59990207],\n",
       "        [-81.59990207],\n",
       "        [-80.39276609],\n",
       "        [-80.39276609],\n",
       "        [-80.39276609],\n",
       "        [-80.39276609],\n",
       "        [-79.89148238],\n",
       "        [-79.89148238],\n",
       "        [-79.89148238],\n",
       "        [-79.89148238],\n",
       "        [-79.48963067],\n",
       "        [-80.18244264],\n",
       "        [-80.70320391],\n",
       "        [-80.46755602],\n",
       "        [-80.43709145],\n",
       "        [-79.47539587],\n",
       "        [-79.51698163]]]), 'lithologies_dim_0': <xarray.IndexVariable 'lithologies_dim_0' (lithologies_dim_0: 100000)>\n",
       "array([    0,     1,     2, ..., 99997, 99998, 99999]), 'lithologies': <xarray.Variable (chain: 1, draw: 500, lithologies_dim_0: 100000)>\n",
       "array([[[5., 5., 5., ..., 3., 3., 3.],\n",
       "        [5., 5., 5., ..., 3., 3., 3.],\n",
       "        [5., 5., 5., ..., 3., 3., 3.],\n",
       "        ...,\n",
       "        [5., 5., 5., ..., 2., 2., 2.],\n",
       "        [5., 5., 5., ..., 3., 3., 2.],\n",
       "        [5., 5., 5., ..., 3., 3., 3.]]])})"
      ]
     },
     "execution_count": 47,
     "metadata": {},
     "output_type": "execute_result"
    }
   ],
   "source": [
    "data.posterior.variables"
   ]
  },
  {
   "cell_type": "code",
   "execution_count": 48,
   "metadata": {},
   "outputs": [
    {
     "data": {
      "text/plain": [
       "array([[<matplotlib.axes._subplots.AxesSubplot object at 0x0000023000B15668>,\n",
       "        <matplotlib.axes._subplots.AxesSubplot object at 0x0000023000B045F8>],\n",
       "       [<matplotlib.axes._subplots.AxesSubplot object at 0x000002300060F3C8>,\n",
       "        <matplotlib.axes._subplots.AxesSubplot object at 0x00000230003D67F0>],\n",
       "       [<matplotlib.axes._subplots.AxesSubplot object at 0x00000230003F0D68>,\n",
       "        <matplotlib.axes._subplots.AxesSubplot object at 0x00000230004079B0>],\n",
       "       [<matplotlib.axes._subplots.AxesSubplot object at 0x0000023000422898>,\n",
       "        <matplotlib.axes._subplots.AxesSubplot object at 0x000002300043BDD8>]],\n",
       "      dtype=object)"
      ]
     },
     "execution_count": 48,
     "metadata": {},
     "output_type": "execute_result"
    },
    {
     "data": {
      "image/png": "[encoded data removed]",
      "text/plain": [
       "<Figure size 864x576 with 8 Axes>"
      ]
     },
     "metadata": {
      "needs_background": "light"
     },
     "output_type": "display_data"
    }
   ],
   "source": [
    "az.plot_trace(data, var_names=['Z_var', 'gravity'])"
   ]
  },
  {
   "cell_type": "code",
   "execution_count": 49,
   "metadata": {},
   "outputs": [],
   "source": [
    "lith_blocks = data.posterior.lithologies.values[0]"
   ]
  },
  {
   "cell_type": "code",
   "execution_count": 50,
   "metadata": {},
   "outputs": [
    {
     "data": {
      "text/plain": [
       "array([[5., 5., 5., ..., 3., 3., 3.],\n",
       "       [5., 5., 5., ..., 3., 3., 3.],\n",
       "       [5., 5., 5., ..., 3., 3., 3.],\n",
       "       ...,\n",
       "       [5., 5., 5., ..., 2., 2., 2.],\n",
       "       [5., 5., 5., ..., 3., 3., 2.],\n",
       "       [5., 5., 5., ..., 3., 3., 3.]])"
      ]
     },
     "execution_count": 50,
     "metadata": {},
     "output_type": "execute_result"
    }
   ],
   "source": [
    "lith_blocks"
   ]
  },
  {
   "cell_type": "code",
   "execution_count": 51,
   "metadata": {},
   "outputs": [],
   "source": [
    "prob_block = compute_prob(lith_blocks)\n"
   ]
  },
  {
   "cell_type": "code",
   "execution_count": 54,
   "metadata": {},
   "outputs": [
    {
     "name": "stderr",
     "output_type": "stream",
     "text": [
      "c:\\users\\legui\\pycharmprojects\\gempy\\gempy\\plot\\plot_api.py:261: UserWarning: Matplotlib is currently using module://ipykernel.pylab.backend_inline, which is a non-GUI backend, so cannot show the figure.\n",
      "  p.fig.show()\n"
     ]
    },
    {
     "data": {
      "image/png": "[encoded data removed]",
      "text/plain": [
       "<Figure size 432x288 with 1 Axes>"
      ]
     },
     "metadata": {
      "needs_background": "light"
     },
     "output_type": "display_data"
    }
   ],
   "source": [
    "layer = 2\n",
    "p2dp = gp.plot_2d(geo_model,\n",
    "                  show_lith=False, show_boundaries=False, show_data=False,\n",
    "                  regular_grid=prob_block[layer],\n",
    "                  kwargs_regular_grid={'cmap': 'viridis',\n",
    "                                        'norm': None}\n",
    "                  )"
   ]
  },
  {
   "cell_type": "code",
   "execution_count": null,
   "metadata": {},
   "outputs": [],
   "source": [
    "entropy_block = calculate_ie_masked(prob_block)\n",
    "p2dp = gp.plot_2d(geo_model,\n",
    "                  show_lith=False, show_boundaries=False, show_data=False,\n",
    "                  regular_grid=entropy_block,\n",
    "                  kwargs_regular_grid={'cmap': 'magma',\n",
    "                                       'norm': None}\n",
    "                  )\n"
   ]
  },
  {
   "cell_type": "markdown",
   "metadata": {
    "pycharm": {
     "name": "#%% md\n"
    }
   },
   "source": [
    "-----------------"
   ]
  },
  {
   "cell_type": "code",
   "execution_count": 57,
   "metadata": {
    "pycharm": {
     "name": "#%%\n"
    }
   },
   "outputs": [],
   "source": [
    "with pm.Model() as model_like:\n",
    "    # Z_var = np.random.normal(0, # Mean certered on 0\n",
    "    #                  30, # Variance of the location\n",
    "    #                  size=3 # Number of random variables\n",
    "    #                  )\n",
    "\n",
    "\n",
    "    Z_var = pm.Normal('Z_var', 0, 30, dtype='float32', shape=3)\n",
    "    grav = pm.Deterministic('gravity', gempy_grav(Z_var))\n",
    "    lith = pm.Deterministic('lithologies', gempy_lith(Z_var))\n",
    "\n",
    "    grav_observed = pm.Normal('y', grav, .5, observed=[-81])\n"
   ]
  },
  {
   "cell_type": "code",
   "execution_count": 67,
   "metadata": {},
   "outputs": [
    {
     "data": {
      "image/svg+xml": [
       "<?xml version=\"1.0\" encoding=\"UTF-8\" standalone=\"no\"?>\r\n",
       "<!DOCTYPE svg PUBLIC \"-//W3C//DTD SVG 1.1//EN\"\r\n",
       " \"http://www.w3.org/Graphics/SVG/1.1/DTD/svg11.dtd\">\r\n",
       "<!-- Generated by graphviz version 2.38.0 (20140413.2041)\r\n",
       " -->\r\n",
       "<!-- Title: %3 Pages: 1 -->\r\n",
       "<svg width=\"346pt\" height=\"218pt\"\r\n",
       " viewBox=\"0.00 0.00 346.00 218.00\" xmlns=\"http://www.w3.org/2000/svg\" xmlns:xlink=\"http://www.w3.org/1999/xlink\">\r\n",
       "<g id=\"graph0\" class=\"graph\" transform=\"scale(1 1) rotate(0) translate(4 214)\">\r\n",
       "<title>%3</title>\r\n",
       "<polygon fill=\"white\" stroke=\"none\" points=\"-4,4 -4,-214 342,-214 342,4 -4,4\"/>\r\n",
       "<g id=\"clust1\" class=\"cluster\"><title>cluster3</title>\r\n",
       "<path fill=\"none\" stroke=\"black\" d=\"M130,-127C130,-127 260,-127 260,-127 266,-127 272,-133 272,-139 272,-139 272,-190 272,-190 272,-196 266,-202 260,-202 260,-202 130,-202 130,-202 124,-202 118,-196 118,-190 118,-190 118,-139 118,-139 118,-133 124,-127 130,-127\"/>\r\n",
       "<text text-anchor=\"middle\" x=\"260.5\" y=\"-134.8\" font-family=\"Times New Roman,serif\" font-size=\"14.00\">3</text>\r\n",
       "</g>\r\n",
       "<g id=\"clust2\" class=\"cluster\"><title>cluster100,000</title>\r\n",
       "<path fill=\"none\" stroke=\"black\" d=\"M164,-44C164,-44 318,-44 318,-44 324,-44 330,-50 330,-56 330,-56 330,-107 330,-107 330,-113 324,-119 318,-119 318,-119 164,-119 164,-119 158,-119 152,-113 152,-107 152,-107 152,-56 152,-56 152,-50 158,-44 164,-44\"/>\r\n",
       "<text text-anchor=\"middle\" x=\"299.5\" y=\"-51.8\" font-family=\"Times New Roman,serif\" font-size=\"14.00\">100,000</text>\r\n",
       "</g>\r\n",
       "<!-- Z_var -->\r\n",
       "<g id=\"node1\" class=\"node\"><title>Z_var</title>\r\n",
       "<ellipse fill=\"none\" stroke=\"black\" cx=\"195\" cy=\"-176\" rx=\"68.7879\" ry=\"18\"/>\r\n",
       "<text text-anchor=\"middle\" x=\"195\" y=\"-172.3\" font-family=\"Times New Roman,serif\" font-size=\"14.00\">Z_var ~ Normal</text>\r\n",
       "</g>\r\n",
       "<!-- gravity -->\r\n",
       "<g id=\"node3\" class=\"node\"><title>gravity</title>\r\n",
       "<polygon fill=\"none\" stroke=\"black\" points=\"142,-111 0,-111 0,-75 142,-75 142,-111\"/>\r\n",
       "<text text-anchor=\"middle\" x=\"71\" y=\"-89.3\" font-family=\"Times New Roman,serif\" font-size=\"14.00\">gravity ~ Deterministic</text>\r\n",
       "</g>\r\n",
       "<!-- Z_var&#45;&gt;gravity -->\r\n",
       "<g id=\"edge1\" class=\"edge\"><title>Z_var&#45;&gt;gravity</title>\r\n",
       "<path fill=\"none\" stroke=\"black\" d=\"M170.502,-158.997C151.974,-146.894 126.29,-130.117 105.657,-116.639\"/>\r\n",
       "<polygon fill=\"black\" stroke=\"black\" points=\"107.446,-113.627 97.1599,-111.088 103.618,-119.487 107.446,-113.627\"/>\r\n",
       "</g>\r\n",
       "<!-- lithologies -->\r\n",
       "<g id=\"node4\" class=\"node\"><title>lithologies</title>\r\n",
       "<polygon fill=\"none\" stroke=\"black\" points=\"321.5,-111 160.5,-111 160.5,-75 321.5,-75 321.5,-111\"/>\r\n",
       "<text text-anchor=\"middle\" x=\"241\" y=\"-89.3\" font-family=\"Times New Roman,serif\" font-size=\"14.00\">lithologies ~ Deterministic</text>\r\n",
       "</g>\r\n",
       "<!-- Z_var&#45;&gt;lithologies -->\r\n",
       "<g id=\"edge2\" class=\"edge\"><title>Z_var&#45;&gt;lithologies</title>\r\n",
       "<path fill=\"none\" stroke=\"black\" d=\"M204.755,-157.822C210.976,-146.868 219.158,-132.462 226.173,-120.108\"/>\r\n",
       "<polygon fill=\"black\" stroke=\"black\" points=\"229.364,-121.577 231.259,-111.153 223.277,-118.12 229.364,-121.577\"/>\r\n",
       "</g>\r\n",
       "<!-- y -->\r\n",
       "<g id=\"node2\" class=\"node\"><title>y</title>\r\n",
       "<ellipse fill=\"lightgrey\" stroke=\"black\" cx=\"71\" cy=\"-18\" rx=\"51.9908\" ry=\"18\"/>\r\n",
       "<text text-anchor=\"middle\" x=\"71\" y=\"-14.3\" font-family=\"Times New Roman,serif\" font-size=\"14.00\">y ~ Normal</text>\r\n",
       "</g>\r\n",
       "<!-- gravity&#45;&gt;y -->\r\n",
       "<g id=\"edge3\" class=\"edge\"><title>gravity&#45;&gt;y</title>\r\n",
       "<path fill=\"none\" stroke=\"black\" d=\"M71,-74.7C71,-66.2452 71,-55.8688 71,-46.3732\"/>\r\n",
       "<polygon fill=\"black\" stroke=\"black\" points=\"74.5001,-46.1758 71,-36.1758 67.5001,-46.1758 74.5001,-46.1758\"/>\r\n",
       "</g>\r\n",
       "</g>\r\n",
       "</svg>\r\n"
      ],
      "text/plain": [
       "<graphviz.dot.Digraph at 0x23001bde3c8>"
      ]
     },
     "execution_count": 67,
     "metadata": {},
     "output_type": "execute_result"
    }
   ],
   "source": [
    "pm.model_to_graphviz(model_like)\n"
   ]
  },
  {
   "cell_type": "code",
   "execution_count": 58,
   "metadata": {
    "pycharm": {
     "name": "#%%\n"
    }
   },
   "outputs": [
    {
     "name": "stderr",
     "output_type": "stream",
     "text": [
      "Sequential sampling (1 chains in 1 job)\n",
      "Metropolis: [Z_var]\n",
      "Sampling chain 0, 0 divergences: 100%|█████████████████████████████████████████████| 1000/1000 [22:19<00:00,  1.34s/it]\n",
      "Only one chain was sampled, this makes it impossible to run some convergence checks\n"
     ]
    }
   ],
   "source": [
    "with model_like:\n",
    "    trace_like = pm.sample(500, cores=1, chains=1, step = pm.Metropolis(), tune=500)\n",
    "\n",
    "\n"
   ]
  },
  {
   "cell_type": "code",
   "execution_count": 59,
   "metadata": {},
   "outputs": [],
   "source": [
    "data = az.from_pymc3(trace=trace_like)\n"
   ]
  },
  {
   "cell_type": "code",
   "execution_count": 60,
   "metadata": {},
   "outputs": [
    {
     "data": {
      "text/plain": [
       "'bayes_inference'"
      ]
     },
     "execution_count": 60,
     "metadata": {},
     "output_type": "execute_result"
    }
   ],
   "source": [
    "# data.to_netcdf('bayes_inference')\n"
   ]
  },
  {
   "cell_type": "code",
   "execution_count": 61,
   "metadata": {},
   "outputs": [
    {
     "data": {
      "text/plain": [
       "array([[<matplotlib.axes._subplots.AxesSubplot object at 0x000002300158A128>,\n",
       "        <matplotlib.axes._subplots.AxesSubplot object at 0x00000230015ECC88>],\n",
       "       [<matplotlib.axes._subplots.AxesSubplot object at 0x00000230015784E0>,\n",
       "        <matplotlib.axes._subplots.AxesSubplot object at 0x0000023000AA75C0>],\n",
       "       [<matplotlib.axes._subplots.AxesSubplot object at 0x0000023001614588>,\n",
       "        <matplotlib.axes._subplots.AxesSubplot object at 0x000002300162CB00>],\n",
       "       [<matplotlib.axes._subplots.AxesSubplot object at 0x0000023001646748>,\n",
       "        <matplotlib.axes._subplots.AxesSubplot object at 0x00000230016AF668>]],\n",
       "      dtype=object)"
      ]
     },
     "execution_count": 61,
     "metadata": {},
     "output_type": "execute_result"
    },
    {
     "data": {
      "image/png": "[encoded data removed]",
      "text/plain": [
       "<Figure size 864x576 with 8 Axes>"
      ]
     },
     "metadata": {
      "needs_background": "light"
     },
     "output_type": "display_data"
    }
   ],
   "source": [
    "az.plot_trace(data, var_names=['Z_var', 'gravity'])"
   ]
  },
  {
   "cell_type": "code",
   "execution_count": 62,
   "metadata": {
    "pycharm": {
     "name": "#%%\n"
    }
   },
   "outputs": [],
   "source": [
    "lith_blocks = data.posterior.lithologies.values[0]"
   ]
  },
  {
   "cell_type": "code",
   "execution_count": 63,
   "metadata": {},
   "outputs": [],
   "source": [
    "prob_block = compute_prob(lith_blocks)\n"
   ]
  },
  {
   "cell_type": "code",
   "execution_count": 64,
   "metadata": {},
   "outputs": [
    {
     "name": "stderr",
     "output_type": "stream",
     "text": [
      "c:\\users\\legui\\pycharmprojects\\gempy\\gempy\\plot\\plot_api.py:261: UserWarning: Matplotlib is currently using module://ipykernel.pylab.backend_inline, which is a non-GUI backend, so cannot show the figure.\n",
      "  p.fig.show()\n"
     ]
    },
    {
     "data": {
      "image/png": "[encoded data removed]",
      "text/plain": [
       "<Figure size 432x288 with 1 Axes>"
      ]
     },
     "metadata": {
      "needs_background": "light"
     },
     "output_type": "display_data"
    }
   ],
   "source": [
    "layer = 2\n",
    "p2dp = gp.plot_2d(geo_model,\n",
    "                  show_lith=False, show_boundaries=False, show_data=False,\n",
    "                  regular_grid=prob_block[layer],\n",
    "                  kwargs_regular_grid={'cmap': 'viridis',\n",
    "                                        'norm': None}\n",
    "                  )"
   ]
  },
  {
   "cell_type": "code",
   "execution_count": 65,
   "metadata": {
    "pycharm": {
     "name": "#%%\n"
    }
   },
   "outputs": [
    {
     "data": {
      "image/png": "[encoded data removed]",
      "text/plain": [
       "<Figure size 432x288 with 1 Axes>"
      ]
     },
     "metadata": {
      "needs_background": "light"
     },
     "output_type": "display_data"
    }
   ],
   "source": [
    "entropy_block = calculate_ie_masked(prob_block)\n",
    "p2dp = gp.plot_2d(geo_model,\n",
    "                  show_lith=False, show_boundaries=False, show_data=False,\n",
    "                  regular_grid=entropy_block,\n",
    "                  kwargs_regular_grid={'cmap': 'magma',\n",
    "                                       'norm': None}\n",
    "                  )\n"
   ]
  }
 ],
 "metadata": {
  "jupytext": {
   "split_at_heading": true
  },
  "kernelspec": {
   "display_name": "PyCharm (gempy)",
   "language": "python",
   "name": "pycharm-8155ad1e"
  },
  "language_info": {
   "codemirror_mode": {
    "name": "ipython",
    "version": 3
   },
   "file_extension": ".py",
   "mimetype": "text/x-python",
   "name": "python",
   "nbconvert_exporter": "python",
   "pygments_lexer": "ipython3",
   "version": "3.7.0"
  }
 },
 "nbformat": 4,
 "nbformat_minor": 2
}
