{
 "cells": [
  {
   "cell_type": "markdown",
   "source": [
    "# Transform 2020: GemPy Workshop\n",
    "\n",
    "## Table of Content\n",
    "\n",
    "- Why is GemPy\n",
    "- First Surface\n",
    "- Enplaning data structures 1: Surfaces, Surface Points, Orientations\n",
    "- Exercise: Finishing the model\n",
    "\n",
    "## Why GemPy?\n",
    "\n",
    "## Installation\n",
    "\n",
    "1. Open conda prompt (Windows) or terminal (Linux/MacOS)\n",
    "2. conda create --clone tutorials --name t20-gempy\n",
    "3. https://docs.gempy.org/installation.html\n",
    "\n",
    "## Your first model"
   ],
   "metadata": {
    "collapsed": false
   }
  },
  {
   "cell_type": "code",
   "execution_count": 2,
   "outputs": [],
   "source": [
    "# Importing GemPy\n",
    "import gempy as gp\n",
    "\n",
    "# Importing aux libraries\n",
    "from ipywidgets import interact\n",
    "import numpy as np\n",
    "import matplotlib.image as mpimg\n",
    "\n",
    "# Embedding matplotlib figures in the notebooks\n",
    "%matplotlib qt5"
   ],
   "metadata": {
    "collapsed": false,
    "pycharm": {
     "name": "#%%\n"
    }
   }
  },
  {
   "cell_type": "markdown",
   "source": [
    "### Initializing the model... But first a word about Grids:\n",
    "\n",
    "The first step to create a GemPy model is create a `gempy.Model` object that will\n",
    "contain all the other data structures and necessary functionality. In addition\n",
    " for this example we will define a *regular grid* since the beginning.\n",
    "This is the grid where we will interpolate the 3D geological model.\n",
    "\n",
    "GemPy is based on a **meshless intepolator**. In practice this means that we can\n",
    "interpolate any point in a 3D space. However, for convenience, we have built some\n",
    "standard grids for different purposes. At the current day the standard grids are:\n",
    "\n",
    "- **Regular grid**: default grid mainly for general visualization\n",
    "- **Custom grid**: GemPy's wrapper to interpolate on a user grid\n",
    "- **Topography**: Topographic data use to be of high density. Treating it as an independent\n",
    "  grid allow for high resolution geological maps\n",
    "- **Sections**: If we predefine the section 2D grid we can directly interpolate at those\n",
    "  locations for perfect, high resolution estimations\n",
    "- **Center grids**: Half sphere grids around a given point at surface. This are specially tuned\n",
    "  for geophysical forward computations\n",
    "\n",
    "For now we will use a 2.5D regular grid"
   ],
   "metadata": {
    "collapsed": false
   }
  },
  {
   "cell_type": "code",
   "execution_count": null,
   "outputs": [],
   "source": [
    "geo_model = gp.create_model('Transform-2020')\n",
    "geo_model = gp.init_data(geo_model,\n",
    "                         extent= [0, 791, 0, 200, -582, 0], # of the regular grid\n",
    "                         resolution=[100, 10, 100])         # of the regular grid"
   ],
   "metadata": {
    "collapsed": false,
    "pycharm": {
     "name": "#%%\n"
    }
   }
  },
  {
   "cell_type": "markdown",
   "source": [
    "GemPy core code is written in Python. However for efficiency and gradient based\n",
    "machine learning most of heavy computations happen in optimize compile code,\n",
    " either C or CUDA for GPU.\n",
    "\n",
    "To do so, GemPy rely on the library `Theano`. To guarantee maximum optimization\n",
    "`Theano` requires to compile the code for every Python kernel. The compilation is\n",
    "done by calling the following line at any point (before computing the model):"
   ],
   "metadata": {
    "collapsed": false
   }
  },
  {
   "cell_type": "code",
   "execution_count": null,
   "outputs": [],
   "source": [
    "gp.set_interpolator(\n",
    "    geo_model,\n",
    "    output=['geology'], # In built outputs. More about this later on\n",
    "    theano_optimizer='fast_compile') # alternatives: 'fast_run' or\n",
    "                                     # check http://deeplearning.net/software/theano/tutorial/modes.html                        "
   ],
   "metadata": {
    "collapsed": false,
    "pycharm": {
     "name": "#%%\n"
    }
   }
  },
  {
   "cell_type": "markdown",
   "source": [
    "### Creating figure:\n",
    "\n",
    "GemPy uses `matplotlib` and `pyvista` for 2d and 3d visualization of the model respectively. One of the\n",
    "design decisions of GemPy is to allow real time construction of the model. What this means is that you can start\n",
    "adding input data and see in real time how the 3D surfaces evolve. Lets initialize the visualization windows.\n",
    "\n",
    "The first one is the 2d figure. Just place the window where you can see it (maybe move the jupyter notebook to half\n",
    "screen and use the other half for the renderers)."
   ],
   "metadata": {
    "collapsed": false
   }
  },
  {
   "cell_type": "code",
   "execution_count": null,
   "outputs": [],
   "source": [
    "p2d = gp.plot_2d(geo_model, section_names=None,\n",
    "                 direction=None, cell_number=None)"
   ],
   "metadata": {
    "collapsed": false,
    "pycharm": {
     "name": "#%%\n"
    }
   }
  },
  {
   "cell_type": "markdown",
   "source": [
    "#### Add model section\n",
    "\n",
    "In the 2d renderer we can add several cross section of the model. In this case, for simplicity sake we are just\n",
    "adding one perpendicular to y."
   ],
   "metadata": {
    "collapsed": false
   }
  },
  {
   "cell_type": "code",
   "execution_count": null,
   "outputs": [],
   "source": [
    "# In this case perpendicular to the y axes\n",
    "ax = p2d.add_section(cell_number=1, direction='y')"
   ],
   "metadata": {
    "collapsed": false,
    "pycharm": {
     "name": "#%%\n"
    }
   }
  },
  {
   "cell_type": "markdown",
   "source": [
    "#### Loading cross-section image:\n",
    "\n",
    "Remember that `gempy` is simply using `matplotlib` and therefore the ax object\n",
    " created above is a standard `matplotlib` axes.\n",
    "\n",
    "Lets load an image with the information of couple of boreholes"
   ],
   "metadata": {
    "collapsed": false
   }
  },
  {
   "cell_type": "code",
   "execution_count": null,
   "outputs": [],
   "source": [
    "# Reading image\n",
    "img = mpimg.imread('wells.png')\n",
    "# Plotting it inplace\n",
    "ax.imshow(img, origin='upper', alpha=.8, extent = (0, 791, -582,0))"
   ],
   "metadata": {
    "collapsed": false,
    "pycharm": {
     "name": "#%%\n"
    }
   }
  },
  {
   "cell_type": "markdown",
   "source": [
    "We can do the same in 3D through `pyvista` and vtk rendering.\n",
    "\n",
    "Click the qt5 button Back (+Y) to have the same view as in the 2D viewer:"
   ],
   "metadata": {
    "collapsed": false
   }
  },
  {
   "cell_type": "code",
   "execution_count": null,
   "outputs": [],
   "source": [
    "p3d = gp.plot_3d(geo_model, plotter_type='background', notebook=False)"
   ],
   "metadata": {
    "collapsed": false,
    "pycharm": {
     "name": "#%%\n"
    }
   }
  },
  {
   "cell_type": "markdown",
   "source": [
    "## Building the model\n",
    "\n",
    "Now that we have the model initialize and the 2D and 3D render in place we can\n",
    " start the construction of the geological model. \n",
    "\n",
    "### Surfaces\n",
    "\n",
    "GemPy is a surface based interpolator. This means that all the input data we add has to be refereed to a surface. The\n",
    " surfaces always mark the **bottom** of a unit. \n",
    " \n",
    " By default GemPy surfaces are empty:"
   ],
   "metadata": {
    "collapsed": false
   }
  },
  {
   "cell_type": "code",
   "execution_count": null,
   "outputs": [],
   "source": [
    "geo_model.surfaces"
   ],
   "metadata": {
    "collapsed": false,
    "pycharm": {
     "name": "#%%\n"
    }
   }
  },
  {
   "cell_type": "markdown",
   "source": [
    "If we do not care about the names and we just want to interpolate a surface we can use.\n",
    "It is important to notice that **the bottom\n",
    "most layer will be considered always basement and therefore not interpolated**. Still\n",
    "we can add values or change the color of that \"surface\" (for lack of a better name) to\n",
    "populate the lower most volume.\n"
   ],
   "metadata": {
    "collapsed": false
   }
  },
  {
   "cell_type": "code",
   "execution_count": null,
   "outputs": [],
   "source": [
    "# Default surfaces:\n",
    "geo_model.set_default_surfaces()"
   ],
   "metadata": {
    "collapsed": false,
    "pycharm": {
     "name": "#%%\n"
    }
   }
  },
  {
   "cell_type": "code",
   "execution_count": null,
   "outputs": [],
   "source": [
    "geo_model.surfaces\n"
   ],
   "metadata": {
    "collapsed": false,
    "pycharm": {
     "name": "#%%\n"
    }
   }
  },
  {
   "cell_type": "markdown",
   "source": [
    "We will see more about data structures below.\n",
    "\n",
    "Now we can start adding data. GemPy input data consist on surface points and\n",
    "orientations (perpendicular to the layers). The 2D plot gives you the X and Z coordinates when hovering the mouse\n",
    " over. We can add a surface point as follows:\n"
   ],
   "metadata": {
    "collapsed": false
   }
  },
  {
   "cell_type": "code",
   "execution_count": null,
   "outputs": [],
   "source": [
    "# Add a point. If idx is None, next available index will be used. Here we pass it\n",
    "# explicitly for consistency\n",
    "geo_model.add_surface_points(X=223, Y=0.01, Z=-94, surface='surface1', idx=0)\n",
    "\n",
    "# Plot in 2D\n",
    "p2d.plot_data(ax, cell_number=11)\n",
    "\n",
    "# Plot in 3D\n",
    "p3d.plot_data()"
   ],
   "metadata": {
    "collapsed": false,
    "pycharm": {
     "name": "#%%\n"
    }
   }
  },
  {
   "cell_type": "markdown",
   "source": [
    "Now we can add the other two points of the layer:"
   ],
   "metadata": {
    "collapsed": false
   }
  },
  {
   "cell_type": "code",
   "execution_count": null,
   "outputs": [],
   "source": [
    "# Add points\n",
    "geo_model.add_surface_points(X=458, Y=0, Z=-107, surface='surface1', idx=1)\n",
    "geo_model.add_surface_points(X=612, Y=0, Z=-14, surface='surface1', idx=2)\n",
    "\n",
    "# Plotting\n",
    "p2d.plot_data(ax, cell_number=11)\n",
    "p3d.plot_surface_points()"
   ],
   "metadata": {
    "collapsed": false,
    "pycharm": {
     "name": "#%%\n"
    }
   }
  },
  {
   "cell_type": "markdown",
   "source": [
    "The **minimum amount of input data** to interpolate anything in `gempy` is:\n",
    "\n",
    "a) 2 surface points per surface\n",
    "\n",
    "b) One orientation per series.\n",
    "\n",
    "Lets add an orientation anywhere in space:"
   ],
   "metadata": {
    "collapsed": false
   }
  },
  {
   "cell_type": "code",
   "execution_count": null,
   "outputs": [],
   "source": [
    "# Adding orientation\n",
    "geo_model.add_orientations(X=350, Y=0, Z=-300, surface='surface1', pole_vector= (0,0,1))\n",
    "p2d.plot_data(ax, cell_number=5)\n",
    "p3d.plot_data()"
   ],
   "metadata": {
    "collapsed": false,
    "pycharm": {
     "name": "#%%\n"
    }
   }
  },
  {
   "cell_type": "markdown",
   "source": [
    "Now we have enough data to finally **interpolate**!"
   ],
   "metadata": {
    "collapsed": false
   }
  },
  {
   "cell_type": "code",
   "execution_count": null,
   "outputs": [],
   "source": [
    "gp.compute_model(geo_model)"
   ],
   "metadata": {
    "collapsed": false,
    "pycharm": {
     "name": "#%%\n"
    }
   }
  },
  {
   "cell_type": "markdown",
   "source": [
    "That is, we have interpolated the 3D surface. We can visualize with:"
   ],
   "metadata": {
    "collapsed": false
   }
  },
  {
   "cell_type": "code",
   "execution_count": null,
   "outputs": [],
   "source": [
    "# In 2D\n",
    "p2d.plot_contacts(ax, cell_number=5)\n",
    "\n",
    "# In 3D\n",
    "p3d.plot_surfaces()"
   ],
   "metadata": {
    "collapsed": false,
    "pycharm": {
     "name": "#%%\n"
    }
   }
  },
  {
   "cell_type": "markdown",
   "source": [
    "Congratulations! You have learnt how to create a surface. From here on, we will\n",
    "learn how to combine multiple surfaces to little by little construct a full realize\n",
    "3D structural model.\n",
    "\n",
    "-----------\n",
    "## Intermission: GemPy data classes\n",
    "\n",
    "GemPy depends on multiple data objects to store all the data structures necessary\n",
    "to construct an structural model. To keep all the necessary objects in sync the\n",
    "class `gempy.ImplicitCoKriging` (which `geo_model` is instance of) will provide the\n",
    "necessary methods to update these data structures coherently.\n",
    "\n",
    "At current state (gempy 2.2), the data classes are:\n",
    "\n",
    "- `gempy.SurfacePoints`\n",
    "- `gempy.Orientations`\n",
    "- `gempy.Surfaces`\n",
    "- `gempy.Stack` (combination of `gempy.Series` and `gempy.Faults`)\n",
    "- `gempy.Grid`\n",
    "- `gempy.AdditionalData`\n",
    "- `gempy.Solutions`\n",
    "\n",
    "Today we will look into details only some of these classes but what is important\n",
    "to notice is that you can access these objects as follows:"
   ],
   "metadata": {
    "collapsed": false
   }
  },
  {
   "cell_type": "code",
   "execution_count": null,
   "outputs": [],
   "source": [
    "# The default surfaces once again\n",
    "geo_model.surfaces"
   ],
   "metadata": {
    "collapsed": false,
    "pycharm": {
     "name": "#%%\n"
    }
   }
  },
  {
   "cell_type": "code",
   "execution_count": null,
   "outputs": [],
   "source": [
    "# Also the surface points\n",
    "geo_model.surface_points"
   ],
   "metadata": {
    "collapsed": false,
    "pycharm": {
     "name": "#%%\n"
    }
   }
  },
  {
   "cell_type": "code",
   "execution_count": null,
   "outputs": [],
   "source": [
    "# To find the location of the surface we just plot\n",
    "geo_model.solutions.vertices"
   ],
   "metadata": {
    "collapsed": false,
    "pycharm": {
     "name": "#%%\n"
    }
   }
  },
  {
   "cell_type": "code",
   "execution_count": null,
   "outputs": [],
   "source": [
    "# The grid values:\n",
    "geo_model.grid, len(geo_model.grid.values)"
   ],
   "metadata": {
    "collapsed": false,
    "pycharm": {
     "name": "#%%\n"
    }
   }
  },
  {
   "cell_type": "code",
   "execution_count": null,
   "outputs": [],
   "source": [
    "# And its correspondent ids:\n",
    "geo_model.solutions.lith_block, len(geo_model.solutions.lith_block)"
   ],
   "metadata": {
    "collapsed": false,
    "pycharm": {
     "name": "#%%\n"
    }
   }
  },
  {
   "cell_type": "markdown",
   "source": [
    "------\n",
    "\n",
    "## Adding more layers\n",
    "\n",
    "<div class=\"alert alert-block alert-warning\">\n",
    "<b>Exercise:</b> So far we only need 2 units defined. The cross-section image that\n",
    " we load have 4 however. Lets add two layers more:\n",
    "</div>"
   ],
   "metadata": {
    "collapsed": false
   }
  },
  {
   "cell_type": "markdown",
   "source": [
    "### Layer 2\n",
    "\n",
    "First we need to add some more layers."
   ],
   "metadata": {
    "collapsed": false
   }
  },
  {
   "cell_type": "code",
   "execution_count": null,
   "outputs": [],
   "source": [
    "# We can add already two extra surfaces\n",
    "geo_model.add_surfaces(['surface3', 'basement'])"
   ],
   "metadata": {
    "collapsed": false,
    "pycharm": {
     "name": "#%%\n"
    }
   }
  },
  {
   "cell_type": "code",
   "execution_count": null,
   "outputs": [],
   "source": [
    "# Your code here:\n",
    "geo_model.add_surface_points(X=225, Y=0, Z=-269, surface='surface2', idx=3)\n",
    "geo_model.add_surface_points(X=459, Y=0, Z=-279, surface='surface2', idx=4)\n",
    "\n",
    "#--------------------\n",
    "# Plot data\n",
    "p2d.plot_data(ax)\n",
    "p3d.plot_data()"
   ],
   "metadata": {
    "collapsed": false,
    "pycharm": {
     "name": "#%%\n"
    }
   }
  },
  {
   "cell_type": "code",
   "execution_count": null,
   "outputs": [],
   "source": [
    "# Compute model\n",
    "gp.compute_model(geo_model)\n",
    "\n",
    "# Plot 2D\n",
    "p2d.plot_lith(ax, cell_number=5)\n",
    "p2d.plot_contacts(ax, cell_number=5)\n",
    "\n",
    "# Plot 3D\n",
    "p3d.plot_surfaces()\n",
    "p3d.plot_structured_grid(opacity=.2, annotations = {1: 'surface1', 2:'surface2', 3:'surface3'})\n"
   ],
   "metadata": {
    "collapsed": false,
    "pycharm": {
     "name": "#%%\n"
    }
   }
  },
  {
   "cell_type": "markdown",
   "source": [
    "### Layer 3"
   ],
   "metadata": {
    "collapsed": false
   }
  },
  {
   "cell_type": "code",
   "execution_count": null,
   "outputs": [],
   "source": [
    "# Your code here:\n",
    "# Add points\n",
    "geo_model.add_surface_points(X=225, Y=0, Z=-439, surface='surface3')\n",
    "geo_model.add_surface_points(X=464, Y=0, Z=-456, surface='surface3')\n",
    "geo_model.add_surface_points(X=619, Y=0, Z=-433, surface='surface3')\n",
    "\n",
    "# Compute model\n",
    "gp.compute_model(geo_model)\n",
    "\n",
    "# Plotting\n",
    "p2d.plot_data(ax, cell_number=5)\n",
    "p2d.plot_lith(ax, cell_number=5)\n",
    "p2d.plot_contacts(ax, cell_number=5)\n",
    "\n",
    "p3d.plot_surfaces()\n",
    "p3d.plot_structured_grid(opacity=.2, annotations = {1: 'surface1', 2:'surface2', 3:'surface3', 4:'basement'})\n",
    "p3d.plot_data()\n",
    "# ------------------"
   ],
   "metadata": {
    "collapsed": false,
    "pycharm": {
     "name": "#%%\n"
    }
   }
  },
  {
   "cell_type": "code",
   "execution_count": null,
   "outputs": [],
   "source": [
    "# gp.save_model_to_pickle(geo_model, 'checkpoint1')"
   ],
   "metadata": {
    "collapsed": false,
    "pycharm": {
     "name": "#%%\n"
    }
   }
  },
  {
   "cell_type": "markdown",
   "source": [
    "-------------------\n",
    "## Intermission: GemPy data structures: Surfaces Points, Orientations and surfaces\n",
    "\n",
    "On GemPy each surface is not independent of each other. Some surfaces will be\n",
    "subparallel to each other while other surfaces will define a fault plane where\n",
    "an offset may occur.\n",
    "\n",
    "In order to account for all possible combinations, we use **categories** (in many\n",
    "instances literal `pandas.CategoricalDtype`) and **ordered** `pandas.Dataframes`.\n",
    "Let's take a look at `gempy.SurfacePoints`:"
   ],
   "metadata": {
    "collapsed": false
   }
  },
  {
   "cell_type": "code",
   "execution_count": null,
   "outputs": [],
   "source": [
    "geo_model.surface_points"
   ],
   "metadata": {
    "collapsed": false,
    "pycharm": {
     "name": "#%%\n"
    }
   }
  },
  {
   "cell_type": "markdown",
   "source": [
    "As we can see each point belong to a given surface. If now we look at the\n",
    "`gempy.Surface` object:"
   ],
   "metadata": {
    "collapsed": false
   }
  },
  {
   "cell_type": "code",
   "execution_count": null,
   "outputs": [],
   "source": [
    "geo_model.surfaces"
   ],
   "metadata": {
    "collapsed": false,
    "pycharm": {
     "name": "#%%\n"
    }
   }
  },
  {
   "cell_type": "markdown",
   "source": [
    "Here we can find the properties related to a each surface. Special attention\n",
    "to the column series. At the moment all surfaces belong to the same series\n",
    "and therefore they will be interpolated together in that characteristic subparallel\n",
    "pattern.\n",
    "\n",
    "Now we will see how by playing with the series we can define unconformities and\n",
    "faults"
   ],
   "metadata": {
    "collapsed": false
   }
  },
  {
   "cell_type": "markdown",
   "source": [
    "--------------"
   ],
   "metadata": {
    "collapsed": false
   }
  },
  {
   "cell_type": "markdown",
   "source": [
    "<div class=\"alert alert-block alert-info\"><b>Checkpoint:</b> Next cell will load the\n",
    "model from disk to the necessary state to continue.</div>"
   ],
   "metadata": {
    "collapsed": false
   }
  },
  {
   "cell_type": "code",
   "execution_count": null,
   "outputs": [],
   "source": [
    "geo_model = gp.load_model_pickle('checkpoint1.pickle')\n",
    "\n",
    "# Default plotting setting\n",
    "p2d = gp.plot_2d(geo_model)\n",
    "ax = p2d.axes[0]\n",
    "# Reading image\n",
    "img = mpimg.imread('wells.png')\n",
    "# Plotting it inplace\n",
    "ax.imshow(img, origin='upper', alpha=.8, extent = (0, 791, -582,0))\n",
    "p3d = gp.plot_3d(geo_model, plotter_type='background')"
   ],
   "metadata": {
    "collapsed": false,
    "pycharm": {
     "name": "#%%\n"
    }
   }
  },
  {
   "cell_type": "markdown",
   "source": [
    "---------\n",
    "## Unconformities and Faults:\n",
    "\n",
    "So far the model is simply a depositional unit. GemPy allows for unconformities\n",
    "and faults to build complex models. This input is given by categorical data. In general:\n",
    "\n",
    "**Geometric Data** (surface points/ orientations) <belong to< **surface** <belong to< **series**\n",
    "\n",
    "And series can be a fault---i.e. offset the rest of surface--- or not. We are going to show how to add a fault as an example.\n",
    "\n",
    "First we need to add a series:\n",
    "\n",
    "### Erosion"
   ],
   "metadata": {
    "collapsed": false
   }
  },
  {
   "cell_type": "code",
   "execution_count": null,
   "outputs": [],
   "source": [
    "geo_model.add_features('Discontinuity')"
   ],
   "metadata": {
    "collapsed": false,
    "pycharm": {
     "name": "#%%\n"
    }
   }
  },
  {
   "cell_type": "markdown",
   "source": [
    "Now there are two different series/features but not a surface that belong to it.\n",
    "Therefore, we also need to add a new surface:"
   ],
   "metadata": {
    "collapsed": false
   }
  },
  {
   "cell_type": "code",
   "execution_count": null,
   "outputs": [],
   "source": [
    "geo_model.add_surfaces('discontinuity1')"
   ],
   "metadata": {
    "collapsed": false,
    "pycharm": {
     "name": "#%%\n"
    }
   }
  },
  {
   "cell_type": "markdown",
   "source": [
    "Linking series/feature with surface:"
   ],
   "metadata": {
    "collapsed": false
   }
  },
  {
   "cell_type": "code",
   "execution_count": null,
   "outputs": [],
   "source": [
    "gp.map_stack_to_surfaces(geo_model, {'Discontinuity':'discontinuity1'})\n"
   ],
   "metadata": {
    "collapsed": false,
    "pycharm": {
     "name": "#%%\n"
    }
   }
  },
  {
   "cell_type": "markdown",
   "source": [
    "Notice that by default it is defining an erosion."
   ],
   "metadata": {
    "collapsed": false
   }
  },
  {
   "cell_type": "code",
   "execution_count": null,
   "outputs": [],
   "source": [
    "geo_model.reorder_features(['Discontinuity', 'Default series'])"
   ],
   "metadata": {
    "collapsed": false,
    "pycharm": {
     "name": "#%%\n"
    }
   }
  },
  {
   "cell_type": "markdown",
   "source": [
    "Now we can just add input data as before (remember the minimum amount of input data to compute a model):"
   ],
   "metadata": {
    "collapsed": false
   }
  },
  {
   "cell_type": "code",
   "execution_count": null,
   "outputs": [],
   "source": [
    "# Add input data of the fault\n",
    "geo_model.add_surface_points(X=550, Y=0, Z=-30, surface='discontinuity1')\n",
    "geo_model.add_surface_points(X=650, Y=0, Z=-200, surface='discontinuity1')\n",
    "geo_model.add_orientations(X=600, Y=0, Z= -100, surface='discontinuity1',\n",
    "                           pole_vector=(.3,0,.3))\n",
    "# Plot\n",
    "p2d.remove(ax)\n",
    "p2d.plot_data(ax, cell_number=5)\n",
    "p3d.remove_actor(p3d.regular_grid_actor) # Removing the previous regular grid because\n",
    "                                         # we are changing the colors and gets messy\n",
    "p3d.plot_data()"
   ],
   "metadata": {
    "collapsed": false,
    "pycharm": {
     "name": "#%%\n"
    }
   }
  },
  {
   "cell_type": "code",
   "execution_count": null,
   "outputs": [],
   "source": [
    "geo_model.surface_points"
   ],
   "metadata": {
    "collapsed": false,
    "pycharm": {
     "name": "#%%\n"
    }
   }
  },
  {
   "cell_type": "markdown",
   "source": [
    "If we compute now the model the purple plane will erode the previous surfaces\n",
    "and layers:"
   ],
   "metadata": {
    "collapsed": false
   }
  },
  {
   "cell_type": "code",
   "execution_count": null,
   "outputs": [],
   "source": [
    "# Compute\n",
    "gp.compute_model(geo_model)\n",
    "\n",
    "# Plot\n",
    "p2d.remove(ax)\n",
    "p2d.plot_data(ax, cell_number=5)\n",
    "p2d.plot_lith(ax, cell_number=5)\n",
    "p2d.plot_contacts(ax, cell_number=5)\n",
    "\n",
    "p3d.plot_data()\n",
    "p3d.plot_surfaces()\n",
    "p3d.plot_structured_grid(opacity=.2, annotations = {2: 'surface1', 3:'surface2',\n",
    "                                                    4:'surface3', 5:'basement'})"
   ],
   "metadata": {
    "collapsed": false,
    "pycharm": {
     "name": "#%%\n"
    }
   }
  },
  {
   "cell_type": "markdown",
   "source": [
    "### Onlap\n",
    "\n",
    "If the relation should be onlap we just need to change the type of series/feature\n",
    "of discontinuity"
   ],
   "metadata": {
    "collapsed": false
   }
  },
  {
   "cell_type": "code",
   "execution_count": null,
   "outputs": [],
   "source": [
    "geo_model.set_bottom_relation('Discontinuity', 'Onlap')\n",
    "\n",
    "\n",
    "# %%\n",
    "\n",
    "# Compute\n",
    "gp.compute_model(geo_model)\n",
    "\n",
    "# Plot\n",
    "p2d.remove(ax)\n",
    "p2d.plot_data(ax, cell_number=5)\n",
    "p2d.plot_lith(ax, cell_number=5)\n",
    "p2d.plot_contacts(ax, cell_number=5)\n",
    "\n",
    "p3d.plot_data()\n",
    "p3d.plot_surfaces()\n",
    "p3d.plot_structured_grid(opacity=.2, annotations = {2: 'surface1', 3:'surface2',\n",
    "                                                    4:'surface3', 5:'basement'})"
   ],
   "metadata": {
    "collapsed": false,
    "pycharm": {
     "name": "#%%\n"
    }
   }
  },
  {
   "cell_type": "markdown",
   "source": [
    "### Fault\n",
    "\n",
    "Then define that is a fault. It is possible to do this either by the `set_bottom_relation`\n",
    "method or `set_is_fault`."
   ],
   "metadata": {
    "collapsed": false
   }
  },
  {
   "cell_type": "code",
   "execution_count": null,
   "outputs": [],
   "source": [
    "geo_model.set_is_fault('Discontinuity')\n"
   ],
   "metadata": {
    "collapsed": false,
    "pycharm": {
     "name": "#%%\n"
    }
   }
  },
  {
   "cell_type": "markdown",
   "source": [
    "And now is computing as before:"
   ],
   "metadata": {
    "collapsed": false
   }
  },
  {
   "cell_type": "code",
   "execution_count": null,
   "outputs": [],
   "source": [
    "# Compute\n",
    "gp.compute_model(geo_model)\n",
    "\n",
    "# Plot\n",
    "p2d.remove(ax)\n",
    "p2d.plot_data(ax, cell_number=5)\n",
    "p2d.plot_lith(ax, cell_number=5)\n",
    "p2d.plot_contacts(ax, cell_number=5)\n",
    "\n",
    "p3d.plot_data()\n",
    "p3d.plot_surfaces()\n",
    "p3d.plot_structured_grid(opacity=.2, annotations = {2: 'surface1', 3:'surface2',\n",
    "                                                    4:'surface3', 5:'basement'})"
   ],
   "metadata": {
    "collapsed": false,
    "pycharm": {
     "name": "#%%\n"
    }
   }
  },
  {
   "cell_type": "markdown",
   "source": [
    "By using multiple series/features instead of having folding layers we can have sharp\n",
    " interfaces. This opens"
   ],
   "metadata": {
    "collapsed": false
   }
  },
  {
   "cell_type": "markdown",
   "source": [
    "## Additional features:\n",
    "\n",
    "Over the years we have built a bunch of assets integrate with `gempy`.\n",
    " Here we will show some of them:\n",
    "\n",
    "### Topography\n",
    "\n",
    "GemPy has a built-in capabilities to read and manipulate topographic data (through gdal).\n",
    " To show an example we can just create a random topography:"
   ],
   "metadata": {
    "collapsed": false
   }
  },
  {
   "cell_type": "code",
   "execution_count": null,
   "outputs": [],
   "source": [
    "## Adding random topography\n",
    "geo_model.set_topography(source='random',fd=1.9, d_z=np.array([-150, 0]), resolution=np.array([200,200]))"
   ],
   "metadata": {
    "collapsed": false,
    "pycharm": {
     "name": "#%%\n"
    }
   }
  },
  {
   "cell_type": "markdown",
   "source": [
    "The topography can we visualize in both renderers:"
   ],
   "metadata": {
    "collapsed": false
   }
  },
  {
   "cell_type": "code",
   "execution_count": null,
   "outputs": [],
   "source": [
    "p2d.plot_topography(ax, cell_number=5)\n",
    "p3d.plot_topography(scalars='topography')"
   ],
   "metadata": {
    "collapsed": false,
    "pycharm": {
     "name": "#%%\n"
    }
   }
  },
  {
   "cell_type": "markdown",
   "source": [
    "But also allows us to compute the geological map of an area:"
   ],
   "metadata": {
    "collapsed": false
   }
  },
  {
   "cell_type": "code",
   "execution_count": null,
   "outputs": [],
   "source": [
    "gp.compute_model(geo_model)\n",
    "p3d.plot_surfaces()\n",
    "p3d.plot_topography()"
   ],
   "metadata": {
    "collapsed": false,
    "pycharm": {
     "name": "#%%\n"
    }
   }
  },
  {
   "cell_type": "code",
   "execution_count": null,
   "outputs": [],
   "source": [
    "p3d.plot_structured_grid()"
   ],
   "metadata": {
    "collapsed": false,
    "pycharm": {
     "name": "#%%\n"
    }
   }
  },
  {
   "cell_type": "code",
   "execution_count": null,
   "outputs": [],
   "source": [
    "# gp.save_model_to_pickle(geo_model, 'checkpoint2')"
   ],
   "metadata": {
    "collapsed": false,
    "pycharm": {
     "name": "#%%\n"
    }
   }
  },
  {
   "cell_type": "markdown",
   "source": [
    "--------------"
   ],
   "metadata": {
    "collapsed": false
   }
  },
  {
   "cell_type": "markdown",
   "source": [
    "<div class=\"alert alert-block alert-info\"><b>Checkpoint:</b> Next cell will load the\n",
    "model from disk to the necessary state to continue.</div>"
   ],
   "metadata": {
    "collapsed": false
   }
  },
  {
   "cell_type": "code",
   "execution_count": null,
   "outputs": [],
   "source": [
    "geo_model = gp.load_model_pickle('checkpoint2.pickle')\n",
    "\n",
    "# Default plotting setting\n",
    "p2d = gp.plot_2d(geo_model)\n",
    "ax = p2d.axes[0]\n",
    "# Reading image\n",
    "img = mpimg.imread('wells.png')\n",
    "# Plotting it inplace\n",
    "ax.imshow(img, origin='upper', alpha=.8, extent = (0, 791, -582,0))\n",
    "p3d = gp.plot_3d(geo_model, plotter_type='background', show_topography=True)\n"
   ],
   "metadata": {
    "collapsed": false,
    "pycharm": {
     "name": "#%%\n"
    }
   }
  },
  {
   "cell_type": "markdown",
   "source": [
    "### Forward gravity\n",
    "\n",
    "GemPy also allows for inversions (in production only gravity so far). We can see a small demo how this works.\n",
    "\n",
    "The first thing to do is to assign densities to each of the units:"
   ],
   "metadata": {
    "collapsed": false
   }
  },
  {
   "cell_type": "code",
   "execution_count": null,
   "outputs": [],
   "source": [
    "geo_model.add_surface_values([0, 2.6, 2.4, 3.2, 3.6], ['density'])"
   ],
   "metadata": {
    "collapsed": false,
    "pycharm": {
     "name": "#%%\n"
    }
   }
  },
  {
   "cell_type": "markdown",
   "source": [
    "Also we can create a centered grid around a device for precision:"
   ],
   "metadata": {
    "collapsed": false
   }
  },
  {
   "cell_type": "code",
   "execution_count": null,
   "outputs": [],
   "source": [
    "geo_model.set_centered_grid(centers= [[400, 0, 0]],  resolution = [10, 10, 100],\n",
    "                            radius=800)"
   ],
   "metadata": {
    "collapsed": false,
    "pycharm": {
     "name": "#%%\n"
    }
   }
  },
  {
   "cell_type": "code",
   "execution_count": null,
   "outputs": [],
   "source": [
    "from notebooks.aux_func import plot_centered_grid\n",
    "\n",
    "plot_centered_grid(geo_model.grid.centered_grid)"
   ],
   "metadata": {
    "collapsed": false,
    "pycharm": {
     "name": "#%%\n"
    }
   }
  },
  {
   "cell_type": "markdown",
   "source": [
    "We need to modify the graph to add the branch of algebra necessary to compute\n",
    " gravity from prisms. This also means that we need to recompile the `theano`\n",
    " function:"
   ],
   "metadata": {
    "collapsed": false
   }
  },
  {
   "cell_type": "code",
   "execution_count": null,
   "outputs": [],
   "source": [
    "gp.set_interpolator(geo_model, output=['gravity'], theano_optimizer='fast_run')"
   ],
   "metadata": {
    "collapsed": false,
    "pycharm": {
     "name": "#%%\n"
    }
   }
  },
  {
   "cell_type": "markdown",
   "source": [
    "But now additionally to the interpolation we also compute the forward gravity of\n",
    " the model (at the point XYZ = 400, 0, 0)"
   ],
   "metadata": {
    "collapsed": false
   }
  },
  {
   "cell_type": "code",
   "execution_count": null,
   "outputs": [],
   "source": [
    "gp.compute_model(geo_model)\n",
    "geo_model.solutions.fw_gravity"
   ],
   "metadata": {
    "collapsed": false,
    "pycharm": {
     "name": "#%%\n"
    }
   }
  },
  {
   "cell_type": "markdown",
   "source": [
    "We can visualize it it better in the following figure. The aim of an inversion is to find the set of parameters that \n",
    "fit a measured point the better. In this example the red x symbolize the measured gravity while  the blue dots are \n",
    "the current gravity (and previous) fw gravity values.  The widget moves up and down the surface 3"
   ],
   "metadata": {
    "collapsed": false
   }
  },
  {
   "cell_type": "code",
   "execution_count": null,
   "outputs": [],
   "source": [
    "import notebooks.aux_func\n",
    "from importlib import reload\n",
    "reload(notebooks.aux_func)\n",
    "grav_invert = notebooks.aux_func.plot_grav_inter(geo_model, )"
   ],
   "metadata": {
    "collapsed": false,
    "pycharm": {
     "name": "#%%\n"
    }
   }
  },
  {
   "cell_type": "code",
   "execution_count": null,
   "outputs": [],
   "source": [
    "interact(grav_invert, dz=(-200, 200, 10))"
   ],
   "metadata": {
    "collapsed": false,
    "pycharm": {
     "name": "#%%\n"
    }
   }
  },
  {
   "cell_type": "code",
   "execution_count": null,
   "outputs": [],
   "source": [
    "# gp.save_model_to_pickle(geo_model, 'checkpoint3')\n"
   ],
   "metadata": {
    "collapsed": false,
    "pycharm": {
     "name": "#%%\n"
    }
   }
  },
  {
   "cell_type": "markdown",
   "source": [
    "-----------\n",
    "\n",
    "<div class=\"alert alert-block alert-info\"><b>Checkpoint:</b> Next cell will load the\n",
    "model from disk to the necessary state to continue.</div>\n",
    "\n",
    "___________\n",
    "\n",
    "## Probabilistic Modeling\n",
    "\n",
    "When dealing with geological data, uncertainty is always present. Device precision\n",
    "and error, interpretations or extrapolations, the sources of uncertainty are\n",
    "many and very heterogeneous. Probabilistic modeling enable to capture some\n",
    "of this epistemic uncertainty - i.e. lack of knowledge - into **aleatoric** uncertainty\n",
    "that we can represent by probability distributions.\n",
    "\n",
    "In this tutorial be will introduce some basic concepts and building blocks and\n",
    "how all can be coupled with `gempy`."
   ],
   "metadata": {
    "collapsed": false
   }
  },
  {
   "cell_type": "code",
   "execution_count": 1,
   "outputs": [],
   "source": [
    "import gempy as gp\n",
    "import numpy as np\n",
    "%matplotlib inline\n",
    "geo_model = gp.load_model_pickle('checkpoint3.pickle')\n",
    "p3d = gp.plot_3d(geo_model, plotter_type='background', show_topography=False)"
   ],
   "metadata": {
    "collapsed": false,
    "pycharm": {
     "name": "#%%\n"
    }
   }
  },
  {
   "cell_type": "markdown",
   "source": [
    "Let's construct a very simple probabilistic model. We will have only 3 random\n",
    "variables that define the depth of each of the surfaces.\n",
    "\n",
    "First we need to see which surface points we want to modify:"
   ],
   "metadata": {
    "collapsed": false,
    "pycharm": {
     "name": "#%% md\n"
    }
   }
  },
  {
   "cell_type": "code",
   "execution_count": 2,
   "outputs": [
    {
     "data": {
      "text/plain": "       X     Y      Z    smooth         surface\n8  550.0  0.00  -30.0  0.000001  discontinuity1\n9  650.0  0.00 -200.0  0.000001  discontinuity1\n1  458.0  0.00 -107.0  0.000001        surface1\n2  612.0  0.00  -14.0  0.000001        surface1\n0  223.0  0.01  -94.0  0.000001        surface1\n3  225.0  0.00 -269.0  0.000001        surface2\n4  459.0  0.00 -279.0  0.000001        surface2\n5  225.0  0.00 -399.0  0.000001        surface3\n6  464.0  0.00 -416.0  0.000001        surface3\n7  619.0  0.00 -393.0  0.000001        surface3",
      "text/html": "<table border=\"1\" class=\"dataframe\">\n  <thead>\n    <tr style=\"text-align: right;\">\n      <th></th>\n      <th>X</th>\n      <th>Y</th>\n      <th>Z</th>\n      <th>smooth</th>\n      <th>surface</th>\n    </tr>\n  </thead>\n  <tbody>\n    <tr>\n      <th>8</th>\n      <td>550.0</td>\n      <td>0.00</td>\n      <td>-30.0</td>\n      <td>0.000001</td>\n      <td>discontinuity1</td>\n    </tr>\n    <tr>\n      <th>9</th>\n      <td>650.0</td>\n      <td>0.00</td>\n      <td>-200.0</td>\n      <td>0.000001</td>\n      <td>discontinuity1</td>\n    </tr>\n    <tr>\n      <th>1</th>\n      <td>458.0</td>\n      <td>0.00</td>\n      <td>-107.0</td>\n      <td>0.000001</td>\n      <td>surface1</td>\n    </tr>\n    <tr>\n      <th>2</th>\n      <td>612.0</td>\n      <td>0.00</td>\n      <td>-14.0</td>\n      <td>0.000001</td>\n      <td>surface1</td>\n    </tr>\n    <tr>\n      <th>0</th>\n      <td>223.0</td>\n      <td>0.01</td>\n      <td>-94.0</td>\n      <td>0.000001</td>\n      <td>surface1</td>\n    </tr>\n    <tr>\n      <th>3</th>\n      <td>225.0</td>\n      <td>0.00</td>\n      <td>-269.0</td>\n      <td>0.000001</td>\n      <td>surface2</td>\n    </tr>\n    <tr>\n      <th>4</th>\n      <td>459.0</td>\n      <td>0.00</td>\n      <td>-279.0</td>\n      <td>0.000001</td>\n      <td>surface2</td>\n    </tr>\n    <tr>\n      <th>5</th>\n      <td>225.0</td>\n      <td>0.00</td>\n      <td>-399.0</td>\n      <td>0.000001</td>\n      <td>surface3</td>\n    </tr>\n    <tr>\n      <th>6</th>\n      <td>464.0</td>\n      <td>0.00</td>\n      <td>-416.0</td>\n      <td>0.000001</td>\n      <td>surface3</td>\n    </tr>\n    <tr>\n      <th>7</th>\n      <td>619.0</td>\n      <td>0.00</td>\n      <td>-393.0</td>\n      <td>0.000001</td>\n      <td>surface3</td>\n    </tr>\n  </tbody>\n</table>"
     },
     "execution_count": 2,
     "metadata": {},
     "output_type": "execute_result"
    }
   ],
   "source": [
    "geo_model.surface_points"
   ],
   "metadata": {
    "collapsed": false,
    "pycharm": {
     "name": "#%%\n"
    }
   }
  },
  {
   "cell_type": "code",
   "execution_count": 3,
   "outputs": [
    {
     "data": {
      "text/plain": "Int64Index([1, 2, 0, 3, 4, 5, 6, 7], dtype='int64')"
     },
     "execution_count": 3,
     "metadata": {},
     "output_type": "execute_result"
    }
   ],
   "source": [
    "indices_bool = geo_model.surface_points.df['surface'].isin(['surface1', 'surface2', 'surface3'])\n",
    "indices = geo_model.surface_points.df.index[indices_bool]\n",
    "indices"
   ],
   "metadata": {
    "collapsed": false,
    "pycharm": {
     "name": "#%%\n"
    }
   }
  },
  {
   "cell_type": "markdown",
   "source": [
    "Indices from 0 to 7 are defining the layers of interest.\n",
    "\n",
    "When we define a normal variable we can either doing it by define its absolute\n",
    "position or its variance centering the mean at 0 - for normal distributions the result is the same.\n",
    "For this tutorial I would use the second for convenience."
   ],
   "metadata": {
    "collapsed": false,
    "pycharm": {
     "name": "#%% md\n"
    }
   }
  },
  {
   "cell_type": "code",
   "execution_count": 4,
   "outputs": [
    {
     "data": {
      "text/plain": "1   -107.0\n2    -14.0\n0    -94.0\n3   -269.0\n4   -279.0\n5   -399.0\n6   -416.0\n7   -393.0\nName: Z, dtype: float64"
     },
     "execution_count": 4,
     "metadata": {},
     "output_type": "execute_result"
    }
   ],
   "source": [
    "# First we need to store the initial depth location\n",
    "Z_init = geo_model.surface_points.df.loc[indices, 'Z'].copy()\n",
    "Z_init\n"
   ],
   "metadata": {
    "collapsed": false,
    "pycharm": {
     "name": "#%%\n"
    }
   }
  },
  {
   "cell_type": "code",
   "execution_count": 5,
   "outputs": [
    {
     "data": {
      "text/plain": "array([-116.1952967 ,  -23.1952967 , -103.1952967 , -262.93999278,\n       -272.93999278, -430.16199237, -447.16199237, -424.16199237])"
     },
     "execution_count": 5,
     "metadata": {},
     "output_type": "execute_result"
    }
   ],
   "source": [
    "# Defining the variance for each layer\n",
    "Z_var = np.random.normal(0, # Mean certered on 0\n",
    "                     30, # Variance of the location\n",
    "                     size=3 # Number of random variables\n",
    "                     )\n",
    "\n",
    "Z_loc = np.hstack([Z_init[[1,2,0]] + Z_var[0],\n",
    "               Z_init[[3, 4]] + Z_var[1],\n",
    "               Z_init[[5, 6, 7]] + Z_var[2]])\n",
    "\n",
    "Z_loc"
   ],
   "metadata": {
    "collapsed": false,
    "pycharm": {
     "name": "#%%\n"
    }
   }
  },
  {
   "cell_type": "code",
   "execution_count": 6,
   "outputs": [
    {
     "data": {
      "text/plain": "       X     Y           Z    smooth         surface\n8  550.0  0.00  -30.000000  0.000001  discontinuity1\n9  650.0  0.00 -200.000000  0.000001  discontinuity1\n1  458.0  0.00 -116.195297  0.000001        surface1\n2  612.0  0.00  -23.195297  0.000001        surface1\n0  223.0  0.01 -103.195297  0.000001        surface1\n3  225.0  0.00 -262.939993  0.000001        surface2\n4  459.0  0.00 -272.939993  0.000001        surface2\n5  225.0  0.00 -430.161992  0.000001        surface3\n6  464.0  0.00 -447.161992  0.000001        surface3\n7  619.0  0.00 -424.161992  0.000001        surface3",
      "text/html": "<table border=\"1\" class=\"dataframe\">\n  <thead>\n    <tr style=\"text-align: right;\">\n      <th></th>\n      <th>X</th>\n      <th>Y</th>\n      <th>Z</th>\n      <th>smooth</th>\n      <th>surface</th>\n    </tr>\n  </thead>\n  <tbody>\n    <tr>\n      <th>8</th>\n      <td>550.0</td>\n      <td>0.00</td>\n      <td>-30.000000</td>\n      <td>0.000001</td>\n      <td>discontinuity1</td>\n    </tr>\n    <tr>\n      <th>9</th>\n      <td>650.0</td>\n      <td>0.00</td>\n      <td>-200.000000</td>\n      <td>0.000001</td>\n      <td>discontinuity1</td>\n    </tr>\n    <tr>\n      <th>1</th>\n      <td>458.0</td>\n      <td>0.00</td>\n      <td>-116.195297</td>\n      <td>0.000001</td>\n      <td>surface1</td>\n    </tr>\n    <tr>\n      <th>2</th>\n      <td>612.0</td>\n      <td>0.00</td>\n      <td>-23.195297</td>\n      <td>0.000001</td>\n      <td>surface1</td>\n    </tr>\n    <tr>\n      <th>0</th>\n      <td>223.0</td>\n      <td>0.01</td>\n      <td>-103.195297</td>\n      <td>0.000001</td>\n      <td>surface1</td>\n    </tr>\n    <tr>\n      <th>3</th>\n      <td>225.0</td>\n      <td>0.00</td>\n      <td>-262.939993</td>\n      <td>0.000001</td>\n      <td>surface2</td>\n    </tr>\n    <tr>\n      <th>4</th>\n      <td>459.0</td>\n      <td>0.00</td>\n      <td>-272.939993</td>\n      <td>0.000001</td>\n      <td>surface2</td>\n    </tr>\n    <tr>\n      <th>5</th>\n      <td>225.0</td>\n      <td>0.00</td>\n      <td>-430.161992</td>\n      <td>0.000001</td>\n      <td>surface3</td>\n    </tr>\n    <tr>\n      <th>6</th>\n      <td>464.0</td>\n      <td>0.00</td>\n      <td>-447.161992</td>\n      <td>0.000001</td>\n      <td>surface3</td>\n    </tr>\n    <tr>\n      <th>7</th>\n      <td>619.0</td>\n      <td>0.00</td>\n      <td>-424.161992</td>\n      <td>0.000001</td>\n      <td>surface3</td>\n    </tr>\n  </tbody>\n</table>"
     },
     "execution_count": 6,
     "metadata": {},
     "output_type": "execute_result"
    }
   ],
   "source": [
    "# We are going to be extra verbose here!\n",
    "p3d.toggle_live_updating()\n",
    "geo_model.modify_surface_points(indices,\n",
    "                                Z=Z_loc,\n",
    "                                plot_object=p3d)\n"
   ],
   "metadata": {
    "collapsed": false,
    "pycharm": {
     "name": "#%%\n"
    }
   }
  },
  {
   "cell_type": "code",
   "execution_count": 7,
   "outputs": [],
   "source": [
    "# We can create a function\n",
    "def sample(silent=True):\n",
    "    # Defining the variance for each layer\n",
    "    Z_var = np.random.normal(0, # Mean certered on 0\n",
    "                         30, # Variance of the location\n",
    "                         size=3 # Number of random variables\n",
    "                         )\n",
    "\n",
    "    Z_loc = np.hstack([Z_init[[1,2,0]] + Z_var[0],\n",
    "                   Z_init[[3, 4]] + Z_var[1],\n",
    "                   Z_init[[5, 6, 7]] + Z_var[2]])\n",
    "\n",
    "    if silent is True:\n",
    "        geo_model.modify_surface_points(indices, Z=Z_loc)\n",
    "        gp.compute_model(geo_model)\n",
    "    else:\n",
    "        geo_model.modify_surface_points(indices, Z=Z_loc, plot_object=p3d)\n",
    "\n",
    "    # Returns the 3d lith array\n",
    "    return geo_model.solutions.lith_block"
   ],
   "metadata": {
    "collapsed": false,
    "pycharm": {
     "name": "#%%\n"
    }
   }
  },
  {
   "cell_type": "code",
   "execution_count": 11,
   "outputs": [
    {
     "data": {
      "text/plain": "array([5., 5., 5., ..., 3., 3., 3.])"
     },
     "execution_count": 11,
     "metadata": {},
     "output_type": "execute_result"
    }
   ],
   "source": [
    "sample(silent=False)\n"
   ],
   "metadata": {
    "collapsed": false,
    "pycharm": {
     "name": "#%%\n"
    }
   }
  },
  {
   "cell_type": "code",
   "execution_count": 13,
   "outputs": [],
   "source": [
    "lith_blocks = np.array([])\n",
    "n_iterations = 50\n",
    "for i in range(n_iterations):\n",
    "    lith_blocks = np.append(lith_blocks, sample())"
   ],
   "metadata": {
    "collapsed": false,
    "pycharm": {
     "name": "#%%\n"
    }
   }
  },
  {
   "cell_type": "code",
   "execution_count": 14,
   "outputs": [
    {
     "data": {
      "text/plain": "(50, 100000)"
     },
     "execution_count": 14,
     "metadata": {},
     "output_type": "execute_result"
    }
   ],
   "source": [
    "lith_blocks = lith_blocks.reshape(n_iterations, -1)\n",
    "lith_blocks.shape"
   ],
   "metadata": {
    "collapsed": false,
    "pycharm": {
     "name": "#%%\n"
    }
   }
  },
  {
   "cell_type": "code",
   "execution_count": 15,
   "outputs": [],
   "source": [
    "from gempy.bayesian.fields import compute_prob, calculate_ie_masked\n",
    "prob_block = compute_prob(lith_blocks)"
   ],
   "metadata": {
    "collapsed": false,
    "pycharm": {
     "name": "#%%\n"
    }
   }
  },
  {
   "cell_type": "code",
   "execution_count": 16,
   "outputs": [
    {
     "name": "stderr",
     "output_type": "stream",
     "text": [
      "c:\\users\\legui\\pycharmprojects\\gempy\\gempy\\plot\\plot_api.py:261: UserWarning: Matplotlib is currently using module://ipykernel.pylab.backend_inline, which is a non-GUI backend, so cannot show the figure.\n",
      "  p.fig.show()\n"
     ]
    },
    {
     "data": {
      "text/plain": "<Figure size 432x288 with 1 Axes>",
      "image/png": "[encoded data removed]"
     },
     "metadata": {
      "needs_background": "light"
     },
     "output_type": "display_data"
    }
   ],
   "source": [
    "layer = 1\n",
    "p2dp = gp.plot_2d(geo_model,\n",
    "                  show_lith=False, show_boundaries=False, show_data=False,\n",
    "                  regular_grid=prob_block[layer],\n",
    "                  kwargs_regular_grid={'cmap': 'viridis',\n",
    "                                        'norm': None}\n",
    "                  )\n"
   ],
   "metadata": {
    "collapsed": false,
    "pycharm": {
     "name": "#%%\n"
    }
   }
  },
  {
   "cell_type": "code",
   "execution_count": 17,
   "outputs": [
    {
     "data": {
      "text/plain": "<Figure size 432x288 with 1 Axes>",
      "image/png": "[encoded data removed]"
     },
     "metadata": {
      "needs_background": "light"
     },
     "output_type": "display_data"
    }
   ],
   "source": [
    "entropy_block = calculate_ie_masked(prob_block)\n",
    "p2dp = gp.plot_2d(geo_model,\n",
    "                  show_lith=False, show_boundaries=False, show_data=False,\n",
    "                  regular_grid=entropy_block,\n",
    "                  kwargs_regular_grid={'cmap': 'magma',\n",
    "                                       'norm': None}\n",
    "                  )\n",
    "\n"
   ],
   "metadata": {
    "collapsed": false,
    "pycharm": {
     "name": "#%%\n"
    }
   }
  },
  {
   "cell_type": "markdown",
   "source": [
    "## Intro to Bayesian Inference using pymc3"
   ],
   "metadata": {
    "collapsed": false,
    "pycharm": {
     "name": "#%% md\n"
    }
   }
  },
  {
   "cell_type": "code",
   "execution_count": 1,
   "outputs": [],
   "source": [
    "import gempy as gp\n",
    "import theano\n",
    "%matplotlib inline\n",
    "geo_model = gp.load_model_pickle('checkpoint3.pickle')\n",
    "indices_bool = geo_model.surface_points.df['surface'].isin(['surface1', 'surface2', 'surface3'])\n",
    "indices = geo_model.surface_points.df.index[indices_bool]\n",
    "Z_init = geo_model.surface_points.df.loc[indices, 'Z'].copy()"
   ],
   "metadata": {
    "collapsed": false,
    "pycharm": {
     "name": "#%%\n"
    }
   }
  },
  {
   "cell_type": "code",
   "execution_count": 2,
   "outputs": [],
   "source": [
    "#!pip install pymc3, arviz\n",
    "import arviz as az\n",
    "import pymc3 as pm\n",
    "import numpy as np\n"
   ],
   "metadata": {
    "collapsed": false,
    "pycharm": {
     "name": "#%%\n"
    }
   }
  },
  {
   "cell_type": "code",
   "execution_count": 3,
   "outputs": [],
   "source": [
    "import theano.tensor as tt\n",
    "\n",
    "def sample_grav(Z_var):\n",
    "    Z_loc = np.hstack([Z_init[[1,2,0]] + Z_var[0],\n",
    "                   Z_init[[3, 4]] + Z_var[1],\n",
    "                   Z_init[[5, 6, 7]] + Z_var[2]])\n",
    "\n",
    "\n",
    "    geo_model.modify_surface_points(indices, Z=Z_loc)\n",
    "    gp.compute_model(geo_model)\n",
    "\n",
    "    # Returns the 3d lith array\n",
    "    return geo_model.solutions.fw_gravity\n",
    "\n",
    "def sample_lith(Z_var):\n",
    "    Z_loc = np.hstack([Z_init[[1,2,0]] + Z_var[0],\n",
    "                   Z_init[[3, 4]] + Z_var[1],\n",
    "                   Z_init[[5, 6, 7]] + Z_var[2]])\n",
    "\n",
    "\n",
    "    geo_model.modify_surface_points(indices, Z=Z_loc)\n",
    "    gp.compute_model(geo_model)\n",
    "\n",
    "    # Returns the 3d lith array\n",
    "    return geo_model.solutions.lith_block\n",
    "\n",
    "\n",
    "class GemPyGrav(tt.Op):\n",
    "    itypes = [tt.fvector]\n",
    "    otypes = [tt.dvector]\n",
    "\n",
    "    def perform(self, node, inputs, outputs):\n",
    "        theta, = inputs\n",
    "        mu = sample_grav(theta)\n",
    "        outputs[0][0] = np.array(mu)\n",
    "\n",
    "class GemPyLith(tt.Op):\n",
    "    itypes = [tt.fvector]\n",
    "    otypes = [tt.dvector]\n",
    "\n",
    "    def perform(self, node, inputs, outputs):\n",
    "        theta, = inputs\n",
    "        mu = sample_lith(theta)\n",
    "        outputs[0][0] = np.array(mu)\n",
    "\n",
    "gempy_grav = GemPyGrav()\n",
    "gempy_lith = GemPyLith()"
   ],
   "metadata": {
    "collapsed": false,
    "pycharm": {
     "name": "#%%\n"
    }
   }
  },
  {
   "cell_type": "code",
   "execution_count": 4,
   "outputs": [],
   "source": [
    "with pm.Model() as model:\n",
    "    # Z_var = np.random.normal(0, # Mean certered on 0\n",
    "    #                  30, # Variance of the location\n",
    "    #                  size=3 # Number of random variables\n",
    "    #                  )\n",
    "\n",
    "\n",
    "    Z_var = pm.Normal('$Z_var$', 0, 30, dtype='float32', shape=3)\n",
    "    grav = pm.Deterministic('gravity', gempy_grav(Z_var))\n",
    "    lith = pm.Deterministic('lithologies', gempy_lith(Z_var))\n",
    "   # mu_l2 = pm.Normal('$\\mu_l2$', 0, 30)\n",
    "   # mu_l3 = pm.Normal('$\\mu_l3$', 0, 30)\n",
    "\n",
    "    # Z_loc = pm.Deterministic('Z_loc', np.hstack([Z_init[[1,2,0]] + Z_var[0],\n",
    "    #                    Z_init[[3, 4]] + Z_var[1],\n",
    "    #                    Z_init[[5, 6, 7]] + Z_var[2]]))\n",
    "\n",
    "\n",
    "    #sigma = pm.Gamma('$\\sigma$', 0.3, 3)\n",
    "\n",
    "    #y = pm.Normal('$y$', mu, sigma, observed=[-81])"
   ],
   "metadata": {
    "collapsed": false,
    "pycharm": {
     "name": "#%%\n"
    }
   }
  },
  {
   "cell_type": "code",
   "execution_count": 23,
   "outputs": [
    {
     "name": "stderr",
     "output_type": "stream",
     "text": [
      "Only 50 samples in chain.\n"
     ]
    },
    {
     "ename": "ValueError",
     "evalue": "Unused step method arguments: {'nchains'}",
     "output_type": "error",
     "traceback": [
      "\u001B[1;31m---------------------------------------------------------------------------\u001B[0m",
      "\u001B[1;31mValueError\u001B[0m                                Traceback (most recent call last)",
      "\u001B[1;32m<ipython-input-23-bc8254d42daa>\u001B[0m in \u001B[0;36m<module>\u001B[1;34m\u001B[0m\n\u001B[0;32m      1\u001B[0m \u001B[1;32mwith\u001B[0m \u001B[0mmodel\u001B[0m\u001B[1;33m:\u001B[0m\u001B[1;33m\u001B[0m\u001B[0m\n\u001B[1;32m----> 2\u001B[1;33m     \u001B[0mtrace\u001B[0m \u001B[1;33m=\u001B[0m \u001B[0mpm\u001B[0m\u001B[1;33m.\u001B[0m\u001B[0msample\u001B[0m\u001B[1;33m(\u001B[0m\u001B[1;36m50\u001B[0m\u001B[1;33m,\u001B[0m \u001B[0mcores\u001B[0m\u001B[1;33m=\u001B[0m\u001B[1;36m1\u001B[0m\u001B[1;33m,\u001B[0m \u001B[0mnchains\u001B[0m\u001B[1;33m=\u001B[0m\u001B[1;36m1\u001B[0m\u001B[1;33m,\u001B[0m \u001B[0mstep\u001B[0m \u001B[1;33m=\u001B[0m \u001B[0mpm\u001B[0m\u001B[1;33m.\u001B[0m\u001B[0mMetropolis\u001B[0m\u001B[1;33m(\u001B[0m\u001B[1;33m)\u001B[0m\u001B[1;33m,\u001B[0m \u001B[0mtune\u001B[0m\u001B[1;33m=\u001B[0m\u001B[1;36m50\u001B[0m\u001B[1;33m)\u001B[0m\u001B[1;33m\u001B[0m\u001B[0m\n\u001B[0m\u001B[0;32m      3\u001B[0m \u001B[1;33m\u001B[0m\u001B[0m\n",
      "\u001B[1;32m~\\miniconda3\\envs\\gp-dev\\lib\\site-packages\\pymc3\\sampling.py\u001B[0m in \u001B[0;36msample\u001B[1;34m(draws, step, init, n_init, start, trace, chain_idx, chains, cores, tune, progressbar, model, random_seed, discard_tuned_samples, compute_convergence_checks, **kwargs)\u001B[0m\n\u001B[0;32m    430\u001B[0m             \u001B[0mstep\u001B[0m \u001B[1;33m=\u001B[0m \u001B[0massign_step_methods\u001B[0m\u001B[1;33m(\u001B[0m\u001B[0mmodel\u001B[0m\u001B[1;33m,\u001B[0m \u001B[0mstep\u001B[0m\u001B[1;33m,\u001B[0m \u001B[0mstep_kwargs\u001B[0m\u001B[1;33m=\u001B[0m\u001B[0mkwargs\u001B[0m\u001B[1;33m)\u001B[0m\u001B[1;33m\u001B[0m\u001B[0m\n\u001B[0;32m    431\u001B[0m     \u001B[1;32melse\u001B[0m\u001B[1;33m:\u001B[0m\u001B[1;33m\u001B[0m\u001B[0m\n\u001B[1;32m--> 432\u001B[1;33m         \u001B[0mstep\u001B[0m \u001B[1;33m=\u001B[0m \u001B[0massign_step_methods\u001B[0m\u001B[1;33m(\u001B[0m\u001B[0mmodel\u001B[0m\u001B[1;33m,\u001B[0m \u001B[0mstep\u001B[0m\u001B[1;33m,\u001B[0m \u001B[0mstep_kwargs\u001B[0m\u001B[1;33m=\u001B[0m\u001B[0mkwargs\u001B[0m\u001B[1;33m)\u001B[0m\u001B[1;33m\u001B[0m\u001B[0m\n\u001B[0m\u001B[0;32m    433\u001B[0m \u001B[1;33m\u001B[0m\u001B[0m\n\u001B[0;32m    434\u001B[0m     \u001B[1;32mif\u001B[0m \u001B[0misinstance\u001B[0m\u001B[1;33m(\u001B[0m\u001B[0mstep\u001B[0m\u001B[1;33m,\u001B[0m \u001B[0mlist\u001B[0m\u001B[1;33m)\u001B[0m\u001B[1;33m:\u001B[0m\u001B[1;33m\u001B[0m\u001B[0m\n",
      "\u001B[1;32m~\\miniconda3\\envs\\gp-dev\\lib\\site-packages\\pymc3\\sampling.py\u001B[0m in \u001B[0;36massign_step_methods\u001B[1;34m(model, step, methods, step_kwargs)\u001B[0m\n\u001B[0;32m    185\u001B[0m             \u001B[0mselected_steps\u001B[0m\u001B[1;33m[\u001B[0m\u001B[0mselected\u001B[0m\u001B[1;33m]\u001B[0m\u001B[1;33m.\u001B[0m\u001B[0mappend\u001B[0m\u001B[1;33m(\u001B[0m\u001B[0mvar\u001B[0m\u001B[1;33m)\u001B[0m\u001B[1;33m\u001B[0m\u001B[0m\n\u001B[0;32m    186\u001B[0m \u001B[1;33m\u001B[0m\u001B[0m\n\u001B[1;32m--> 187\u001B[1;33m     \u001B[1;32mreturn\u001B[0m \u001B[0minstantiate_steppers\u001B[0m\u001B[1;33m(\u001B[0m\u001B[0mmodel\u001B[0m\u001B[1;33m,\u001B[0m \u001B[0msteps\u001B[0m\u001B[1;33m,\u001B[0m \u001B[0mselected_steps\u001B[0m\u001B[1;33m,\u001B[0m \u001B[0mstep_kwargs\u001B[0m\u001B[1;33m)\u001B[0m\u001B[1;33m\u001B[0m\u001B[0m\n\u001B[0m\u001B[0;32m    188\u001B[0m \u001B[1;33m\u001B[0m\u001B[0m\n\u001B[0;32m    189\u001B[0m \u001B[1;33m\u001B[0m\u001B[0m\n",
      "\u001B[1;32m~\\miniconda3\\envs\\gp-dev\\lib\\site-packages\\pymc3\\sampling.py\u001B[0m in \u001B[0;36minstantiate_steppers\u001B[1;34m(model, steps, selected_steps, step_kwargs)\u001B[0m\n\u001B[0;32m    111\u001B[0m     \u001B[0munused_args\u001B[0m \u001B[1;33m=\u001B[0m \u001B[0mset\u001B[0m\u001B[1;33m(\u001B[0m\u001B[0mstep_kwargs\u001B[0m\u001B[1;33m)\u001B[0m\u001B[1;33m.\u001B[0m\u001B[0mdifference\u001B[0m\u001B[1;33m(\u001B[0m\u001B[0mused_keys\u001B[0m\u001B[1;33m)\u001B[0m\u001B[1;33m\u001B[0m\u001B[0m\n\u001B[0;32m    112\u001B[0m     \u001B[1;32mif\u001B[0m \u001B[0munused_args\u001B[0m\u001B[1;33m:\u001B[0m\u001B[1;33m\u001B[0m\u001B[0m\n\u001B[1;32m--> 113\u001B[1;33m         \u001B[1;32mraise\u001B[0m \u001B[0mValueError\u001B[0m\u001B[1;33m(\u001B[0m\u001B[1;34m\"Unused step method arguments: %s\"\u001B[0m \u001B[1;33m%\u001B[0m \u001B[0munused_args\u001B[0m\u001B[1;33m)\u001B[0m\u001B[1;33m\u001B[0m\u001B[0m\n\u001B[0m\u001B[0;32m    114\u001B[0m \u001B[1;33m\u001B[0m\u001B[0m\n\u001B[0;32m    115\u001B[0m     \u001B[1;32mif\u001B[0m \u001B[0mlen\u001B[0m\u001B[1;33m(\u001B[0m\u001B[0msteps\u001B[0m\u001B[1;33m)\u001B[0m \u001B[1;33m==\u001B[0m \u001B[1;36m1\u001B[0m\u001B[1;33m:\u001B[0m\u001B[1;33m\u001B[0m\u001B[0m\n",
      "\u001B[1;31mValueError\u001B[0m: Unused step method arguments: {'nchains'}"
     ]
    }
   ],
   "source": [
    "with model:\n",
    "    trace = pm.sample(50, cores=1, nchains=1, step = pm.Metropolis(), tune=50)"
   ],
   "metadata": {
    "collapsed": false,
    "pycharm": {
     "name": "#%%\n"
    }
   }
  },
  {
   "cell_type": "code",
   "execution_count": 19,
   "outputs": [
    {
     "data": {
      "text/plain": "<graphviz.dot.Digraph at 0x18a7374e390>",
      "image/svg+xml": "<?xml version=\"1.0\" encoding=\"UTF-8\" standalone=\"no\"?>\r\n<!DOCTYPE svg PUBLIC \"-//W3C//DTD SVG 1.1//EN\"\r\n \"http://www.w3.org/Graphics/SVG/1.1/DTD/svg11.dtd\">\r\n<!-- Generated by graphviz version 2.38.0 (20140413.2041)\r\n -->\r\n<!-- Title: %3 Pages: 1 -->\r\n<svg width=\"194pt\" height=\"135pt\"\r\n viewBox=\"0.00 0.00 194.00 135.00\" xmlns=\"http://www.w3.org/2000/svg\" xmlns:xlink=\"http://www.w3.org/1999/xlink\">\r\n<g id=\"graph0\" class=\"graph\" transform=\"scale(1 1) rotate(0) translate(4 131)\">\r\n<title>%3</title>\r\n<polygon fill=\"white\" stroke=\"none\" points=\"-4,4 -4,-131 190,-131 190,4 -4,4\"/>\r\n<g id=\"clust1\" class=\"cluster\"><title>cluster3</title>\r\n<path fill=\"none\" stroke=\"black\" d=\"M20,-44C20,-44 166,-44 166,-44 172,-44 178,-50 178,-56 178,-56 178,-107 178,-107 178,-113 172,-119 166,-119 166,-119 20,-119 20,-119 14,-119 8,-113 8,-107 8,-107 8,-56 8,-56 8,-50 14,-44 20,-44\"/>\r\n<text text-anchor=\"middle\" x=\"166.5\" y=\"-51.8\" font-family=\"Times New Roman,serif\" font-size=\"14.00\">3</text>\r\n</g>\r\n<!-- $Z_var$ -->\r\n<g id=\"node1\" class=\"node\"><title>$Z_var$</title>\r\n<ellipse fill=\"none\" stroke=\"black\" cx=\"93\" cy=\"-93\" rx=\"77.1866\" ry=\"18\"/>\r\n<text text-anchor=\"middle\" x=\"93\" y=\"-89.3\" font-family=\"Times New Roman,serif\" font-size=\"14.00\">$Z_var$ ~ Normal</text>\r\n</g>\r\n<!-- gravity -->\r\n<g id=\"node2\" class=\"node\"><title>gravity</title>\r\n<polygon fill=\"none\" stroke=\"black\" points=\"164,-36 22,-36 22,-0 164,-0 164,-36\"/>\r\n<text text-anchor=\"middle\" x=\"93\" y=\"-14.3\" font-family=\"Times New Roman,serif\" font-size=\"14.00\">gravity ~ Deterministic</text>\r\n</g>\r\n<!-- $Z_var$&#45;&gt;gravity -->\r\n<g id=\"edge1\" class=\"edge\"><title>$Z_var$&#45;&gt;gravity</title>\r\n<path fill=\"none\" stroke=\"black\" d=\"M93,-74.7C93,-66.2452 93,-55.8688 93,-46.3732\"/>\r\n<polygon fill=\"black\" stroke=\"black\" points=\"96.5001,-46.1758 93,-36.1758 89.5001,-46.1758 96.5001,-46.1758\"/>\r\n</g>\r\n</g>\r\n</svg>\r\n"
     },
     "execution_count": 19,
     "metadata": {},
     "output_type": "execute_result"
    }
   ],
   "source": [
    "pm.model_to_graphviz(model)\n"
   ],
   "metadata": {
    "collapsed": false,
    "pycharm": {
     "name": "#%%\n"
    }
   }
  },
  {
   "cell_type": "code",
   "execution_count": 17,
   "outputs": [
    {
     "data": {
      "text/plain": "array([[<matplotlib.axes._subplots.AxesSubplot object at 0x0000018A739AE198>,\n        <matplotlib.axes._subplots.AxesSubplot object at 0x0000018A73ADA3C8>],\n       [<matplotlib.axes._subplots.AxesSubplot object at 0x0000018A73589748>,\n        <matplotlib.axes._subplots.AxesSubplot object at 0x0000018A735A4B70>],\n       [<matplotlib.axes._subplots.AxesSubplot object at 0x0000018A735BBDA0>,\n        <matplotlib.axes._subplots.AxesSubplot object at 0x0000018A735D6F28>],\n       [<matplotlib.axes._subplots.AxesSubplot object at 0x0000018A735F7630>,\n        <matplotlib.axes._subplots.AxesSubplot object at 0x0000018A73615A90>]],\n      dtype=object)"
     },
     "execution_count": 17,
     "metadata": {},
     "output_type": "execute_result"
    },
    {
     "data": {
      "text/plain": "<Figure size 864x576 with 8 Axes>",
      "image/png": "[encoded data removed]"
     },
     "metadata": {
      "needs_background": "light"
     },
     "output_type": "display_data"
    }
   ],
   "source": [
    "data = az.from_pymc3(trace=trace)\n",
    "az.plot_trace(data)\n",
    "\n"
   ],
   "metadata": {
    "collapsed": false,
    "pycharm": {
     "name": "#%%\n"
    }
   }
  },
  {
   "cell_type": "code",
   "execution_count": null,
   "outputs": [],
   "source": [
    "with pm.Model() as model:\n",
    "    # Z_var = np.random.normal(0, # Mean certered on 0\n",
    "    #                  30, # Variance of the location\n",
    "    #                  size=3 # Number of random variables\n",
    "    #                  )\n",
    "\n",
    "\n",
    "    Z_var = pm.Normal('$Z_var$', 0, 30, dtype='float32', shape=3)\n",
    "    grav = pm.Deterministic('gravity', gempy_grav(Z_var))\n",
    "    grav_observed = pm.Normal('$y$', grav, 5, observed=[-81])\n"
   ],
   "metadata": {
    "collapsed": false,
    "pycharm": {
     "name": "#%%\n"
    }
   }
  },
  {
   "cell_type": "code",
   "execution_count": null,
   "outputs": [],
   "source": [
    "with model:\n",
    "    trace = pm.sample(50, cores=1, nchains=1, step = pm.Metropolis(), tune=50)\n",
    "\n",
    "\n"
   ],
   "metadata": {
    "collapsed": false,
    "pycharm": {
     "name": "#%%\n"
    }
   }
  }
 ],
 "metadata": {
  "jupytext": {
   "split_at_heading": true
  },
  "kernelspec": {
   "name": "pycharm-8155ad1e",
   "language": "python",
   "display_name": "PyCharm (gempy)"
  },
  "language_info": {
   "codemirror_mode": {
    "name": "ipython",
    "version": 3
   },
   "file_extension": ".py",
   "mimetype": "text/x-python",
   "name": "python",
   "nbconvert_exporter": "python",
   "pygments_lexer": "ipython3",
   "version": "3.7.0"
  }
 },
 "nbformat": 4,
 "nbformat_minor": 2
}